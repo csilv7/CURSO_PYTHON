{
  "cells": [
    {
      "cell_type": "markdown",
      "metadata": {
        "id": "view-in-github",
        "colab_type": "text"
      },
      "source": [
        "<a href=\"https://colab.research.google.com/github/csilv7/CURSO_PYTHON/blob/main/MATERIAL_B%C3%81SICO.ipynb\" target=\"_parent\"><img src=\"https://colab.research.google.com/assets/colab-badge.svg\" alt=\"Open In Colab\"/></a>"
      ]
    },
    {
      "cell_type": "markdown",
      "source": [
        "Curso de aprendizado da Linguagem de Programação Python. Do Básico a Análise Exploratória de Dados.\n",
        "\n",
        "\n",
        "CURSO_PYTHON"
      ],
      "metadata": {
        "id": "nePgKOg0v9Xh"
      },
      "id": "nePgKOg0v9Xh"
    },
    {
      "cell_type": "markdown",
      "id": "73b9a5e9-5f6e-4efd-85cd-2b9b9a5046fd",
      "metadata": {
        "id": "73b9a5e9-5f6e-4efd-85cd-2b9b9a5046fd"
      },
      "source": [
        "# 1º Módulo: Python Básico."
      ]
    },
    {
      "cell_type": "markdown",
      "id": "1866f7bf-71ef-4103-8f7e-ba58530b3423",
      "metadata": {
        "id": "1866f7bf-71ef-4103-8f7e-ba58530b3423"
      },
      "source": [
        "## 1ª Aula: Introdução ao Python."
      ]
    },
    {
      "cell_type": "markdown",
      "id": "ee58cdb7-922e-49b3-8cde-09ce691b7d96",
      "metadata": {
        "id": "ee58cdb7-922e-49b3-8cde-09ce691b7d96"
      },
      "source": [
        "### O que é Python?\n",
        "\n",
        "*Python* é uma *linguagem de programação*. Isso significa basicamente duas coisas:\n",
        "\n",
        "1. Existem regras que determinam como as palavras são dispostas, já que é uma linguagem;\n",
        "2. O texto descreve instruções para o computador realizar tarefas.\n",
        "\n",
        "Ou seja, podemos escrever um documento - que chamamos de código fonte - em Python para o computador ler e realizar nossos desejos e tarefas. **Mas porque usar Python?** Python tem algumas características interessantes:\n",
        "\n",
        "* É interpretada, ou seja, o interpretador do Python executa o código fonte diretamente, traduzindo cada trecho para instruções de máquina;\n",
        "* É de alto nível, ou seja, o interpretador se vira com detalhes técnicos do computador. Assim, desenvolver um código é mais simples do que em linguagens de baixo nível, nas quais o programador deve se preocupar com detalhes da máquina;\n",
        "* É de propósito geral, ou seja, podemos usar Python para desenvolver programas em diversas áreas. Ao contrário de linguagens de domínio específico, que são especializadas e atendem somente a uma aplicação específica;\n",
        "* Têm tipos dinâmicos, ou seja, o interpretador faz a magia de descobrir o que é cada variável.\n",
        "\n",
        "Por essas e várias outras características, Python se torna uma linguagem simples, bela, legível e amigável. É uma linguagem utilizada por diversas empresas, como Wikipedia, Google, Yahoo!, CERN, NASA, Facebook, Amazon, Instagram, Spotify."
      ]
    },
    {
      "cell_type": "markdown",
      "id": "66696d75-c13a-49f3-8868-bdbbf3098bc4",
      "metadata": {
        "id": "66696d75-c13a-49f3-8868-bdbbf3098bc4"
      },
      "source": [
        "### Instalação (Anaconda) e primeiro contato com o Jupyter Notebook"
      ]
    },
    {
      "cell_type": "markdown",
      "id": "ac107c8c-5def-4c24-8c5c-d777a8bf2a96",
      "metadata": {
        "id": "ac107c8c-5def-4c24-8c5c-d777a8bf2a96"
      },
      "source": [
        "Acesse o link para realizar o download da Distribuição Anaconda: [https://www.anaconda.com/download](https://www.anaconda.com/download)\n",
        "\n",
        "Como material de auxílio para instalação, veja o video do YouTube: [vídeo de suporte](https://youtu.be/_eK0z5QbpKA?si=iqLmmQcuDoQqZ-b)\n",
        "\n",
        "---\n",
        "\n",
        "Qualquer dúvida, entrem em contato comigo:\n",
        "* Email: breno.silva@icen.ufpa.br\n",
        "* Telefone: (91) 9 8120-3378"
      ]
    },
    {
      "cell_type": "markdown",
      "id": "aaf4d5ed-752c-4c1a-a688-1ae179408c16",
      "metadata": {
        "id": "aaf4d5ed-752c-4c1a-a688-1ae179408c16"
      },
      "source": [
        "### Sintaxe Básica"
      ]
    },
    {
      "cell_type": "markdown",
      "id": "44c010d1-bab6-47ba-86e1-28841ea9f804",
      "metadata": {
        "id": "44c010d1-bab6-47ba-86e1-28841ea9f804"
      },
      "source": [
        "#### Função `print()`\n",
        "Vamos começar com o famoso e clássico, *Hello World*, em Python."
      ]
    },
    {
      "cell_type": "code",
      "execution_count": null,
      "id": "2763b416-0308-415d-a821-cd15287b968c",
      "metadata": {
        "colab": {
          "base_uri": "https://localhost:8080/"
        },
        "id": "2763b416-0308-415d-a821-cd15287b968c",
        "outputId": "e2cb0d32-5eed-4f7e-e82c-74170c77abab"
      },
      "outputs": [
        {
          "name": "stdout",
          "output_type": "stream",
          "text": [
            "Hello, World!\n"
          ]
        }
      ],
      "source": [
        "print(\"Hello, World!\")"
      ]
    },
    {
      "cell_type": "markdown",
      "id": "367e127c-7cf5-4564-81e5-8c55a1042d51",
      "metadata": {
        "id": "367e127c-7cf5-4564-81e5-8c55a1042d51"
      },
      "source": [
        "Em programação, é muito comum utilizar a palavra *imprimir* (ou *print*, em inglês) como sinônimo de mostrar algo na\n",
        "tela.\n",
        "\n",
        "---\n",
        "\n",
        "`print()` é uma função nativa do Python. Basta colocar algo dentro dos parênteses que o Python se encarrega de\n",
        "fazer a magia de escrever na tela! **:)**\n",
        "\n",
        "##### ***Erros Comuns:***\n",
        "* **Usar a letra P maiúscula ao invés de minúscula:**\n",
        "```\n",
        "[Input]  : Print(\"Hello World!\")\n",
        "[Output] : NameError: name 'Print' is not defined\n",
        "```\n",
        "\n",
        "* **Esquecer de abrir e fechar aspas no texto que é passado para a função `print()`:**\n",
        "```\n",
        "[Input]  : print(Hello, World!)\n",
        "[Output] : SyntaxError: invalid syntax\n",
        "```\n",
        "\n",
        "* **Esquecer de abrir ou fechar as aspas:**\n",
        "```\n",
        "[Input]  : print(\"Hello, World!)\n",
        "[Output] : SyntaxError: unterminated string literal (detected at line 1)\n",
        "```\n",
        "\n",
        "* **Começar com aspas simples e terminar com aspas duplas ou vice-versa:**\n",
        "```\n",
        "[Input]  : print('Hello, World!\")\n",
        "[Output] : SyntaxError: unterminated string literal (detected at line 1)\n",
        "```\n",
        "\n",
        "Mas, e se eu precisar usar aspas dentro do texto a ser mostrado na tela? Bem, caso queira imprimir aspas duplas ou apas simples, siga os dois exemplos abaixo:"
      ]
    },
    {
      "cell_type": "code",
      "execution_count": null,
      "id": "e72038f2-fa9d-4aca-80f0-4139115df2a5",
      "metadata": {
        "colab": {
          "base_uri": "https://localhost:8080/"
        },
        "id": "e72038f2-fa9d-4aca-80f0-4139115df2a5",
        "outputId": "6ff2a256-e3eb-4b84-c9da-bb28851603a3"
      },
      "outputs": [
        {
          "name": "stdout",
          "output_type": "stream",
          "text": [
            "Python é legal! Mas não o \"legal\" como dizem pra outras coisas\n",
            "Python é legal! Mas não o 'legal' como dizem pra outras coisas\n"
          ]
        }
      ],
      "source": [
        "print('Python é legal! Mas não o \"legal\" como dizem pra outras coisas')\n",
        "print(\"Python é legal! Mas não o 'legal' como dizem pra outras coisas\")"
      ]
    },
    {
      "cell_type": "markdown",
      "id": "4247d3b9-54be-4863-852a-7af7678b2a09",
      "metadata": {
        "id": "4247d3b9-54be-4863-852a-7af7678b2a09"
      },
      "source": [
        "E como faz para imprimir um texto em várias linhas? Bom, para isso precisamos lembrar de um caractere especial, a quebra de linha: n. Esse n é um caractere especial que significa aqui acaba a linha, o que vier depois deve ficar na linha de baixo. Por exemplo:"
      ]
    },
    {
      "cell_type": "code",
      "execution_count": null,
      "id": "409ec67a-8f05-405a-bfb6-d38548c091ac",
      "metadata": {
        "colab": {
          "base_uri": "https://localhost:8080/"
        },
        "id": "409ec67a-8f05-405a-bfb6-d38548c091ac",
        "outputId": "7659b0f6-6609-4c29-d5f8-35db2e51b637"
      },
      "outputs": [
        {
          "name": "stdout",
          "output_type": "stream",
          "text": [
            "Olha esse textão sobre aspas simples e dúplas. \n",
            " Isso aqui é aspas duplas: \" \n",
            " Isso aqui é aspas simples: '\n"
          ]
        }
      ],
      "source": [
        "print(\"Olha esse textão sobre aspas simples e dúplas. \\n Isso aqui é aspas duplas: \\\" \\n Isso aqui é aspas simples: '\")"
      ]
    },
    {
      "cell_type": "markdown",
      "id": "1ad6aa5b-f756-4f52-aec3-fc6a8833f5f1",
      "metadata": {
        "id": "1ad6aa5b-f756-4f52-aec3-fc6a8833f5f1"
      },
      "source": [
        "#### Operadores matemáticos\n",
        "A linguagem Python possui operadores que utilizam símbolos especiais para representar operações de cálculos, assim como na matemática:"
      ]
    },
    {
      "cell_type": "markdown",
      "id": "bd57a9b9-5ea6-42e1-9f76-a6b3149548d9",
      "metadata": {
        "id": "bd57a9b9-5ea6-42e1-9f76-a6b3149548d9"
      },
      "source": [
        "* Operação de Soma/Adição (**$+$**) & Operação de Subtração (**$-$**):"
      ]
    },
    {
      "cell_type": "code",
      "execution_count": null,
      "id": "bcc22a41-addd-4ce0-9064-ae31b9ea0483",
      "metadata": {
        "colab": {
          "base_uri": "https://localhost:8080/"
        },
        "id": "bcc22a41-addd-4ce0-9064-ae31b9ea0483",
        "outputId": "0985d13b-b7a2-40ed-9db5-ae63c19c330a"
      },
      "outputs": [
        {
          "data": {
            "text/plain": [
              "5"
            ]
          },
          "execution_count": 6,
          "metadata": {},
          "output_type": "execute_result"
        }
      ],
      "source": [
        "2 + 3"
      ]
    },
    {
      "cell_type": "code",
      "execution_count": null,
      "id": "6bdd2be1-472c-4e7b-b949-22eea43ce996",
      "metadata": {
        "colab": {
          "base_uri": "https://localhost:8080/"
        },
        "id": "6bdd2be1-472c-4e7b-b949-22eea43ce996",
        "outputId": "8b536b0c-8808-4515-b2a2-029f2094d41c"
      },
      "outputs": [
        {
          "data": {
            "text/plain": [
              "6.720000000000001"
            ]
          },
          "execution_count": 7,
          "metadata": {},
          "output_type": "execute_result"
        }
      ],
      "source": [
        "1.77 + 4.95"
      ]
    },
    {
      "cell_type": "code",
      "execution_count": null,
      "id": "406734cd-d618-4475-b776-f1573f91fce5",
      "metadata": {
        "colab": {
          "base_uri": "https://localhost:8080/"
        },
        "id": "406734cd-d618-4475-b776-f1573f91fce5",
        "outputId": "6d79c3dc-3c25-4df6-9229-3f84b2efae60"
      },
      "outputs": [
        {
          "data": {
            "text/plain": [
              "2"
            ]
          },
          "execution_count": 8,
          "metadata": {},
          "output_type": "execute_result"
        }
      ],
      "source": [
        "6 - 4"
      ]
    },
    {
      "cell_type": "code",
      "execution_count": null,
      "id": "21b3bd38-e414-4010-aa8f-d0f42fe393e0",
      "metadata": {
        "colab": {
          "base_uri": "https://localhost:8080/"
        },
        "id": "21b3bd38-e414-4010-aa8f-d0f42fe393e0",
        "outputId": "83afb7aa-2c62-463e-8de5-c1381b9f7c8e"
      },
      "outputs": [
        {
          "data": {
            "text/plain": [
              "-1"
            ]
          },
          "execution_count": 9,
          "metadata": {},
          "output_type": "execute_result"
        }
      ],
      "source": [
        "7 - 8"
      ]
    },
    {
      "cell_type": "code",
      "execution_count": null,
      "id": "69bd9876-e538-4df6-81b4-7ec304326a8e",
      "metadata": {
        "colab": {
          "base_uri": "https://localhost:8080/"
        },
        "id": "69bd9876-e538-4df6-81b4-7ec304326a8e",
        "outputId": "c6960016-7e16-4640-d379-c6d35fe687c9"
      },
      "outputs": [
        {
          "data": {
            "text/plain": [
              "-1.1700000000000008"
            ]
          },
          "execution_count": 10,
          "metadata": {},
          "output_type": "execute_result"
        }
      ],
      "source": [
        "5.77 - 6.94"
      ]
    },
    {
      "cell_type": "markdown",
      "id": "5bdc3b84-d4c3-434f-89a7-2afe31a08298",
      "metadata": {
        "id": "5bdc3b84-d4c3-434f-89a7-2afe31a08298"
      },
      "source": [
        "* Operação de Multiplicação/Produto (**$ * $**) & Operação de Divisão (**$ / $**):"
      ]
    },
    {
      "cell_type": "code",
      "execution_count": null,
      "id": "1087e8ea-da75-4c61-bc28-95a71b3fb652",
      "metadata": {
        "colab": {
          "base_uri": "https://localhost:8080/"
        },
        "id": "1087e8ea-da75-4c61-bc28-95a71b3fb652",
        "outputId": "9fbdb7f2-8170-4b8d-e7d5-81ac74a0f26f"
      },
      "outputs": [
        {
          "data": {
            "text/plain": [
              "56"
            ]
          },
          "execution_count": 11,
          "metadata": {},
          "output_type": "execute_result"
        }
      ],
      "source": [
        "7 * 8"
      ]
    },
    {
      "cell_type": "code",
      "execution_count": null,
      "id": "9e6a3032-fa67-43a0-af3c-5d7d4307ec59",
      "metadata": {
        "colab": {
          "base_uri": "https://localhost:8080/"
        },
        "id": "9e6a3032-fa67-43a0-af3c-5d7d4307ec59",
        "outputId": "1c66a695-3cad-486d-c71a-ab55174ec260"
      },
      "outputs": [
        {
          "data": {
            "text/plain": [
              "66.75"
            ]
          },
          "execution_count": 12,
          "metadata": {},
          "output_type": "execute_result"
        }
      ],
      "source": [
        "7.5 * 8.9"
      ]
    },
    {
      "cell_type": "code",
      "execution_count": null,
      "id": "85988fb0-7499-411f-856d-ddcb3fcf0563",
      "metadata": {
        "colab": {
          "base_uri": "https://localhost:8080/"
        },
        "id": "85988fb0-7499-411f-856d-ddcb3fcf0563",
        "outputId": "54006963-8074-465e-83cb-440335b4b22c"
      },
      "outputs": [
        {
          "data": {
            "text/plain": [
              "8"
            ]
          },
          "execution_count": 13,
          "metadata": {},
          "output_type": "execute_result"
        }
      ],
      "source": [
        "2 * 2 * 2"
      ]
    },
    {
      "cell_type": "code",
      "execution_count": null,
      "id": "f379481f-821c-4e08-8fe5-2317862c88e8",
      "metadata": {
        "colab": {
          "base_uri": "https://localhost:8080/"
        },
        "id": "f379481f-821c-4e08-8fe5-2317862c88e8",
        "outputId": "62bd7877-d7d5-418a-ae07-d7617a20271a"
      },
      "outputs": [
        {
          "data": {
            "text/plain": [
              "3.3333333333333335"
            ]
          },
          "execution_count": 14,
          "metadata": {},
          "output_type": "execute_result"
        }
      ],
      "source": [
        "10 / 3"
      ]
    },
    {
      "cell_type": "code",
      "execution_count": null,
      "id": "abc9346e-b02c-4024-ad4b-521a50610b27",
      "metadata": {
        "colab": {
          "base_uri": "https://localhost:8080/"
        },
        "id": "abc9346e-b02c-4024-ad4b-521a50610b27",
        "outputId": "16768277-001b-4df5-e9be-5e6b48bb6081"
      },
      "outputs": [
        {
          "data": {
            "text/plain": [
              "4.861313868613139"
            ]
          },
          "execution_count": 15,
          "metadata": {},
          "output_type": "execute_result"
        }
      ],
      "source": [
        "666 / 137"
      ]
    },
    {
      "cell_type": "code",
      "execution_count": null,
      "id": "c245f2bf-005b-41e8-bb13-381e5bf2a37d",
      "metadata": {
        "colab": {
          "base_uri": "https://localhost:8080/"
        },
        "id": "c245f2bf-005b-41e8-bb13-381e5bf2a37d",
        "outputId": "9d780dcc-eb99-4d60-e14b-9479b9f299bd"
      },
      "outputs": [
        {
          "data": {
            "text/plain": [
              "66.66666666666667"
            ]
          },
          "execution_count": 16,
          "metadata": {},
          "output_type": "execute_result"
        }
      ],
      "source": [
        "50 / 0.75"
      ]
    },
    {
      "cell_type": "markdown",
      "id": "98a4b9e1-2574-4a1c-bd13-99d364ee097e",
      "metadata": {
        "id": "98a4b9e1-2574-4a1c-bd13-99d364ee097e"
      },
      "source": [
        "E se fizermos uma divisão por zero?"
      ]
    },
    {
      "cell_type": "code",
      "execution_count": null,
      "id": "f6ad20c3-f9d5-4c54-bf39-5f55be6068b3",
      "metadata": {
        "colab": {
          "base_uri": "https://localhost:8080/",
          "height": 144
        },
        "id": "f6ad20c3-f9d5-4c54-bf39-5f55be6068b3",
        "outputId": "ab321768-c42d-4232-a778-c078d8235ed8"
      },
      "outputs": [
        {
          "ename": "ZeroDivisionError",
          "evalue": "division by zero",
          "output_type": "error",
          "traceback": [
            "\u001b[0;31m---------------------------------------------------------------------------\u001b[0m",
            "\u001b[0;31mZeroDivisionError\u001b[0m                         Traceback (most recent call last)",
            "\u001b[0;32m<ipython-input-17-bc757c3fda29>\u001b[0m in \u001b[0;36m<cell line: 1>\u001b[0;34m()\u001b[0m\n\u001b[0;32m----> 1\u001b[0;31m \u001b[0;36m1\u001b[0m \u001b[0;34m/\u001b[0m \u001b[0;36m0\u001b[0m\u001b[0;34m\u001b[0m\u001b[0;34m\u001b[0m\u001b[0m\n\u001b[0m",
            "\u001b[0;31mZeroDivisionError\u001b[0m: division by zero"
          ]
        }
      ],
      "source": [
        "1 / 0"
      ]
    },
    {
      "cell_type": "markdown",
      "id": "f0c56bcf-4e64-463d-a3cc-a9fa7aee87cc",
      "metadata": {
        "id": "f0c56bcf-4e64-463d-a3cc-a9fa7aee87cc"
      },
      "source": [
        "* Outras formas de dividir:"
      ]
    },
    {
      "cell_type": "markdown",
      "id": "8d32f1de-f167-4141-aeea-6514cc77aa17",
      "metadata": {
        "id": "8d32f1de-f167-4141-aeea-6514cc77aa17"
      },
      "source": [
        "1. Divisão inteira ( **$//$** ):"
      ]
    },
    {
      "cell_type": "code",
      "execution_count": null,
      "id": "6eb9b1c3-4c21-4c99-a6bf-e20738142464",
      "metadata": {
        "colab": {
          "base_uri": "https://localhost:8080/"
        },
        "id": "6eb9b1c3-4c21-4c99-a6bf-e20738142464",
        "outputId": "7b884d06-f0f5-4122-ed15-6d397231583d"
      },
      "outputs": [
        {
          "data": {
            "text/plain": [
              "3"
            ]
          },
          "execution_count": 18,
          "metadata": {},
          "output_type": "execute_result"
        }
      ],
      "source": [
        "10 // 3"
      ]
    },
    {
      "cell_type": "code",
      "execution_count": null,
      "id": "2fde0d45-cb64-47fc-ac28-43ea42ad03e7",
      "metadata": {
        "id": "2fde0d45-cb64-47fc-ac28-43ea42ad03e7"
      },
      "outputs": [],
      "source": [
        "666 // 137"
      ]
    },
    {
      "cell_type": "code",
      "execution_count": null,
      "id": "63af6aa1-3764-46b7-b66b-83c3cab73101",
      "metadata": {
        "colab": {
          "base_uri": "https://localhost:8080/"
        },
        "id": "63af6aa1-3764-46b7-b66b-83c3cab73101",
        "outputId": "552aec95-56e0-4323-b33b-738624f6a215"
      },
      "outputs": [
        {
          "data": {
            "text/plain": [
              "66.0"
            ]
          },
          "execution_count": 19,
          "metadata": {},
          "output_type": "execute_result"
        }
      ],
      "source": [
        "50 // 0.75"
      ]
    },
    {
      "cell_type": "markdown",
      "id": "79668039-b2f5-46cd-b12e-2cd20e26ca6b",
      "metadata": {
        "id": "79668039-b2f5-46cd-b12e-2cd20e26ca6b"
      },
      "source": [
        "2. Resto da Divisão ( **$\\%$** ):"
      ]
    },
    {
      "cell_type": "code",
      "execution_count": null,
      "id": "a77745eb-0c61-46bf-8c54-4e0fff8696bb",
      "metadata": {
        "colab": {
          "base_uri": "https://localhost:8080/"
        },
        "id": "a77745eb-0c61-46bf-8c54-4e0fff8696bb",
        "outputId": "6dbaf3df-0a4c-48df-e4ae-4035d1e5d71f"
      },
      "outputs": [
        {
          "data": {
            "text/plain": [
              "1"
            ]
          },
          "execution_count": 20,
          "metadata": {},
          "output_type": "execute_result"
        }
      ],
      "source": [
        "1 % 2"
      ]
    },
    {
      "cell_type": "code",
      "execution_count": null,
      "id": "c7c7f371-8b9a-4fba-94e1-c8967046a122",
      "metadata": {
        "colab": {
          "base_uri": "https://localhost:8080/"
        },
        "id": "c7c7f371-8b9a-4fba-94e1-c8967046a122",
        "outputId": "aaab471e-2bdb-44de-aa94-36af9b8b7f29"
      },
      "outputs": [
        {
          "data": {
            "text/plain": [
              "0"
            ]
          },
          "execution_count": 21,
          "metadata": {},
          "output_type": "execute_result"
        }
      ],
      "source": [
        "4 % 2"
      ]
    },
    {
      "cell_type": "code",
      "execution_count": null,
      "id": "ad500ebf-d3f9-449f-9b68-13b41dd8b3fe",
      "metadata": {
        "colab": {
          "base_uri": "https://localhost:8080/"
        },
        "id": "ad500ebf-d3f9-449f-9b68-13b41dd8b3fe",
        "outputId": "542a3230-2481-4fe9-9170-e46887165856"
      },
      "outputs": [
        {
          "data": {
            "text/plain": [
              "0"
            ]
          },
          "execution_count": 22,
          "metadata": {},
          "output_type": "execute_result"
        }
      ],
      "source": [
        "9 % 3"
      ]
    },
    {
      "cell_type": "markdown",
      "id": "a3d2d364-0be5-4f38-b062-ca328a198c4a",
      "metadata": {
        "id": "a3d2d364-0be5-4f38-b062-ca328a198c4a"
      },
      "source": [
        "Agora que aprendemos os operadores aritméticos básicos podemos seguir adiante. Como podemos calcular $2^{10}$? O jeito mais óbvio seria multiplicar o número dois dez vezes:"
      ]
    },
    {
      "cell_type": "code",
      "execution_count": null,
      "id": "e4ae0c10-8d19-47a4-91ae-8ffcc69a60fd",
      "metadata": {
        "id": "e4ae0c10-8d19-47a4-91ae-8ffcc69a60fd"
      },
      "outputs": [],
      "source": [
        "2 * 2 * 2 * 2 * 2 * 2 * 2 * 2 * 2 * 2"
      ]
    },
    {
      "cell_type": "markdown",
      "id": "765acf58-16fa-467a-a88a-5e9c44c672b5",
      "metadata": {
        "id": "765acf58-16fa-467a-a88a-5e9c44c672b5"
      },
      "source": [
        "Porém, isso não é muito prático, pois há um operador específico para isso, chamado de Potenciação/Exponenciação: ( **$**$** ):"
      ]
    },
    {
      "cell_type": "code",
      "execution_count": null,
      "id": "27d46a83-7778-4e17-966d-ad51fa02fbed",
      "metadata": {
        "id": "27d46a83-7778-4e17-966d-ad51fa02fbed"
      },
      "outputs": [],
      "source": [
        "2 ** 10"
      ]
    },
    {
      "cell_type": "code",
      "execution_count": null,
      "id": "c05664ac-85f2-4345-9145-f5a92a846ef7",
      "metadata": {
        "id": "c05664ac-85f2-4345-9145-f5a92a846ef7"
      },
      "outputs": [],
      "source": [
        "10 ** 3"
      ]
    },
    {
      "cell_type": "code",
      "execution_count": null,
      "id": "8d81db4c-150d-49c6-b829-363f4ca2468b",
      "metadata": {
        "id": "8d81db4c-150d-49c6-b829-363f4ca2468b"
      },
      "outputs": [],
      "source": [
        "9 ** 0"
      ]
    },
    {
      "cell_type": "markdown",
      "id": "3bdb803c-5a45-45ee-95e9-0339fb2e9f9b",
      "metadata": {
        "id": "3bdb803c-5a45-45ee-95e9-0339fb2e9f9b"
      },
      "source": [
        "E a *raiz quadrada*? Lembrando que $\\sqrt{x} = x^{\\frac{1}{2}}$, então podemos calcular a raiz quadrada do seguinte modo:"
      ]
    },
    {
      "cell_type": "code",
      "execution_count": null,
      "id": "aee31f08-9602-4f1a-8514-681441ab576f",
      "metadata": {
        "id": "aee31f08-9602-4f1a-8514-681441ab576f"
      },
      "outputs": [],
      "source": [
        "81 ** 0.5"
      ]
    },
    {
      "cell_type": "markdown",
      "id": "9f424205-882d-43f7-b311-3f5578d18cff",
      "metadata": {
        "id": "9f424205-882d-43f7-b311-3f5578d18cff"
      },
      "source": [
        "Porém, a maneira mais recomendada para fazer isso é usar a função `sqrt()` da biblioteca **math**:"
      ]
    },
    {
      "cell_type": "code",
      "execution_count": null,
      "id": "84e759d5-451b-4469-8781-8b49628a309e",
      "metadata": {
        "id": "84e759d5-451b-4469-8781-8b49628a309e"
      },
      "outputs": [],
      "source": [
        "import math\n",
        "math.sqrt(81)"
      ]
    },
    {
      "cell_type": "markdown",
      "id": "83c0ac58-55f8-4add-88a4-ef387c0c5881",
      "metadata": {
        "id": "83c0ac58-55f8-4add-88a4-ef387c0c5881"
      },
      "source": [
        "Na primeira linha do exemplo importamos, da biblioteca padrão do Python, o módulo **math** e então usamos a sua função `sqrt()` para calcular $\\sqrt{81}$. Não esqueça que é preciso ter executado `import math` antes de usar as funções e constantes dessa biblioteca."
      ]
    },
    {
      "cell_type": "markdown",
      "id": "0130ea6b-dd38-47b2-a19d-83be21aa5522",
      "metadata": {
        "id": "0130ea6b-dd38-47b2-a19d-83be21aa5522"
      },
      "source": [
        "##### Expressões Numéricas\n",
        "Agora que já aprendemos diversos operadores, podemos combiná-los e resolver problemas mais complexos:"
      ]
    },
    {
      "cell_type": "code",
      "execution_count": null,
      "id": "57b12f73-100f-4a89-955e-f38ee9584182",
      "metadata": {
        "id": "57b12f73-100f-4a89-955e-f38ee9584182"
      },
      "outputs": [],
      "source": [
        "3 + 4 * 2"
      ]
    },
    {
      "cell_type": "code",
      "execution_count": null,
      "id": "9f456975-8097-4067-acc5-904a46496b01",
      "metadata": {
        "id": "9f456975-8097-4067-acc5-904a46496b01"
      },
      "outputs": [],
      "source": [
        "7 + 3 * 6 - 4 ** 2"
      ]
    },
    {
      "cell_type": "code",
      "execution_count": null,
      "id": "8d628943-45df-46da-be76-f3caa2c4f3b5",
      "metadata": {
        "id": "8d628943-45df-46da-be76-f3caa2c4f3b5"
      },
      "outputs": [],
      "source": [
        "(3 + 4) * 2"
      ]
    },
    {
      "cell_type": "code",
      "execution_count": null,
      "id": "e77d6b74-5334-4b87-b9e6-4dae9c5167bc",
      "metadata": {
        "id": "e77d6b74-5334-4b87-b9e6-4dae9c5167bc"
      },
      "outputs": [],
      "source": [
        "1 / (8 / 4) ** (5 - 2)"
      ]
    },
    {
      "cell_type": "markdown",
      "id": "1c87b109-bece-4d2d-986c-b9a154e3b05a",
      "metadata": {
        "id": "1c87b109-bece-4d2d-986c-b9a154e3b05a"
      },
      "source": [
        "Quando mais de um operador aparece em uma expressão, a ordem de avaliação depende das regras de precedência.\n",
        "O Python segue as mesmas regras de precedência da matemática. O acrônimo **PEMDAS** ajuda a lembrar essa ordem:\n",
        "1. **P**arênteses\n",
        "2. **E**xponenciação\n",
        "3. **M**ultiplicação e **D**ivisão (mesma precedência)\n",
        "4. **A**dição e **S**ubtração (mesma precedência)"
      ]
    },
    {
      "cell_type": "markdown",
      "id": "2c324ee1-4587-48b7-a698-2ef4dad2248a",
      "metadata": {
        "id": "2c324ee1-4587-48b7-a698-2ef4dad2248a"
      },
      "source": [
        "##### **Nota:**\n",
        "\n",
        "Você observou um comportamento inesperado ao trabalhar com números decimais em Python, mas isso não é um erro no seu código ou na linguagem. Na verdade, essa é uma característica inerente à forma como os computadores representam números de ponto flutuante.\n",
        "\n",
        "**Por que isso acontece?**\n",
        "\n",
        "A maioria dos computadores utiliza a representação binária (base 2) para armazenar números. O problema é que muitas frações decimais (base 10), como 0.1, não podem ser representadas exatamente como frações binárias. Isso ocorre porque a representação binária tem um número finito de dígitos, assim como a representação decimal.\n",
        "\n",
        "Imagine tentar representar 1/3 em decimal: 0.33333... A sequência de 3's se repete infinitamente. Da mesma forma, ao converter 0.1 para binário, obtemos uma fração infinita.\n",
        "\n",
        "**IEEE 754 e a precisão limitada:**\n",
        "\n",
        "A maioria dos computadores modernos utiliza o padrão IEEE 754 para representar números de ponto flutuante. Esse padrão define como os números são armazenados em memória, incluindo a precisão. Em Python, os números de ponto flutuante geralmente correspondem à precisão dupla do IEEE 754, que oferece 53 bits de precisão.\n",
        "\n",
        "Quando você digita 0.1 em Python, o computador tenta encontrar a fração binária mais próxima que possa ser representada com esses 53 bits. O resultado é um valor muito próximo de 0.1, mas não exatamente igual.\n",
        "\n",
        "**Implicações práticas:**\n",
        "\n",
        "Essa limitação na representação de números em ponto flutuante pode levar a pequenos erros de arredondamento em cálculos. Por exemplo, 0.1 + 0.2 pode não resultar em exatamente 0.3."
      ]
    },
    {
      "cell_type": "markdown",
      "id": "c79d211c-62fe-473c-a0fa-b8b4188ae64c",
      "metadata": {
        "id": "c79d211c-62fe-473c-a0fa-b8b4188ae64c"
      },
      "source": [
        "#### Comparações Lógicas\n",
        "\n",
        "Os operadores de comparação em Python são:\n",
        "\n",
        "| Operação | Significado |\n",
        "|--------- |-------------|\n",
        "| <        | menor que   |\n",
        "| >        | maior que   |\n",
        "| <=       | menor ou igual que |\n",
        "| >=       | maior ou igual que |\n",
        "| ==       | igual |\n",
        "| !=       | Diferente |\n",
        "\n",
        "#### Conectores Lógicos\n",
        "| Operação | Significado |\n",
        "|--------- |-------------|\n",
        "| and      | 1ª condição **E** 2ª condição |\n",
        "| or       | 1ª condição **OU** 2ª condição |\n",
        "| not      | Negação (Não) |\n",
        "| in       | Está contido |"
      ]
    },
    {
      "cell_type": "code",
      "execution_count": null,
      "id": "2f179db4-f824-4e61-bffe-3fc4a077363b",
      "metadata": {
        "id": "2f179db4-f824-4e61-bffe-3fc4a077363b"
      },
      "outputs": [],
      "source": [
        "2 < 10"
      ]
    },
    {
      "cell_type": "code",
      "execution_count": null,
      "id": "a475eae9-6bed-4066-a66d-a3b574120431",
      "metadata": {
        "id": "a475eae9-6bed-4066-a66d-a3b574120431"
      },
      "outputs": [],
      "source": [
        "2 > 11"
      ]
    },
    {
      "cell_type": "code",
      "execution_count": null,
      "id": "6a3344e8-c830-4fe8-939c-5b5253235b5f",
      "metadata": {
        "id": "6a3344e8-c830-4fe8-939c-5b5253235b5f"
      },
      "outputs": [],
      "source": [
        "print('Comparação Lógica - 10 menor que 10:', 10 < 10)\n",
        "print('Comparação Lógica - 10 maior que 10:', 10 > 10)\n",
        "print('Comparação Lógica - 10 menor ou igual a 10:', 10 <= 10)\n",
        "print('Comparação Lógica - 10 maior ou igual a 10:', 10 >= 10)\n",
        "print('Comparação Lógica - 10 igual a 10:', 10 == 10)\n",
        "print('Comparação Lógica - 10 diferente de 10:', 10 != 10)"
      ]
    },
    {
      "cell_type": "code",
      "execution_count": null,
      "id": "617e9f64-0dba-4557-b588-67e8fa9029fe",
      "metadata": {
        "id": "617e9f64-0dba-4557-b588-67e8fa9029fe"
      },
      "outputs": [],
      "source": [
        "print((1 and 4) < 3)\n",
        "print((1 or 4) < 3)\n",
        "print((1 and 2 and 2.99) < 3)\n",
        "print((1 or 2 or 2.99) > 3)"
      ]
    },
    {
      "cell_type": "code",
      "execution_count": null,
      "id": "799fabed-f124-4605-b8e5-b87603b9dc30",
      "metadata": {
        "id": "799fabed-f124-4605-b8e5-b87603b9dc30"
      },
      "outputs": [],
      "source": [
        "print((5 >= 4.99) and (10 <= 10.01))\n",
        "print((5 >= 4.99) and (10 == 10.01))"
      ]
    },
    {
      "cell_type": "code",
      "execution_count": null,
      "id": "76381205-e53d-4d2c-9671-8f767eab767c",
      "metadata": {
        "id": "76381205-e53d-4d2c-9671-8f767eab767c"
      },
      "outputs": [],
      "source": [
        "print((5 >= 4.99) or (10 <= 10.01))\n",
        "print((5 >= 4.99) or (10 == 10.01))"
      ]
    },
    {
      "cell_type": "code",
      "execution_count": null,
      "id": "f6010dbc-c834-4795-85a0-f48add52fd13",
      "metadata": {
        "id": "f6010dbc-c834-4795-85a0-f48add52fd13"
      },
      "outputs": [],
      "source": [
        "print(1 == 1)\n",
        "print(not 1 == 1)\n",
        "print(not not 1 == 1)\n",
        "print(not not not 1 == 1)"
      ]
    },
    {
      "cell_type": "markdown",
      "id": "d5d6e4a3-5ec8-453b-8272-3786d35076e7",
      "metadata": {
        "id": "d5d6e4a3-5ec8-453b-8272-3786d35076e7"
      },
      "source": [
        "* Operador **and (e)**:\n",
        "\n",
        "| Valor 1    | Valor 2    | Resultado  |\n",
        "|---         |---         |---         |\n",
        "| Verdadeiro | Verdadeiro | Verdadeiro |\n",
        "| Verdadeiro | Falso      | Falso      |\n",
        "| Falso      | Verdadeiro | Falso      |\n",
        "| Falso      | Falso      | Falso      |\n",
        "\n",
        "* Operador **or (ou)**:\n",
        "\n",
        "| Valor 1    | Valor 2    | Resultado  |\n",
        "|---         |---         |---         |\n",
        "| Verdadeiro | Verdadeiro | Verdadeiro |\n",
        "| Verdadeiro | Falso      | Verdadeiro |\n",
        "| Falso      | Verdadeiro | Verdadeiro |\n",
        "| Falso      | Falso      | Falso      |\n",
        "\n",
        "* Operador **not (não)**:\n",
        "\n",
        "| Valor      | Resultado  |\n",
        "|---         |---         |\n",
        "| Verdadeiro | Falso      |\n",
        "| Falso      | Verdadeiro |\n",
        "\n",
        "\n",
        "> **Nota:** Assim como os operadores aritméticos, os operadores boleanos também possuem uma ordem de prioridade:\n",
        "* `not` tem maior prioridade que `and` que tem maior prioridade que `or`:"
      ]
    },
    {
      "cell_type": "code",
      "execution_count": null,
      "id": "wVJSsUnvEh7B",
      "metadata": {
        "id": "wVJSsUnvEh7B"
      },
      "outputs": [],
      "source": [
        "not False and True or False"
      ]
    },
    {
      "cell_type": "markdown",
      "id": "0a4b953c-63b8-415f-835b-45800c2da387",
      "metadata": {
        "id": "0a4b953c-63b8-415f-835b-45800c2da387"
      },
      "source": [
        "#### Variáveis e Atribuições\n",
        "Variável: nome que se refere a um valor. \\\n",
        "Atribuição: processo de criar uma nova variável e dar um novo valor a ela.\n",
        "\n",
        "Exemplos:"
      ]
    },
    {
      "cell_type": "code",
      "execution_count": null,
      "id": "9775eca9-3f07-4cbe-bcb5-cb947b0c0ae7",
      "metadata": {
        "id": "9775eca9-3f07-4cbe-bcb5-cb947b0c0ae7"
      },
      "outputs": [],
      "source": [
        "numero = 2 * 3\n",
        "numero"
      ]
    },
    {
      "cell_type": "code",
      "execution_count": null,
      "id": "7d244528-24af-4be4-9e76-83fff161e674",
      "metadata": {
        "id": "7d244528-24af-4be4-9e76-83fff161e674"
      },
      "outputs": [],
      "source": [
        "frase = \"Me dá um copo d'água.\"\n",
        "frase"
      ]
    },
    {
      "cell_type": "code",
      "execution_count": null,
      "id": "1b685f64-7119-4e42-bbe3-29eebbbbd38c",
      "metadata": {
        "id": "1b685f64-7119-4e42-bbe3-29eebbbbd38c"
      },
      "outputs": [],
      "source": [
        "pi = 3.141592\n",
        "print(pi)\n",
        "\n",
        "pi = math.pi\n",
        "print(pi)"
      ]
    },
    {
      "cell_type": "markdown",
      "id": "feb3d251-f34b-4fd5-aa37-6d3caf221d43",
      "metadata": {
        "id": "feb3d251-f34b-4fd5-aa37-6d3caf221d43"
      },
      "source": [
        "No exemplo anterior realizamos três atribuições. No primeiro atribuímos um número inteiro à variável de nome `numero`; no segundo uma frase à variável `frase`; no último um número de ponto flutuante à `pi`.\n",
        "\n",
        "##### Nome para Variáveis\n",
        "Bons programadores escolhem nomes significativos para as suas variáveis - eles documentam o propósito da variável.\n",
        "\n",
        "Nomes de variáveis podem ter o tamanho que você achar necessário e podem conter tanto letras como números, porém não podem começar com números. É possível usar letras maiúsculas, porém a convenção é utilizar somente letras minúsculas para nomes de variáveis."
      ]
    },
    {
      "cell_type": "code",
      "execution_count": null,
      "id": "90f6b87d-b5f5-4d09-8e2b-fd57d61a390b",
      "metadata": {
        "id": "90f6b87d-b5f5-4d09-8e2b-fd57d61a390b"
      },
      "outputs": [],
      "source": [
        "crieiumavariavelcomnomegiganteeestoucompreguiçadeescrevertudodenovo = 10\n",
        "crieiumavariavelcomnomegiganteeestoucompreguiçadeescrevertudodenovo"
      ]
    },
    {
      "cell_type": "markdown",
      "id": "2e70080d-f27b-405f-bf9d-096f37bc3da7",
      "metadata": {
        "id": "2e70080d-f27b-405f-bf9d-096f37bc3da7"
      },
      "source": [
        "Tentar dar um nome ilegal a uma variável ocasionará erro de sintaxe:"
      ]
    },
    {
      "cell_type": "code",
      "execution_count": null,
      "id": "59c236ed-8391-401b-a88c-8e9e66bd71e0",
      "metadata": {
        "id": "59c236ed-8391-401b-a88c-8e9e66bd71e0",
        "colab": {
          "base_uri": "https://localhost:8080/",
          "height": 106
        },
        "outputId": "9082bc36-e455-4dd1-bb76-5215ca50a8fb"
      },
      "outputs": [
        {
          "output_type": "error",
          "ename": "SyntaxError",
          "evalue": "invalid decimal literal (<ipython-input-196-a88458e6b1f6>, line 1)",
          "traceback": [
            "\u001b[0;36m  File \u001b[0;32m\"<ipython-input-196-a88458e6b1f6>\"\u001b[0;36m, line \u001b[0;32m1\u001b[0m\n\u001b[0;31m    123voa = 10\u001b[0m\n\u001b[0m      ^\u001b[0m\n\u001b[0;31mSyntaxError\u001b[0m\u001b[0;31m:\u001b[0m invalid decimal literal\n"
          ]
        }
      ],
      "source": [
        "123voa = 10"
      ]
    },
    {
      "cell_type": "code",
      "execution_count": null,
      "id": "75ffc7cf-bec0-4dd5-b6a9-7c7c435a76ab",
      "metadata": {
        "id": "75ffc7cf-bec0-4dd5-b6a9-7c7c435a76ab",
        "colab": {
          "base_uri": "https://localhost:8080/",
          "height": 106
        },
        "outputId": "394c9c40-ba6a-4bf4-c626-0b21fde4227d"
      },
      "outputs": [
        {
          "output_type": "error",
          "ename": "SyntaxError",
          "evalue": "invalid syntax (<ipython-input-197-1d6dec760ddb>, line 1)",
          "traceback": [
            "\u001b[0;36m  File \u001b[0;32m\"<ipython-input-197-1d6dec760ddb>\"\u001b[0;36m, line \u001b[0;32m1\u001b[0m\n\u001b[0;31m    ol@ = \"oi\"\u001b[0m\n\u001b[0m        ^\u001b[0m\n\u001b[0;31mSyntaxError\u001b[0m\u001b[0;31m:\u001b[0m invalid syntax\n"
          ]
        }
      ],
      "source": [
        "ol@ = \"oi\""
      ]
    },
    {
      "cell_type": "code",
      "execution_count": null,
      "id": "0800e8be-779d-4063-acec-83cb51735737",
      "metadata": {
        "id": "0800e8be-779d-4063-acec-83cb51735737",
        "colab": {
          "base_uri": "https://localhost:8080/",
          "height": 106
        },
        "outputId": "c95260dd-56bf-4e7c-dcce-01dffb1ee04b"
      },
      "outputs": [
        {
          "output_type": "error",
          "ename": "SyntaxError",
          "evalue": "invalid syntax (<ipython-input-198-3d0deee01ebc>, line 1)",
          "traceback": [
            "\u001b[0;36m  File \u001b[0;32m\"<ipython-input-198-3d0deee01ebc>\"\u001b[0;36m, line \u001b[0;32m1\u001b[0m\n\u001b[0;31m    def = 2.7\u001b[0m\n\u001b[0m        ^\u001b[0m\n\u001b[0;31mSyntaxError\u001b[0m\u001b[0;31m:\u001b[0m invalid syntax\n"
          ]
        }
      ],
      "source": [
        "def = 2.7"
      ]
    },
    {
      "cell_type": "markdown",
      "id": "1b1f0a1f-07da-4b46-bf8f-180c537d0593",
      "metadata": {
        "id": "1b1f0a1f-07da-4b46-bf8f-180c537d0593"
      },
      "source": [
        "`123voa` é ilegal pois começa com um número. `ol@` é ilegal pois contém um caractere inválido (@), mas o que há de errado com def?\n",
        "A questão é que `def` é uma ***palavra-chave da linguagem***. O Python possui diversas palavras-chave que são utilizadas na estrutura dos programas, por isso não podem ser utilizadas como nomes de variáveis.\n",
        "\n",
        "Outro ponto importante: não é possível acessar variáveis que ainda não foram definidas:"
      ]
    },
    {
      "cell_type": "code",
      "execution_count": null,
      "id": "fcd40bec-b315-4702-aa01-097d7bc836b3",
      "metadata": {
        "id": "fcd40bec-b315-4702-aa01-097d7bc836b3",
        "colab": {
          "base_uri": "https://localhost:8080/",
          "height": 141
        },
        "outputId": "38cbcbd3-0cd7-44ce-835d-711619b6d0ce"
      },
      "outputs": [
        {
          "output_type": "error",
          "ename": "NameError",
          "evalue": "name 'nao_definida' is not defined",
          "traceback": [
            "\u001b[0;31m---------------------------------------------------------------------------\u001b[0m",
            "\u001b[0;31mNameError\u001b[0m                                 Traceback (most recent call last)",
            "\u001b[0;32m<ipython-input-199-d6d09865f629>\u001b[0m in \u001b[0;36m<cell line: 1>\u001b[0;34m()\u001b[0m\n\u001b[0;32m----> 1\u001b[0;31m \u001b[0mnao_definida\u001b[0m\u001b[0;34m\u001b[0m\u001b[0;34m\u001b[0m\u001b[0m\n\u001b[0m",
            "\u001b[0;31mNameError\u001b[0m: name 'nao_definida' is not defined"
          ]
        }
      ],
      "source": [
        "nao_definida"
      ]
    },
    {
      "cell_type": "markdown",
      "id": "fcb48232-61bb-4df9-9505-58fed8fa2e3a",
      "metadata": {
        "id": "fcb48232-61bb-4df9-9505-58fed8fa2e3a"
      },
      "source": [
        "Também podemos atribuir expressões a uma variável:"
      ]
    },
    {
      "cell_type": "code",
      "execution_count": null,
      "id": "6a8ac471-2372-4176-8da9-933341594268",
      "metadata": {
        "colab": {
          "base_uri": "https://localhost:8080/"
        },
        "id": "6a8ac471-2372-4176-8da9-933341594268",
        "outputId": "7d65ef4a-7607-451c-e912-6b9fb925466a"
      },
      "outputs": [
        {
          "name": "stdout",
          "output_type": "stream",
          "text": [
            "13\n",
            "49\n",
            "62\n"
          ]
        }
      ],
      "source": [
        "x = 3 * 5 - 2\n",
        "print(x)\n",
        "\n",
        "y = 3 * x + 10\n",
        "print(y)\n",
        "\n",
        "z = x + y\n",
        "print(z)"
      ]
    },
    {
      "cell_type": "code",
      "execution_count": null,
      "id": "e28bd316-8746-430e-82e7-895483791346",
      "metadata": {
        "id": "e28bd316-8746-430e-82e7-895483791346"
      },
      "outputs": [],
      "source": [
        "n = 10\n",
        "n + 2 # 10 + 2"
      ]
    },
    {
      "cell_type": "code",
      "execution_count": null,
      "id": "04f4f24f-f6f8-4392-9739-387b118aedaf",
      "metadata": {
        "id": "04f4f24f-f6f8-4392-9739-387b118aedaf"
      },
      "outputs": [],
      "source": [
        "9 - n"
      ]
    },
    {
      "cell_type": "markdown",
      "id": "cdd357a7-ea45-4f1d-99c3-da157f8f14f8",
      "metadata": {
        "id": "cdd357a7-ea45-4f1d-99c3-da157f8f14f8"
      },
      "source": [
        "É importante lembrar que para mudar o valor de uma variável é preciso utilizar a atribuição. Nos dois exemplos anteriores não atribuímos as expressões à `n`, portanto seu valor continuou o mesmo.\n",
        "\n",
        "Vamos alterar o valor de `n`:"
      ]
    },
    {
      "cell_type": "code",
      "execution_count": null,
      "id": "ce351e23-281b-43c8-ac1d-9e4f675941f8",
      "metadata": {
        "id": "ce351e23-281b-43c8-ac1d-9e4f675941f8"
      },
      "outputs": [],
      "source": [
        "n = n + 2\n",
        "n"
      ]
    },
    {
      "cell_type": "code",
      "execution_count": null,
      "id": "cc5830fe-0c29-47d8-bb49-9e7720698cd5",
      "metadata": {
        "id": "cc5830fe-0c29-47d8-bb49-9e7720698cd5"
      },
      "outputs": [],
      "source": [
        "9 - n"
      ]
    },
    {
      "cell_type": "markdown",
      "id": "721be979-cae6-47d6-83b5-243baa7fdce8",
      "metadata": {
        "id": "721be979-cae6-47d6-83b5-243baa7fdce8"
      },
      "source": [
        "Outra forma de somar/multiplicar na variável:"
      ]
    },
    {
      "cell_type": "code",
      "execution_count": null,
      "id": "f22a6a7f-9aaf-4401-acb7-464c183d3eb8",
      "metadata": {
        "id": "f22a6a7f-9aaf-4401-acb7-464c183d3eb8"
      },
      "outputs": [],
      "source": [
        "num = 4\n",
        "num += 3\n",
        "print(num)\n",
        "\n",
        "num = 2\n",
        "num *= 3\n",
        "print(num)"
      ]
    },
    {
      "cell_type": "markdown",
      "id": "afe447d3-11dc-423b-bdb6-4271a5059010",
      "metadata": {
        "id": "afe447d3-11dc-423b-bdb6-4271a5059010"
      },
      "source": [
        "##### Atribuição Múltipla\n",
        "Uma funcionalidade interessante do Python é que ele permite atribuição múltipla. Isso é muito útil para trocar o valor de duas variáveis:"
      ]
    },
    {
      "cell_type": "code",
      "execution_count": null,
      "id": "c68f2093-4352-4344-9f2f-28fc58da1168",
      "metadata": {
        "id": "c68f2093-4352-4344-9f2f-28fc58da1168"
      },
      "outputs": [],
      "source": [
        "a = 1\n",
        "b = 200"
      ]
    },
    {
      "cell_type": "markdown",
      "id": "e59aa8c9-d787-4bfa-b0aa-8a77f7813cd6",
      "metadata": {
        "id": "e59aa8c9-d787-4bfa-b0aa-8a77f7813cd6"
      },
      "source": [
        "Para fazer essa troca em outras linguagens é necessário utilizar uma variável auxiliar para não perdemos um dos valores que queremos trocar. Vamos começar da maneira mais simples:"
      ]
    },
    {
      "cell_type": "code",
      "execution_count": null,
      "id": "08670865-4cef-4ff4-bab5-0f299f2b7722",
      "metadata": {
        "id": "08670865-4cef-4ff4-bab5-0f299f2b7722"
      },
      "outputs": [],
      "source": [
        "a = b # Perde-se o valor original de `a` (1)\n",
        "a"
      ]
    },
    {
      "cell_type": "code",
      "execution_count": null,
      "id": "a0da8d75-b702-4d5f-801f-4d43482bbeb8",
      "metadata": {
        "id": "a0da8d75-b702-4d5f-801f-4d43482bbeb8"
      },
      "outputs": [],
      "source": [
        "b = a # Como perdeu-se `a`, `b` vai continuar com seu valor original (200)\n",
        "b"
      ]
    },
    {
      "cell_type": "markdown",
      "id": "2cde8766-cfd7-4f6e-bad6-6fa257a4edfb",
      "metadata": {
        "id": "2cde8766-cfd7-4f6e-bad6-6fa257a4edfb"
      },
      "source": [
        "A troca é bem sucedida se usamos uma variável auxiliar:"
      ]
    },
    {
      "cell_type": "code",
      "execution_count": null,
      "id": "f996d021-6d4d-494f-bff5-fbad4b457141",
      "metadata": {
        "id": "f996d021-6d4d-494f-bff5-fbad4b457141"
      },
      "outputs": [],
      "source": [
        "a = 1\n",
        "b = 200\n",
        "print(a, b)"
      ]
    },
    {
      "cell_type": "code",
      "execution_count": null,
      "id": "bd92d97d-88e8-4860-846e-77f2130ed163",
      "metadata": {
        "id": "bd92d97d-88e8-4860-846e-77f2130ed163"
      },
      "outputs": [],
      "source": [
        "a, b = b, a\n",
        "print(a, b)"
      ]
    },
    {
      "cell_type": "markdown",
      "id": "bbf037cd-e096-4ae2-8901-367110f70bf3",
      "metadata": {
        "id": "bbf037cd-e096-4ae2-8901-367110f70bf3"
      },
      "source": [
        "A atribuição múltipla também pode ser utilizada para simplificar a atribuição de variáveis, por exemplo:"
      ]
    },
    {
      "cell_type": "code",
      "execution_count": null,
      "id": "c684356f-570b-4cf5-89ef-d63e072654ed",
      "metadata": {
        "id": "c684356f-570b-4cf5-89ef-d63e072654ed"
      },
      "outputs": [],
      "source": [
        "a, b = 1, 200\n",
        "print(a, b)"
      ]
    },
    {
      "cell_type": "code",
      "execution_count": null,
      "id": "7d1ff4af-ecc9-4ec2-8370-3f2fe9de2e45",
      "metadata": {
        "id": "7d1ff4af-ecc9-4ec2-8370-3f2fe9de2e45"
      },
      "outputs": [],
      "source": [
        "a, b, c, d = 1, 2, 3, 4\n",
        "print(a, b, c, d)"
      ]
    },
    {
      "cell_type": "code",
      "execution_count": null,
      "id": "8e576c83-e9f1-4d21-924c-03d11d8c1fa1",
      "metadata": {
        "id": "8e576c83-e9f1-4d21-924c-03d11d8c1fa1"
      },
      "outputs": [],
      "source": [
        "a, b, c, d = d, c, b, a\n",
        "print(a, b, c, d)"
      ]
    },
    {
      "cell_type": "markdown",
      "id": "f7797b84-77d8-40d5-9f80-6ff9e25d991d",
      "metadata": {
        "id": "f7797b84-77d8-40d5-9f80-6ff9e25d991d"
      },
      "source": [
        "#### Tipos de objetos"
      ]
    },
    {
      "cell_type": "markdown",
      "id": "3e3261f8-b3f2-45d3-ac8c-40cd3365cac2",
      "metadata": {
        "id": "3e3261f8-b3f2-45d3-ac8c-40cd3365cac2"
      },
      "source": [
        "Criamos muitas variáveis até agora. Você lembra o tipo de cada uma? Para saber o tipo de um objeto ou variável, usamos a função `type()`:"
      ]
    },
    {
      "cell_type": "code",
      "execution_count": null,
      "id": "0e67b3aa-7d54-4c32-8f3d-df8efa982558",
      "metadata": {
        "id": "0e67b3aa-7d54-4c32-8f3d-df8efa982558"
      },
      "outputs": [],
      "source": [
        "x = 1\n",
        "print(type(x))\n",
        "\n",
        "y = 2.3\n",
        "print(type(y))\n",
        "\n",
        "palavra = \"Python\"\n",
        "print(type(palavra))\n",
        "\n",
        "logit = True\n",
        "print(type(logit))"
      ]
    },
    {
      "cell_type": "markdown",
      "id": "67abd057-1a3c-47d6-83e8-d3676d1ca67d",
      "metadata": {
        "id": "67abd057-1a3c-47d6-83e8-d3676d1ca67d"
      },
      "source": [
        "Python vem com alguns tipos básicos de objetos, dentre eles:\n",
        "* `bool`: Verdadeiro ou Falso (True or False);\n",
        "* `int`: Números Inteiros;\n",
        "* `float`: Números Reais;\n",
        "* `complex`: Números Complexos;\n",
        "* `str`: Textos ou conjunto de caracteres (strings);\n",
        "* `list`: listas;\n",
        "* `dict`: Dicionários.\n",
        "\n",
        "Os demais tipos de objetos serão vistos mais a frente com mais afinco."
      ]
    },
    {
      "cell_type": "markdown",
      "id": "5567db56-582c-41c7-b3da-68258bbc8db1",
      "metadata": {
        "id": "5567db56-582c-41c7-b3da-68258bbc8db1"
      },
      "source": [
        "#### Buscando ajuda\n",
        "Está com dúvida em alguma coisa? Use a função `help()` e depois digite o que você busca."
      ]
    },
    {
      "cell_type": "code",
      "execution_count": null,
      "id": "ade9923e-68a2-4661-9869-04c5605d1d1d",
      "metadata": {
        "id": "ade9923e-68a2-4661-9869-04c5605d1d1d"
      },
      "outputs": [],
      "source": [
        "help()"
      ]
    },
    {
      "cell_type": "markdown",
      "id": "a683feec-5cfc-4075-908c-9a73798ec9ef",
      "metadata": {
        "id": "a683feec-5cfc-4075-908c-9a73798ec9ef"
      },
      "source": [
        "E para buscar ajuda em uma coisa específica?"
      ]
    },
    {
      "cell_type": "code",
      "execution_count": null,
      "id": "c4e36fa0-45e9-4361-9a34-700ce53b652a",
      "metadata": {
        "id": "c4e36fa0-45e9-4361-9a34-700ce53b652a"
      },
      "outputs": [],
      "source": [
        "help(print)"
      ]
    },
    {
      "cell_type": "code",
      "execution_count": null,
      "id": "92060f38-e4a7-4d87-8128-112d044614db",
      "metadata": {
        "id": "92060f38-e4a7-4d87-8128-112d044614db"
      },
      "outputs": [],
      "source": [
        "help(math.sqrt)"
      ]
    },
    {
      "cell_type": "markdown",
      "id": "fbd7296c-21c0-4862-83ad-bb7e0e243d32",
      "metadata": {
        "id": "fbd7296c-21c0-4862-83ad-bb7e0e243d32"
      },
      "source": [
        "#### Autoconhecimento do código\n",
        "Em algum momento durante o seu código você pode querer saber quais variáveis já foram declaradas, ou até mesmo o valor atual delas. Podemos listar todas as variáveis declaradas no código usando o comando `dir()`. Veja um exemplo:\n"
      ]
    },
    {
      "cell_type": "code",
      "execution_count": null,
      "id": "ec0029d6-204f-4136-a1a5-d628aaf7f8d5",
      "metadata": {
        "id": "ec0029d6-204f-4136-a1a5-d628aaf7f8d5",
        "scrolled": true
      },
      "outputs": [],
      "source": [
        "a = 1\n",
        "b = 2\n",
        "dir()"
      ]
    },
    {
      "cell_type": "markdown",
      "id": "a1e28cf8-22df-4eca-a496-85b6760d3d61",
      "metadata": {
        "id": "a1e28cf8-22df-4eca-a496-85b6760d3d61"
      },
      "source": [
        "Veja que nossas variáveis declaradas aparecem proxímo do final do resultado de `dir()`. Não se assuste com os outros elementos que aparecem nesse resultado. Essas variáveis são criadas e usadas pelo próprio Python, e não são importantes nesse momento.\n",
        "\n",
        "Outra opção para visualizar as variáveis declaradas são os comandos `globals()` e `locals()`. Ambas mostram não só as variáveis declaradas, mas também seu valor atual. A diferença entre ambas está no escopo em que atuam, mas veja que seus resultados são semelhantes:"
      ]
    },
    {
      "cell_type": "code",
      "execution_count": null,
      "id": "a63080fd-465e-445e-a417-ccf5d1b6fe0f",
      "metadata": {
        "id": "a63080fd-465e-445e-a417-ccf5d1b6fe0f",
        "scrolled": true
      },
      "outputs": [],
      "source": [
        "globals()"
      ]
    },
    {
      "cell_type": "code",
      "execution_count": null,
      "id": "ad68965f-85c0-4249-9808-b1f23afc65f4",
      "metadata": {
        "id": "ad68965f-85c0-4249-9808-b1f23afc65f4",
        "scrolled": true
      },
      "outputs": [],
      "source": [
        "locals()"
      ]
    },
    {
      "cell_type": "markdown",
      "id": "d9db2644-03a9-4585-87b6-1571290cd494",
      "metadata": {
        "id": "d9db2644-03a9-4585-87b6-1571290cd494"
      },
      "source": [
        "Caso você esteja usando o IPython, os comandos mágicos `%who` e `%whos` são ótimas alternativas ao que já vimos anteriormente, pois retiram do resultado as variáveis declaradas pelo próprio Python, permitindo uma melhor visualização das que você mesmo declarou. Olhe como o IPython pode simplificar nossa vida nesse caso:"
      ]
    },
    {
      "cell_type": "code",
      "execution_count": null,
      "id": "42aa4c45-9d76-4bfa-8206-235d258edfab",
      "metadata": {
        "id": "42aa4c45-9d76-4bfa-8206-235d258edfab"
      },
      "outputs": [],
      "source": [
        "%who"
      ]
    },
    {
      "cell_type": "code",
      "execution_count": null,
      "id": "fc105bd3-f8b0-44ec-8a83-1727a8c47b9c",
      "metadata": {
        "id": "fc105bd3-f8b0-44ec-8a83-1727a8c47b9c"
      },
      "outputs": [],
      "source": [
        "%whos"
      ]
    },
    {
      "cell_type": "markdown",
      "id": "35f4ec4b-0bf5-4ae4-9399-ac3292502955",
      "metadata": {
        "id": "35f4ec4b-0bf5-4ae4-9399-ac3292502955"
      },
      "source": [
        "## 2ª Aula: Tipos de Variáveis."
      ]
    },
    {
      "cell_type": "markdown",
      "id": "7568db13-73d4-47f5-b761-5749c8072af7",
      "metadata": {
        "id": "7568db13-73d4-47f5-b761-5749c8072af7"
      },
      "source": [
        "### Continuação - Sintaxe Básica"
      ]
    },
    {
      "cell_type": "markdown",
      "id": "a1d830da-fbb6-4216-9b66-84aba1cf2bfa",
      "metadata": {
        "id": "a1d830da-fbb6-4216-9b66-84aba1cf2bfa"
      },
      "source": [
        "#### Strings\n",
        "Tamém chamada de sequência de caracteres, textos ou dados alfanuméricos. *Strings* são tipos que armazenam uma *sequência de caracteres*:"
      ]
    },
    {
      "cell_type": "code",
      "execution_count": null,
      "id": "3c43de32-3997-4fc0-831a-7eec9022f866",
      "metadata": {
        "id": "3c43de32-3997-4fc0-831a-7eec9022f866"
      },
      "outputs": [],
      "source": [
        "\"Texto com acentos de cedilhas: hoje é dia de caça!\""
      ]
    },
    {
      "cell_type": "code",
      "execution_count": null,
      "id": "bc81deba-4d3f-40c2-a671-438557f78e88",
      "metadata": {
        "id": "bc81deba-4d3f-40c2-a671-438557f78e88",
        "colab": {
          "base_uri": "https://localhost:8080/",
          "height": 35
        },
        "outputId": "ab0fe719-70eb-4aeb-f62c-c91261d374f9"
      },
      "outputs": [
        {
          "output_type": "execute_result",
          "data": {
            "text/plain": [
              "'Silvio Santos'"
            ],
            "application/vnd.google.colaboratory.intrinsic+json": {
              "type": "string"
            }
          },
          "metadata": {},
          "execution_count": 200
        }
      ],
      "source": [
        "# As strings aceitam aspas simples também\n",
        "nome = 'Silvio Santos'\n",
        "nome"
      ]
    },
    {
      "cell_type": "markdown",
      "id": "cec37031-ce20-4507-ab38-fd59524708d9",
      "metadata": {
        "id": "cec37031-ce20-4507-ab38-fd59524708d9"
      },
      "source": [
        "Também é possível fazer algumas operações com strings:"
      ]
    },
    {
      "cell_type": "code",
      "execution_count": null,
      "id": "df6b47de-fa86-44d4-a7d8-3071591faec2",
      "metadata": {
        "id": "df6b47de-fa86-44d4-a7d8-3071591faec2"
      },
      "outputs": [],
      "source": [
        "nome * 3"
      ]
    },
    {
      "cell_type": "code",
      "execution_count": null,
      "id": "6487fa72-c15f-43ca-b8bc-bd0834890e65",
      "metadata": {
        "id": "6487fa72-c15f-43ca-b8bc-bd0834890e65",
        "colab": {
          "base_uri": "https://localhost:8080/",
          "height": 141
        },
        "outputId": "f57edf25-c4f7-43d2-ab5b-f7c7f37cb8a6"
      },
      "outputs": [
        {
          "output_type": "error",
          "ename": "TypeError",
          "evalue": "can't multiply sequence by non-int of type 'float'",
          "traceback": [
            "\u001b[0;31m---------------------------------------------------------------------------\u001b[0m",
            "\u001b[0;31mTypeError\u001b[0m                                 Traceback (most recent call last)",
            "\u001b[0;32m<ipython-input-201-c562c5f4bc83>\u001b[0m in \u001b[0;36m<cell line: 1>\u001b[0;34m()\u001b[0m\n\u001b[0;32m----> 1\u001b[0;31m \u001b[0mnome\u001b[0m \u001b[0;34m*\u001b[0m \u001b[0;36m3.14\u001b[0m\u001b[0;34m\u001b[0m\u001b[0;34m\u001b[0m\u001b[0m\n\u001b[0m",
            "\u001b[0;31mTypeError\u001b[0m: can't multiply sequence by non-int of type 'float'"
          ]
        }
      ],
      "source": [
        "nome * 3.14"
      ]
    },
    {
      "cell_type": "code",
      "execution_count": null,
      "id": "5d31e3eb-1496-42fa-aba3-0046f050deaf",
      "metadata": {
        "id": "5d31e3eb-1496-42fa-aba3-0046f050deaf"
      },
      "outputs": [],
      "source": [
        "canto1 = 'vem aí, '\n",
        "canto2 = 'lá '\n",
        "nome + ' ' + canto1 + canto2 * 6 + '!!'"
      ]
    },
    {
      "cell_type": "code",
      "execution_count": null,
      "id": "ca5d3e98-de76-46e1-80b3-f39fb53c8a62",
      "metadata": {
        "id": "ca5d3e98-de76-46e1-80b3-f39fb53c8a62"
      },
      "outputs": [],
      "source": [
        "# Para strings em várias linhas, utilize 3 aspas\n",
        "str_grande = ''' Aqui consigo inserir um textão com várias linhas, posso iniciar em uma ...\n",
        "... e posso continuar em outra ...\n",
        "... e em outra ...\n",
        "... e mais uma ...\n",
        "... e acabou.'''"
      ]
    },
    {
      "cell_type": "code",
      "execution_count": null,
      "id": "71f4a9ce-2222-4f22-a17d-9a3bd4c0a6bb",
      "metadata": {
        "id": "71f4a9ce-2222-4f22-a17d-9a3bd4c0a6bb"
      },
      "outputs": [],
      "source": [
        "str_grande"
      ]
    },
    {
      "cell_type": "code",
      "execution_count": null,
      "id": "3a5c3aad-f585-407c-be69-b6aa10501a3d",
      "metadata": {
        "id": "3a5c3aad-f585-407c-be69-b6aa10501a3d"
      },
      "outputs": [],
      "source": [
        "print(str_grande)"
      ]
    },
    {
      "cell_type": "markdown",
      "id": "36a8c5d3-0d55-4918-9b00-c1bf1cb643ec",
      "metadata": {
        "id": "36a8c5d3-0d55-4918-9b00-c1bf1cb643ec"
      },
      "source": [
        "Caso queira um texto que dentro tem aspas, como Me dá um copo d'água, é necessário utilizar aspas duplas para formar a string:"
      ]
    },
    {
      "cell_type": "code",
      "execution_count": null,
      "id": "8fa94b3c-e5a9-4ceb-beb8-f0803f53654c",
      "metadata": {
        "id": "8fa94b3c-e5a9-4ceb-beb8-f0803f53654c"
      },
      "outputs": [],
      "source": [
        "agua = \"Me dá um copo d'água\"\n",
        "agua"
      ]
    },
    {
      "cell_type": "markdown",
      "id": "e733a2a8-bad2-46a0-a218-2e5721d29e55",
      "metadata": {
        "id": "e733a2a8-bad2-46a0-a218-2e5721d29e55"
      },
      "source": [
        "E também é possível utilizar aspas simples, duplas e triplas ao mesmo tempo! Olha só:"
      ]
    },
    {
      "cell_type": "code",
      "execution_count": null,
      "id": "49c43569-b5c5-4b75-88ba-c25d3ffa14df",
      "metadata": {
        "id": "49c43569-b5c5-4b75-88ba-c25d3ffa14df"
      },
      "outputs": [],
      "source": [
        "todas_as_aspas = \"\"\"Essa é uma string que tem:\n",
        "                    - aspas 'simples'\n",
        "                    - aspas \"duplas\"\n",
        "                    - aspas '''triplas'''\n",
        "                    Legal né?\"\"\""
      ]
    },
    {
      "cell_type": "code",
      "execution_count": null,
      "id": "a2736b02-8878-4895-ba13-c86697978c0a",
      "metadata": {
        "id": "a2736b02-8878-4895-ba13-c86697978c0a"
      },
      "outputs": [],
      "source": [
        "todas_as_aspas"
      ]
    },
    {
      "cell_type": "code",
      "execution_count": null,
      "id": "4564535b-1e70-4c46-ae18-a52869c4c9b4",
      "metadata": {
        "id": "4564535b-1e70-4c46-ae18-a52869c4c9b4"
      },
      "outputs": [],
      "source": [
        "print(todas_as_aspas)"
      ]
    },
    {
      "cell_type": "markdown",
      "id": "9ca5bc16-0eb1-4c86-a21d-c6cca3ad8397",
      "metadata": {
        "id": "9ca5bc16-0eb1-4c86-a21d-c6cca3ad8397"
      },
      "source": [
        "##### Tamanho\n",
        "A função embutida `len()` nos permite, entre outras coisas, saber o tamanho de uma *string*:"
      ]
    },
    {
      "cell_type": "code",
      "execution_count": null,
      "id": "fe8362af-1f33-45a2-bbd6-037bf3166680",
      "metadata": {
        "id": "fe8362af-1f33-45a2-bbd6-037bf3166680"
      },
      "outputs": [],
      "source": [
        "len('Abracadabra')"
      ]
    },
    {
      "cell_type": "code",
      "execution_count": null,
      "id": "c2bb8564-264e-40df-97c7-ee92aa4e32e0",
      "metadata": {
        "id": "c2bb8564-264e-40df-97c7-ee92aa4e32e0"
      },
      "outputs": [],
      "source": [
        "palavras = 'Faz um pull request lá'\n",
        "len(palavras)"
      ]
    },
    {
      "cell_type": "markdown",
      "id": "7ac6e3df-11bb-4ef8-a4b0-723a2406e611",
      "metadata": {
        "id": "7ac6e3df-11bb-4ef8-a4b0-723a2406e611"
      },
      "source": [
        "Resaltando que a função `len()` conta o número de **caracteres** e não somente o número de letras, que contém uma `string`"
      ]
    },
    {
      "cell_type": "markdown",
      "id": "55886b3a-5c50-43cd-8464-4e2cf33835e2",
      "metadata": {
        "id": "55886b3a-5c50-43cd-8464-4e2cf33835e2"
      },
      "source": [
        "##### Índices\n",
        "Como visto anteriormente, a função `len()` pode ser utilizado para obter o tamanho de estruturas, sejam elas strings, listas, etc. Esse tamanho representa a quantidade de elementos na estrutura.\n",
        "\n",
        "Para obter somente um caractere de dentro dessas estruturas, deve-se utilizar o acesso por índices, no qual o índice entre colchetes `[]` representa a posição do elemento que se deseja acessar.\n",
        "\n",
        "> **Nota:** Os índices começam em zero.\n",
        "\n",
        "> | P | y | t | h | o | n |\n",
        "> | --| --| --| --| --| --|\n",
        "> | 0 | 1 | 2 | 3 | 4 | 5 |"
      ]
    },
    {
      "cell_type": "code",
      "execution_count": null,
      "id": "f893527b-e391-4cf4-9432-894c39d857b5",
      "metadata": {
        "id": "f893527b-e391-4cf4-9432-894c39d857b5"
      },
      "outputs": [],
      "source": [
        "palavra = \"Python\""
      ]
    },
    {
      "cell_type": "code",
      "execution_count": null,
      "id": "dababf3b-e991-455d-ae39-73ce00544f28",
      "metadata": {
        "id": "dababf3b-e991-455d-ae39-73ce00544f28"
      },
      "outputs": [],
      "source": [
        "palavra[0] # primeiro caractere"
      ]
    },
    {
      "cell_type": "code",
      "execution_count": null,
      "id": "e49eb3f3-0830-4446-a42d-7c3463cc4fe6",
      "metadata": {
        "id": "e49eb3f3-0830-4446-a42d-7c3463cc4fe6"
      },
      "outputs": [],
      "source": [
        "palavra[5] # último caractere"
      ]
    },
    {
      "cell_type": "markdown",
      "id": "001b1cbd-411e-4ce3-9f36-0c724d626787",
      "metadata": {
        "id": "001b1cbd-411e-4ce3-9f36-0c724d626787"
      },
      "source": [
        "Índices negativos correspondem à percorrer a estrutura na ordem reversa:"
      ]
    },
    {
      "cell_type": "code",
      "execution_count": null,
      "id": "ada78acd-d0a5-4da1-9d82-27e1672aae22",
      "metadata": {
        "id": "ada78acd-d0a5-4da1-9d82-27e1672aae22"
      },
      "outputs": [],
      "source": [
        "palavra[-1] # último caractere"
      ]
    },
    {
      "cell_type": "code",
      "execution_count": null,
      "id": "803de310-a510-4457-b2cc-6379a8b652d8",
      "metadata": {
        "id": "803de310-a510-4457-b2cc-6379a8b652d8"
      },
      "outputs": [],
      "source": [
        "palavra[-3] # terceira de trás para frente"
      ]
    },
    {
      "cell_type": "markdown",
      "id": "9c443f14-14cf-4bfb-b5ff-fb54909ecacd",
      "metadata": {
        "id": "9c443f14-14cf-4bfb-b5ff-fb54909ecacd"
      },
      "source": [
        "##### Fatiamento\n",
        "Se, ao invés de obter apenas um elemento de uma estrutura, deseja-se obter múltiplos elementos, deve-se utilizar slicing (fatiamento). No lugar de colocar o índice do elemento entre chaves, deve-se colocar o índice do primeiro elemento, dois pontos (:) e o próximo índice do último elemento desejado, tudo entre colchetes. Por exemplo:"
      ]
    },
    {
      "cell_type": "code",
      "execution_count": null,
      "id": "397e9b71-1b74-48fc-9169-45385b39736e",
      "metadata": {
        "id": "397e9b71-1b74-48fc-9169-45385b39736e"
      },
      "outputs": [],
      "source": [
        "frase = \"Aprender Python é muito divertido!\""
      ]
    },
    {
      "cell_type": "code",
      "execution_count": null,
      "id": "facbb68d-9cb9-4afc-8784-f252dd4769bc",
      "metadata": {
        "id": "facbb68d-9cb9-4afc-8784-f252dd4769bc"
      },
      "outputs": [],
      "source": [
        "frase[0:8] # Slicing do primeiro até o (8 - 1) caractere."
      ]
    },
    {
      "cell_type": "code",
      "execution_count": null,
      "id": "aebcda94-c18d-4ace-bd44-448a5c7c11fe",
      "metadata": {
        "id": "aebcda94-c18d-4ace-bd44-448a5c7c11fe"
      },
      "outputs": [],
      "source": [
        "frase[9:] # Omitir o segundo índice significa 'obter até o final'."
      ]
    },
    {
      "cell_type": "code",
      "execution_count": null,
      "id": "7efd3577-56c8-41c0-9c66-25fc107b71a9",
      "metadata": {
        "id": "7efd3577-56c8-41c0-9c66-25fc107b71a9"
      },
      "outputs": [],
      "source": [
        "frase[:8] # Omitir o primeiro indice, significa 'obter desde o começo'."
      ]
    },
    {
      "cell_type": "code",
      "execution_count": null,
      "id": "cd642e69-a66d-44bc-b9f1-1f207d693038",
      "metadata": {
        "id": "cd642e69-a66d-44bc-b9f1-1f207d693038"
      },
      "outputs": [],
      "source": [
        "frase[:] # Toda string!"
      ]
    },
    {
      "cell_type": "markdown",
      "id": "827678e5-e70a-4a52-a818-0739fefd5fd0",
      "metadata": {
        "id": "827678e5-e70a-4a52-a818-0739fefd5fd0"
      },
      "source": [
        "Também funciona com índices negativos."
      ]
    },
    {
      "cell_type": "code",
      "execution_count": null,
      "id": "964f15c4-39dd-4b32-a2f0-1f7ff5798620",
      "metadata": {
        "id": "964f15c4-39dd-4b32-a2f0-1f7ff5798620"
      },
      "outputs": [],
      "source": [
        "frase[9:-11]"
      ]
    },
    {
      "cell_type": "code",
      "execution_count": null,
      "id": "a76cf1b0-b00f-4ddd-8b3c-12a3984944dc",
      "metadata": {
        "id": "a76cf1b0-b00f-4ddd-8b3c-12a3984944dc"
      },
      "outputs": [],
      "source": [
        "frase[0:-19]"
      ]
    },
    {
      "cell_type": "code",
      "execution_count": null,
      "id": "2c9a3d24-505c-4014-b25b-42dd65167737",
      "metadata": {
        "id": "2c9a3d24-505c-4014-b25b-42dd65167737"
      },
      "outputs": [],
      "source": [
        "frase[-10:]"
      ]
    },
    {
      "cell_type": "markdown",
      "id": "74f33d93-06ae-4c72-9c82-3359ad880289",
      "metadata": {
        "id": "74f33d93-06ae-4c72-9c82-3359ad880289"
      },
      "source": [
        "É possível controlar o passo que a fatia usa. Para isso, coloca-se mais um dois pontos (`:`) depois do segundo índice e o tamanho do passo:"
      ]
    },
    {
      "cell_type": "code",
      "execution_count": null,
      "id": "11cfcfa1-3897-43f0-a4b1-bd3471c06b7d",
      "metadata": {
        "id": "11cfcfa1-3897-43f0-a4b1-bd3471c06b7d"
      },
      "outputs": [],
      "source": [
        "frase[::1] # Do começo ao fim, de 1 em 1 caractere. Logo, não faz nenhuma diferença"
      ]
    },
    {
      "cell_type": "code",
      "execution_count": null,
      "id": "6b2380c5-4bb2-4465-a8f7-36fb87197069",
      "metadata": {
        "id": "6b2380c5-4bb2-4465-a8f7-36fb87197069"
      },
      "outputs": [],
      "source": [
        "frase[::2] # Do começo ao fim,de 2 em 2."
      ]
    },
    {
      "cell_type": "code",
      "execution_count": null,
      "id": "3d13e7e4-0e9b-4a1c-9672-c60e8df0dc3d",
      "metadata": {
        "id": "3d13e7e4-0e9b-4a1c-9672-c60e8df0dc3d"
      },
      "outputs": [],
      "source": [
        "frase[2:-2:2] # Do terceiro até o ante penúltimo, de 2 em 2."
      ]
    },
    {
      "cell_type": "markdown",
      "id": "ba5e836a-785f-4e03-9cce-39f2e2689f17",
      "metadata": {
        "id": "ba5e836a-785f-4e03-9cce-39f2e2689f17"
      },
      "source": [
        "Resumindo: para fazer uma fatia de nossa string, precisamos saber de onde começa, até onde vai e o tamanho do passo.\n",
        "```\n",
        "fatiável[começo : fim : passo]\n",
        "```\n",
        "\n",
        "> **Nota:** As fatias incluem o índice do primeiro elemento e não incluem o elemento do índice final. Por isso que `frase[0:-1]` perde o último elemento.\n",
        "\n",
        "Caso o **fim** da fatia seja antes do começo, obtemos um resultado vazio:\n",
        "```\n",
        "[Input]  : frase[15:2]\n",
        "[Output] : ''\n",
        "```\n",
        "\n",
        "E se quisermos uma fatia fora da string?\n",
        "```\n",
        "[Input]  : frase[123:345]\n",
        "[Output] : ''\n",
        "```\n",
        "\n",
        "Mas e se o **fim** da fatia for maior que o tamanho da string? Não tem problemas, o Python vai até o onde der:\n",
        "```\n",
        "[Input]  : frase[8:123456789]\n",
        "[Output] : ' Python é muito divertido!'\n",
        "```\n",
        "```\n",
        "[Input]  : frase[8:]\n",
        "[Output] : ' Python é muito divertido!'\n",
        "```\n",
        "\n",
        "Surge problemas quando não existe o valor do índice passado dentro do colchetes.\n",
        "```\n",
        "[Input]  : frase[123456789]\n",
        "[Output] : IndexError: string index out of range\n",
        "```\n",
        "\n",
        "Tamanhos negativos de passo também funcionam. Passos positivos significam para frente e passos negativos significam para trás:\n",
        "```\n",
        "[Input]  : \"Python\"[::-1]\n",
        "[Output] : 'nohtyP'\n",
        "```\n",
        "\n",
        "Quando usamos passos negativos, a fatia começa no **fim** e termina no **começo** e é percorrida ao contrário. Ou seja, invertemos a ordem. Mas tome cuidado:\n",
        "```\n",
        "[Input]  : \"Python\"[2:6]\n",
        "[Output] : 'thon'\n",
        "```\n",
        "```\n",
        "[Input]  : \"Python\"[2:6:-1]\n",
        "[Output] : ''\n",
        "```\n",
        "```\n",
        "[Input]  : \"Python\"[6:2]\n",
        "[Output] : ''\n",
        "```\n",
        "```\n",
        "[Input]  : \"Python\"[6:2:-1]\n",
        "[Output] : 'noh'\n",
        "```\n",
        "\n",
        "No caso de `\"Python\"[6:2]`, o começo é depois do fim. Por isso a string fica vazia.\n",
        "\n",
        "No caso de `\"Python\"[2:6:-1]`, o começo é o índice 6, o fim é o índice 2, percorrida ao contrário. Ou seja, temos uma string vazia ao contrário, que continua vazia.\n",
        "\n",
        "Quando fazemos `\"Python\"[6:2:-1]`, o começo é o índice 2, o fim é o índice 6, percorrida ao contrário. Lembre que o índice final nunca é incluído. Ou seja, temos a *string* `hon` a ser invertida. O que resulta em `noh`."
      ]
    },
    {
      "cell_type": "markdown",
      "id": "5d6c58b3-2ade-43e9-87f9-821ee2d8ddd0",
      "metadata": {
        "id": "5d6c58b3-2ade-43e9-87f9-821ee2d8ddd0"
      },
      "source": [
        "##### Separação de strings\n",
        "Usando a função `split()`"
      ]
    },
    {
      "cell_type": "code",
      "execution_count": null,
      "id": "88cc4a44-23c9-43fc-92c7-93f6aaa56c9f",
      "metadata": {
        "id": "88cc4a44-23c9-43fc-92c7-93f6aaa56c9f"
      },
      "outputs": [],
      "source": [
        "frase"
      ]
    },
    {
      "cell_type": "code",
      "execution_count": null,
      "id": "65117a3f-be43-4da8-be2e-8340e0f844a1",
      "metadata": {
        "id": "65117a3f-be43-4da8-be2e-8340e0f844a1"
      },
      "outputs": [],
      "source": [
        "frase.split()"
      ]
    },
    {
      "cell_type": "code",
      "execution_count": null,
      "id": "5fa77667-7094-4ccd-a0fb-ac84d83178a9",
      "metadata": {
        "id": "5fa77667-7094-4ccd-a0fb-ac84d83178a9"
      },
      "outputs": [],
      "source": [
        "todas_as_aspas.split('\\n')"
      ]
    },
    {
      "cell_type": "markdown",
      "id": "51d04240-0ad3-4bc2-9b87-a50048675b4b",
      "metadata": {
        "id": "51d04240-0ad3-4bc2-9b87-a50048675b4b"
      },
      "source": [
        "#### Entrada de dados"
      ]
    },
    {
      "cell_type": "markdown",
      "id": "b5bf8597-14fd-4e4b-a658-89596ff8d149",
      "metadata": {
        "id": "b5bf8597-14fd-4e4b-a658-89596ff8d149"
      },
      "source": [
        "Em Python também é possível ler do teclado as informações digitadas pelo usuário. E isso é feito por meio da função embutida `input()` da seguinte forma:\n",
        "```\n",
        "[Input]  : valor_lido = input(\"Digite um valor: \")\n",
        "           Digite um valor: 10\n",
        "```\n",
        "```\n",
        "[Input]  : type(valor_lido) # deve-se notar que o valor lido é SEMPRE do tipo string\n",
        "[Output] : str\n",
        "```\n",
        "\n",
        "> **Nota:** A função `input()` «termina» de ser executada quando pressionamos *enter*. \\\n",
        "  O valor lido é sempre do tipo string.\n",
        "\n",
        "Mas, como realizar operações com os valores lidos?"
      ]
    },
    {
      "cell_type": "code",
      "execution_count": null,
      "id": "3ce66546-030e-46c7-9056-cd545b68b897",
      "metadata": {
        "id": "3ce66546-030e-46c7-9056-cd545b68b897"
      },
      "outputs": [],
      "source": [
        "valor_lido = int(input(\"Digite um valor: \"))\n",
        "print(f\"O quadrado do número fornecido na entreda é: {valor_lido ** 2}\")"
      ]
    },
    {
      "cell_type": "code",
      "execution_count": null,
      "id": "2f38c76d-3ace-4806-9614-cc061e8c4817",
      "metadata": {
        "id": "2f38c76d-3ace-4806-9614-cc061e8c4817"
      },
      "outputs": [],
      "source": [
        "valor_lido = float(input(\"Digite um valor: \"))\n",
        "print(f\"O inverso do número fornecido na entreda é: {1 / valor_lido}\")"
      ]
    },
    {
      "cell_type": "markdown",
      "id": "3a977cf4-f311-4ac3-9985-9f2e10c7893a",
      "metadata": {
        "id": "3a977cf4-f311-4ac3-9985-9f2e10c7893a"
      },
      "source": [
        "Tudo o que for digitado no teclado, até pressionar a tecla enter, será capturado pela função `input()`. Isso significa que podemos ler palavras separadas por um espaço, ou seja, uma frase inteira:"
      ]
    },
    {
      "cell_type": "code",
      "execution_count": null,
      "id": "be7bf68d-54a5-4ec3-bee2-1450f37531f8",
      "metadata": {
        "id": "be7bf68d-54a5-4ec3-bee2-1450f37531f8"
      },
      "outputs": [],
      "source": [
        "frase = input()"
      ]
    },
    {
      "cell_type": "code",
      "execution_count": null,
      "id": "eb523261-4e22-4c51-b49c-6cf0badf716b",
      "metadata": {
        "id": "eb523261-4e22-4c51-b49c-6cf0badf716b"
      },
      "outputs": [],
      "source": [
        "frase"
      ]
    },
    {
      "cell_type": "markdown",
      "id": "b10e9d84-3df8-42b8-a363-a73000969d3a",
      "metadata": {
        "id": "b10e9d84-3df8-42b8-a363-a73000969d3a"
      },
      "source": [
        "#### Formatação"
      ]
    },
    {
      "cell_type": "code",
      "execution_count": null,
      "id": "6f558ab7-3b82-4e65-a95c-6cc2ba13e265",
      "metadata": {
        "id": "6f558ab7-3b82-4e65-a95c-6cc2ba13e265",
        "colab": {
          "base_uri": "https://localhost:8080/"
        },
        "outputId": "e87314cb-0b51-407b-f98c-d63ad9c8cd84"
      },
      "outputs": [
        {
          "name": "stdout",
          "output_type": "stream",
          "text": [
            "Digite seu nome: Breno Cauã\n"
          ]
        }
      ],
      "source": [
        "nome = input(\"Digite seu nome: \")"
      ]
    },
    {
      "cell_type": "code",
      "execution_count": null,
      "id": "ae260c85-68ce-429c-9e45-1670c2ebdb69",
      "metadata": {
        "id": "ae260c85-68ce-429c-9e45-1670c2ebdb69",
        "colab": {
          "base_uri": "https://localhost:8080/",
          "height": 35
        },
        "outputId": "97cc6fe1-594c-49c3-d5f2-85ede2c11dd5"
      },
      "outputs": [
        {
          "output_type": "execute_result",
          "data": {
            "text/plain": [
              "'Olá, Breno Cauã'"
            ],
            "application/vnd.google.colaboratory.intrinsic+json": {
              "type": "string"
            }
          },
          "metadata": {},
          "execution_count": 204
        }
      ],
      "source": [
        "frase = \"Olá, {}\".format(nome)\n",
        "frase"
      ]
    },
    {
      "cell_type": "markdown",
      "id": "2dd9e430-9cda-410b-92da-90eb0ec08c5b",
      "metadata": {
        "id": "2dd9e430-9cda-410b-92da-90eb0ec08c5b"
      },
      "source": [
        "Vale lembrar que as chaves `{}` só são trocadas pelo valor após a chamada do método `str.format()`:"
      ]
    },
    {
      "cell_type": "code",
      "execution_count": null,
      "id": "9f63037a-898d-4405-8579-5839485b114f",
      "metadata": {
        "id": "9f63037a-898d-4405-8579-5839485b114f",
        "colab": {
          "base_uri": "https://localhost:8080/",
          "height": 35
        },
        "outputId": "23cd3b17-08db-4eca-dddb-6c4e8dc39c1b"
      },
      "outputs": [
        {
          "output_type": "execute_result",
          "data": {
            "text/plain": [
              "'{} me formate!'"
            ],
            "application/vnd.google.colaboratory.intrinsic+json": {
              "type": "string"
            }
          },
          "metadata": {},
          "execution_count": 202
        }
      ],
      "source": [
        "string_a_ser_formatada = '{} me formate!'\n",
        "string_a_ser_formatada"
      ]
    },
    {
      "cell_type": "code",
      "execution_count": null,
      "id": "4c71a26a-08bf-41d1-87c2-05999d3c9098",
      "metadata": {
        "id": "4c71a26a-08bf-41d1-87c2-05999d3c9098",
        "colab": {
          "base_uri": "https://localhost:8080/",
          "height": 35
        },
        "outputId": "0396c35d-bcb0-4909-f261-01f4fa6d330a"
      },
      "outputs": [
        {
          "output_type": "execute_result",
          "data": {
            "text/plain": [
              "'Não me formate!'"
            ],
            "application/vnd.google.colaboratory.intrinsic+json": {
              "type": "string"
            }
          },
          "metadata": {},
          "execution_count": 205
        }
      ],
      "source": [
        "string_a_ser_formatada.format(\"Não\")"
      ]
    },
    {
      "cell_type": "markdown",
      "id": "4cac9c26-8ee2-427d-bdcc-68c884f022d2",
      "metadata": {
        "id": "4cac9c26-8ee2-427d-bdcc-68c884f022d2"
      },
      "source": [
        "A string a ser formatada não é alterada nesse processo, já que não foi feita nenhuma atribuição:"
      ]
    },
    {
      "cell_type": "code",
      "execution_count": null,
      "id": "8e6a653e-3de6-411b-9d62-b6fb6cd32a57",
      "metadata": {
        "id": "8e6a653e-3de6-411b-9d62-b6fb6cd32a57",
        "colab": {
          "base_uri": "https://localhost:8080/",
          "height": 35
        },
        "outputId": "4fa0b17c-31b1-4c3f-8c56-027792991477"
      },
      "outputs": [
        {
          "output_type": "execute_result",
          "data": {
            "text/plain": [
              "'{} me formate!'"
            ],
            "application/vnd.google.colaboratory.intrinsic+json": {
              "type": "string"
            }
          },
          "metadata": {},
          "execution_count": 206
        }
      ],
      "source": [
        "string_a_ser_formatada"
      ]
    },
    {
      "cell_type": "markdown",
      "id": "46875d6e-ba50-441a-9936-9acfd36b9930",
      "metadata": {
        "id": "46875d6e-ba50-441a-9936-9acfd36b9930"
      },
      "source": [
        "##### Alternativa ao `format()`\n",
        "Uma maneira mais recente de formatar strings foi introduzida a partir da versão 3.6 do Python: PEP 498 – Literal String Interpolation, carinhosamente conhecida como fstrings e funciona da seguinte forma:"
      ]
    },
    {
      "cell_type": "code",
      "execution_count": null,
      "id": "13a177e1-a69d-47ad-b323-aabcdb9ddd10",
      "metadata": {
        "id": "13a177e1-a69d-47ad-b323-aabcdb9ddd10"
      },
      "outputs": [],
      "source": [
        "nome = \"Breno\"\n",
        "f\"Olá, {nome}.\""
      ]
    },
    {
      "cell_type": "code",
      "execution_count": null,
      "id": "52db3428-8b33-405f-9ee9-bc8b54604777",
      "metadata": {
        "id": "52db3428-8b33-405f-9ee9-bc8b54604777"
      },
      "outputs": [],
      "source": [
        "num = 12\n",
        "print(\n",
        "    f\"\"\"\n",
        "    Número de meses em um ano: {num}.\n",
        "    Número de meses em um semestre: {num // 2}.\n",
        "    Número de meses em um trimestre: {num // 4}.\n",
        "    Número de meses em um quadrimestre: {num // 3}.\n",
        "    Número de meses em um bimestre: {num // 6}\n",
        "    \"\"\"\n",
        ")"
      ]
    },
    {
      "cell_type": "markdown",
      "id": "21fce901-192e-4fd4-a38e-d015bac50f9e",
      "metadata": {
        "id": "21fce901-192e-4fd4-a38e-d015bac50f9e"
      },
      "source": [
        "#### Listas\n",
        "Listas são estruturas de dados capazes de armazenar múltiplos elementos."
      ]
    },
    {
      "cell_type": "markdown",
      "id": "87ddffb9-50d5-4dcc-b3f5-140142477fe6",
      "metadata": {
        "id": "87ddffb9-50d5-4dcc-b3f5-140142477fe6"
      },
      "source": [
        "##### Declaração\n",
        "Para a criação de uma lista, basta colocar os elementos separados por vírgulas dentro de colchetes `[]`, como no exemplo abaixo:"
      ]
    },
    {
      "cell_type": "code",
      "execution_count": null,
      "id": "7a616051-8b9e-429b-bc37-5a7ff7c18b80",
      "metadata": {
        "id": "7a616051-8b9e-429b-bc37-5a7ff7c18b80"
      },
      "outputs": [],
      "source": [
        "nomes_frutas = [\"maça\", \"banana\", \"abacaxi\"]\n",
        "nomes_frutas"
      ]
    },
    {
      "cell_type": "code",
      "execution_count": null,
      "id": "a60044f6-9ef9-4dc4-9a50-ce5f89cff355",
      "metadata": {
        "id": "a60044f6-9ef9-4dc4-9a50-ce5f89cff355"
      },
      "outputs": [],
      "source": [
        "numeros = [2, 13, 17, 47]\n",
        "numeros"
      ]
    },
    {
      "cell_type": "markdown",
      "id": "03a76a39-24a8-475f-bc31-b3c4549d2cb8",
      "metadata": {
        "id": "03a76a39-24a8-475f-bc31-b3c4549d2cb8"
      },
      "source": [
        "Uma lista também pode ser contida por diferentes tipos de elementos, por exemplo:"
      ]
    },
    {
      "cell_type": "code",
      "execution_count": null,
      "id": "1d6605ff-91ff-4a57-96ca-50c7fe1f2c7e",
      "metadata": {
        "id": "1d6605ff-91ff-4a57-96ca-50c7fe1f2c7e"
      },
      "outputs": [],
      "source": [
        "['lorem ipsum', 150, 1.3, [-1, -2]]"
      ]
    },
    {
      "cell_type": "markdown",
      "id": "8ef91fdb-6787-4703-a0b9-28575ae17b09",
      "metadata": {
        "id": "8ef91fdb-6787-4703-a0b9-28575ae17b09"
      },
      "source": [
        "Uma lista também pode ser vazia, algo que futaremente veremos que pode ser muito útil, por exemplo:"
      ]
    },
    {
      "cell_type": "code",
      "execution_count": null,
      "id": "6ca7c8d7-6f37-4fed-b64e-6c336938527f",
      "metadata": {
        "id": "6ca7c8d7-6f37-4fed-b64e-6c336938527f"
      },
      "outputs": [],
      "source": [
        "vazia = []\n",
        "vazia"
      ]
    },
    {
      "cell_type": "markdown",
      "id": "6a931483-df04-4472-9d42-938af32a6ccc",
      "metadata": {
        "id": "6a931483-df04-4472-9d42-938af32a6ccc"
      },
      "source": [
        "##### Índices\n",
        "Assim como nas strings, é possível acessar separadamente cada item de uma lista a partir de seu índice:"
      ]
    },
    {
      "cell_type": "code",
      "execution_count": null,
      "id": "85577ad9-d421-4940-8bbe-c4b3026a7cf3",
      "metadata": {
        "id": "85577ad9-d421-4940-8bbe-c4b3026a7cf3",
        "colab": {
          "base_uri": "https://localhost:8080/"
        },
        "outputId": "7e7212ce-c80c-42fe-8935-a339b0edcbe9"
      },
      "outputs": [
        {
          "output_type": "execute_result",
          "data": {
            "text/plain": [
              "100"
            ]
          },
          "metadata": {},
          "execution_count": 207
        }
      ],
      "source": [
        "lista = [100, 200, 300, 400, 500]\n",
        "lista[0] # Primeiro elemento"
      ]
    },
    {
      "cell_type": "code",
      "execution_count": null,
      "id": "b1dcd6c7-1c39-43a9-b93e-6a17763471b3",
      "metadata": {
        "id": "b1dcd6c7-1c39-43a9-b93e-6a17763471b3",
        "colab": {
          "base_uri": "https://localhost:8080/"
        },
        "outputId": "10923ec7-36bc-4492-d09f-2fafe44992dc"
      },
      "outputs": [
        {
          "output_type": "execute_result",
          "data": {
            "text/plain": [
              "300"
            ]
          },
          "metadata": {},
          "execution_count": 208
        }
      ],
      "source": [
        "lista[2] # Terceiro elemento"
      ]
    },
    {
      "cell_type": "code",
      "execution_count": null,
      "id": "f17cca9f-dd7a-48ea-9ac1-a9d9e3b92adf",
      "metadata": {
        "id": "f17cca9f-dd7a-48ea-9ac1-a9d9e3b92adf",
        "colab": {
          "base_uri": "https://localhost:8080/"
        },
        "outputId": "53b5f1c8-6c1f-4c68-995f-9c94ccdb6326"
      },
      "outputs": [
        {
          "output_type": "execute_result",
          "data": {
            "text/plain": [
              "500"
            ]
          },
          "metadata": {},
          "execution_count": 209
        }
      ],
      "source": [
        "lista[4] # Último elemento"
      ]
    },
    {
      "cell_type": "code",
      "execution_count": null,
      "id": "cc83ff1c-c25a-4a75-870a-46c5bcb1c4c6",
      "metadata": {
        "id": "cc83ff1c-c25a-4a75-870a-46c5bcb1c4c6",
        "colab": {
          "base_uri": "https://localhost:8080/"
        },
        "outputId": "4a299be2-9a14-4b17-ca8e-508527fc5498"
      },
      "outputs": [
        {
          "output_type": "execute_result",
          "data": {
            "text/plain": [
              "500"
            ]
          },
          "metadata": {},
          "execution_count": 210
        }
      ],
      "source": [
        "lista[-1] # Outra maneira de acessar o último elemento"
      ]
    },
    {
      "cell_type": "markdown",
      "id": "23620deb-9892-4a04-8a51-c1f38cda5dca",
      "metadata": {
        "id": "23620deb-9892-4a04-8a51-c1f38cda5dca"
      },
      "source": [
        "Tentar acessar uma posição inválida de uma lista causa um erro:"
      ]
    },
    {
      "cell_type": "code",
      "execution_count": null,
      "id": "0f303841-6da0-45bc-8a43-81d898ded6a8",
      "metadata": {
        "id": "0f303841-6da0-45bc-8a43-81d898ded6a8",
        "colab": {
          "base_uri": "https://localhost:8080/",
          "height": 141
        },
        "outputId": "88887cf2-c64d-49e2-935d-4c44156ad217"
      },
      "outputs": [
        {
          "output_type": "error",
          "ename": "IndexError",
          "evalue": "list index out of range",
          "traceback": [
            "\u001b[0;31m---------------------------------------------------------------------------\u001b[0m",
            "\u001b[0;31mIndexError\u001b[0m                                Traceback (most recent call last)",
            "\u001b[0;32m<ipython-input-211-47b17e44d0b2>\u001b[0m in \u001b[0;36m<cell line: 1>\u001b[0;34m()\u001b[0m\n\u001b[0;32m----> 1\u001b[0;31m \u001b[0mlista\u001b[0m\u001b[0;34m[\u001b[0m\u001b[0;36m10\u001b[0m\u001b[0;34m]\u001b[0m\u001b[0;34m\u001b[0m\u001b[0;34m\u001b[0m\u001b[0m\n\u001b[0m",
            "\u001b[0;31mIndexError\u001b[0m: list index out of range"
          ]
        }
      ],
      "source": [
        "lista[10]"
      ]
    },
    {
      "cell_type": "markdown",
      "id": "01648f8c-eb50-4e8c-bdb0-e2f114f57979",
      "metadata": {
        "id": "01648f8c-eb50-4e8c-bdb0-e2f114f57979"
      },
      "source": [
        "##### Slicing (Fatiamento)\n",
        "Semelhante ao processo de fatiamento de strings."
      ]
    },
    {
      "cell_type": "code",
      "execution_count": null,
      "id": "e02829cc-f2ef-447f-8016-0d3168c31fd8",
      "metadata": {
        "id": "e02829cc-f2ef-447f-8016-0d3168c31fd8"
      },
      "outputs": [],
      "source": [
        "lista[0:1] # Do começo até o primeiro elemento"
      ]
    },
    {
      "cell_type": "code",
      "execution_count": null,
      "id": "aac1f685-a7c0-4b46-b8e9-4e29d3885fe0",
      "metadata": {
        "id": "aac1f685-a7c0-4b46-b8e9-4e29d3885fe0"
      },
      "outputs": [],
      "source": [
        "lista[0:2] # Do começo até o segundo elemento (que está na posição de índice 1)"
      ]
    },
    {
      "cell_type": "code",
      "execution_count": null,
      "id": "3d048707-b9f6-44d4-8966-243512e79a75",
      "metadata": {
        "id": "3d048707-b9f6-44d4-8966-243512e79a75"
      },
      "outputs": [],
      "source": [
        "lista[::2] # Do começo ao fim, de 2 em 2 elementos"
      ]
    },
    {
      "cell_type": "code",
      "execution_count": null,
      "id": "4662173c-6888-4813-8846-fd17f2226926",
      "metadata": {
        "id": "4662173c-6888-4813-8846-fd17f2226926"
      },
      "outputs": [],
      "source": [
        "lista[::-2] # Do fim ao começo, de 2 em 2 elementos"
      ]
    },
    {
      "cell_type": "markdown",
      "id": "b93c53c1-90ca-4693-ad24-9421016f0533",
      "metadata": {
        "id": "b93c53c1-90ca-4693-ad24-9421016f0533"
      },
      "source": [
        "##### Verificações"
      ]
    },
    {
      "cell_type": "markdown",
      "id": "e08c815a-b086-4b10-af6b-1d9025cf753b",
      "metadata": {
        "id": "e08c815a-b086-4b10-af6b-1d9025cf753b"
      },
      "source": [
        "Verificar se um elemento está contido em uma lista. Utilizando o conector lógico `in`."
      ]
    },
    {
      "cell_type": "code",
      "execution_count": null,
      "id": "adc50558-c63c-42d9-91f2-72d1dc9eeb40",
      "metadata": {
        "id": "adc50558-c63c-42d9-91f2-72d1dc9eeb40"
      },
      "outputs": [],
      "source": [
        "lista_estranha = ['duas palavras', 42, True, ['batman', 'robin'], -0.84, 'hipófise']\n",
        "42 in lista_estranha"
      ]
    },
    {
      "cell_type": "code",
      "execution_count": null,
      "id": "8b0ecd9f-6081-4f7d-b4c3-0a4542beb40e",
      "metadata": {
        "id": "8b0ecd9f-6081-4f7d-b4c3-0a4542beb40e"
      },
      "outputs": [],
      "source": [
        "'duas palavras' in lista_estranha"
      ]
    },
    {
      "cell_type": "code",
      "execution_count": null,
      "id": "c5bb7bdf-27a2-43f9-b774-dd38d04763f0",
      "metadata": {
        "id": "c5bb7bdf-27a2-43f9-b774-dd38d04763f0"
      },
      "outputs": [],
      "source": [
        "'batman' in lista_estranha"
      ]
    },
    {
      "cell_type": "code",
      "execution_count": null,
      "id": "819ddfcc-1280-40cf-a5a3-5c7f8b4a13f2",
      "metadata": {
        "id": "819ddfcc-1280-40cf-a5a3-5c7f8b4a13f2"
      },
      "outputs": [],
      "source": [
        "'batman' in lista_estranha[3] # Note que o elemento com índice 3 também é uma lista"
      ]
    },
    {
      "cell_type": "markdown",
      "id": "d8cc0dd0-08fe-4459-a49f-37b10ec74acb",
      "metadata": {
        "id": "d8cc0dd0-08fe-4459-a49f-37b10ec74acb"
      },
      "source": [
        "Verificando o tamnaho de uma lista. É possível obter o tamanho da lista utilizando função `len()`:"
      ]
    },
    {
      "cell_type": "code",
      "execution_count": null,
      "id": "224f4558-625d-4472-8e31-3de9f3ea6323",
      "metadata": {
        "id": "224f4558-625d-4472-8e31-3de9f3ea6323"
      },
      "outputs": [],
      "source": [
        "len(lista)"
      ]
    },
    {
      "cell_type": "code",
      "execution_count": null,
      "id": "13ea082b-1d57-4c0e-8204-33e3db9a5629",
      "metadata": {
        "id": "13ea082b-1d57-4c0e-8204-33e3db9a5629"
      },
      "outputs": [],
      "source": [
        "len(lista_estranha)"
      ]
    },
    {
      "cell_type": "code",
      "execution_count": null,
      "id": "f198fc66-4ba3-45c1-9865-ca5949f94e5a",
      "metadata": {
        "id": "f198fc66-4ba3-45c1-9865-ca5949f94e5a"
      },
      "outputs": [],
      "source": [
        "len(lista_estranha[3])"
      ]
    },
    {
      "cell_type": "markdown",
      "id": "f2aae2d4-f450-4199-853e-4463553e474d",
      "metadata": {
        "id": "f2aae2d4-f450-4199-853e-4463553e474d"
      },
      "source": [
        "##### Removendo itens da lista\n",
        "Devido à lista ser uma estrutura mutável, é possível remover seus elementos utilizando o comando `del`:"
      ]
    },
    {
      "cell_type": "code",
      "execution_count": null,
      "id": "d1ae85f0-376f-4cee-9512-35e9f5fa3121",
      "metadata": {
        "id": "d1ae85f0-376f-4cee-9512-35e9f5fa3121"
      },
      "outputs": [],
      "source": [
        "lista_estranha"
      ]
    },
    {
      "cell_type": "code",
      "execution_count": null,
      "id": "972fa5c3-2b31-472e-8b66-ac7cf99d9d6c",
      "metadata": {
        "id": "972fa5c3-2b31-472e-8b66-ac7cf99d9d6c"
      },
      "outputs": [],
      "source": [
        "del lista_estranha[2]\n",
        "lista_estranha"
      ]
    },
    {
      "cell_type": "code",
      "execution_count": null,
      "id": "ffb90bc6-f62e-45aa-9259-d88bc026c1c6",
      "metadata": {
        "id": "ffb90bc6-f62e-45aa-9259-d88bc026c1c6"
      },
      "outputs": [],
      "source": [
        "del lista_estranha[-1] # Remove o último elemento da lista\n",
        "lista_estranha"
      ]
    },
    {
      "cell_type": "markdown",
      "id": "63a759bc-b455-429f-8fa7-cd10a9807e05",
      "metadata": {
        "id": "63a759bc-b455-429f-8fa7-cd10a9807e05"
      },
      "source": [
        "##### Trabalhando com listas"
      ]
    },
    {
      "cell_type": "markdown",
      "id": "fef294a4-bda8-4366-94da-8462cf6f3857",
      "metadata": {
        "id": "fef294a4-bda8-4366-94da-8462cf6f3857"
      },
      "source": [
        "O operador $+$ concatena listas:"
      ]
    },
    {
      "cell_type": "code",
      "execution_count": null,
      "id": "e78eecce-8adf-4d06-9161-2726b1a7cdd2",
      "metadata": {
        "id": "e78eecce-8adf-4d06-9161-2726b1a7cdd2"
      },
      "outputs": [],
      "source": [
        "a = [1, 2, 3]\n",
        "b = [4, 5, 6]\n",
        "c = a + b\n",
        "c"
      ]
    },
    {
      "cell_type": "markdown",
      "id": "542813ab-9df6-4f04-918a-8c00cb78183f",
      "metadata": {
        "id": "542813ab-9df6-4f04-918a-8c00cb78183f"
      },
      "source": [
        "O operador $*$ repete a lista dado um número de vezes:"
      ]
    },
    {
      "cell_type": "code",
      "execution_count": null,
      "id": "48be7fbb-037f-447e-8784-e828fb84c330",
      "metadata": {
        "id": "48be7fbb-037f-447e-8784-e828fb84c330"
      },
      "outputs": [],
      "source": [
        "[0] * 3"
      ]
    },
    {
      "cell_type": "code",
      "execution_count": null,
      "id": "45fd0046-d4c0-4973-971e-515fc5180cc5",
      "metadata": {
        "id": "45fd0046-d4c0-4973-971e-515fc5180cc5"
      },
      "outputs": [],
      "source": [
        "[1, 2, 3] * 2"
      ]
    },
    {
      "cell_type": "markdown",
      "id": "fdf90ef0-4c55-498a-9bb2-a5175f64df5e",
      "metadata": {
        "id": "fdf90ef0-4c55-498a-9bb2-a5175f64df5e"
      },
      "source": [
        "O método `append()` adiciona um elemento ao final da lista:"
      ]
    },
    {
      "cell_type": "code",
      "execution_count": null,
      "id": "669d748c-5d0f-4fee-85b8-9f90f5ef5806",
      "metadata": {
        "id": "669d748c-5d0f-4fee-85b8-9f90f5ef5806"
      },
      "outputs": [],
      "source": [
        "lista = ['a', 'b', 'c']\n",
        "lista"
      ]
    },
    {
      "cell_type": "code",
      "execution_count": null,
      "id": "ecc3774d-8ce0-44bc-8e4a-fb3f3479f313",
      "metadata": {
        "id": "ecc3774d-8ce0-44bc-8e4a-fb3f3479f313"
      },
      "outputs": [],
      "source": [
        "lista.append('e')\n",
        "lista"
      ]
    },
    {
      "cell_type": "markdown",
      "id": "bfd3021d-6587-4603-b4e6-04c4b3f5d705",
      "metadata": {
        "id": "bfd3021d-6587-4603-b4e6-04c4b3f5d705"
      },
      "source": [
        "Temos também o `insert()`, que insere um elemento na posição especificada e move os demais elementos para direita:"
      ]
    },
    {
      "cell_type": "code",
      "execution_count": null,
      "id": "56dbd312-f88a-44b4-960a-18bb321c28bb",
      "metadata": {
        "id": "56dbd312-f88a-44b4-960a-18bb321c28bb"
      },
      "outputs": [],
      "source": [
        "lista.insert(3, 'd') # Insere 'd' na posição 3\n",
        "lista"
      ]
    },
    {
      "cell_type": "markdown",
      "id": "abad550f-e360-4c0b-9788-a11381c0b3b6",
      "metadata": {
        "id": "abad550f-e360-4c0b-9788-a11381c0b3b6"
      },
      "source": [
        "> **Aviso:** Cuidado com `lista.insert(-1, algo)`! Nesse caso, inserimos algo na posição -1 e o elemento que estava previamente na posição `-1` é movido para a direita:"
      ]
    },
    {
      "cell_type": "code",
      "execution_count": null,
      "id": "270e9c73-b30b-48fe-97b9-50115599fc38",
      "metadata": {
        "id": "270e9c73-b30b-48fe-97b9-50115599fc38"
      },
      "outputs": [],
      "source": [
        "lista.insert(-1, 'ç')\n",
        "lista"
      ]
    },
    {
      "cell_type": "markdown",
      "id": "c1338165-ec3c-44bf-8d43-1c7d0f00bd23",
      "metadata": {
        "id": "c1338165-ec3c-44bf-8d43-1c7d0f00bd23"
      },
      "source": [
        "> Use `append()` caso queira algo adicionado ao final da lista."
      ]
    },
    {
      "cell_type": "markdown",
      "id": "07de0470-8460-4f01-81c3-4fd4939a5447",
      "metadata": {
        "id": "07de0470-8460-4f01-81c3-4fd4939a5447"
      },
      "source": [
        "`extend()` recebe uma lista como argumento e adiciona todos seus elementos a outra:"
      ]
    },
    {
      "cell_type": "code",
      "execution_count": null,
      "id": "9ebfb1a2-25c0-4985-b4b3-88016ef3e91b",
      "metadata": {
        "id": "9ebfb1a2-25c0-4985-b4b3-88016ef3e91b"
      },
      "outputs": [],
      "source": [
        "lista1 = ['a', 'b', 'c']\n",
        "lista2 = ['d', 'e']"
      ]
    },
    {
      "cell_type": "code",
      "execution_count": null,
      "id": "c6abb5ac-044f-492d-a4ca-e86b67290dc8",
      "metadata": {
        "id": "c6abb5ac-044f-492d-a4ca-e86b67290dc8"
      },
      "outputs": [],
      "source": [
        "lista1.extend(lista2)\n",
        "lista1"
      ]
    },
    {
      "cell_type": "code",
      "execution_count": null,
      "id": "5d2a5834-cd7e-476a-9bcb-d4caf93ec3fc",
      "metadata": {
        "id": "5d2a5834-cd7e-476a-9bcb-d4caf93ec3fc"
      },
      "outputs": [],
      "source": [
        "lista2 # `lista2` não é modificado"
      ]
    },
    {
      "cell_type": "markdown",
      "id": "bee5cab8-2b77-420f-b86f-ac2132e74617",
      "metadata": {
        "id": "bee5cab8-2b77-420f-b86f-ac2132e74617"
      },
      "source": [
        "O método `sort()` ordena os elementos da lista em ordem ascendente:"
      ]
    },
    {
      "cell_type": "code",
      "execution_count": null,
      "id": "8cb10f29-b98d-457c-873c-0fd51c7c9032",
      "metadata": {
        "id": "8cb10f29-b98d-457c-873c-0fd51c7c9032"
      },
      "outputs": [],
      "source": [
        "lista_desordenada = ['b', 'z', 'k', 'a', 'h']\n",
        "lista_desordenada"
      ]
    },
    {
      "cell_type": "code",
      "execution_count": null,
      "id": "e11b453a-12b1-44e1-acad-3eafca2b1b4a",
      "metadata": {
        "id": "e11b453a-12b1-44e1-acad-3eafca2b1b4a"
      },
      "outputs": [],
      "source": [
        "lista_desordenada.sort()\n",
        "lista_desordenada # Agora está ordenada!"
      ]
    },
    {
      "cell_type": "code",
      "execution_count": null,
      "id": "6acb748f-23b9-4885-80c8-6992a82e09f6",
      "metadata": {
        "id": "6acb748f-23b9-4885-80c8-6992a82e09f6"
      },
      "outputs": [],
      "source": [
        "lista2_desordenada = [5, 6.4, 1.2, 34, 2.1]\n",
        "lista2_desordenada"
      ]
    },
    {
      "cell_type": "code",
      "execution_count": null,
      "id": "fa50e1db-ec32-4b07-96cd-f158581055a5",
      "metadata": {
        "id": "fa50e1db-ec32-4b07-96cd-f158581055a5"
      },
      "outputs": [],
      "source": [
        "lista2_desordenada.sort()\n",
        "lista2_desordenada # Agora está ordenada!"
      ]
    },
    {
      "cell_type": "markdown",
      "id": "e903d4b2-cef5-4f13-a902-3476426744be",
      "metadata": {
        "id": "e903d4b2-cef5-4f13-a902-3476426744be"
      },
      "source": [
        "Para fazer uma cópia de uma lista, devemos usar o método `copy()`:"
      ]
    },
    {
      "cell_type": "code",
      "execution_count": null,
      "id": "cc918041-55af-4228-a80b-dba048a26ee2",
      "metadata": {
        "id": "cc918041-55af-4228-a80b-dba048a26ee2"
      },
      "outputs": [],
      "source": [
        "lista1 = ['a', 'b', 'c']\n",
        "lista2 = lista1.copy()"
      ]
    },
    {
      "cell_type": "code",
      "execution_count": null,
      "id": "a7dc7e1b-9358-4e84-a016-5e014f3df506",
      "metadata": {
        "id": "a7dc7e1b-9358-4e84-a016-5e014f3df506"
      },
      "outputs": [],
      "source": [
        "print(lista1)\n",
        "print(lista2)"
      ]
    },
    {
      "cell_type": "code",
      "execution_count": null,
      "id": "12365302-15e5-4abb-bb5a-1cdda8f96c6c",
      "metadata": {
        "id": "12365302-15e5-4abb-bb5a-1cdda8f96c6c"
      },
      "outputs": [],
      "source": [
        "lista2.append('d')\n",
        "lista2"
      ]
    },
    {
      "cell_type": "code",
      "execution_count": null,
      "id": "a3811dc6-dccc-4572-acf6-91177287a012",
      "metadata": {
        "id": "a3811dc6-dccc-4572-acf6-91177287a012"
      },
      "outputs": [],
      "source": [
        "lista1"
      ]
    },
    {
      "cell_type": "markdown",
      "id": "c4d18ab5-3a74-4527-841f-225101e69159",
      "metadata": {
        "id": "c4d18ab5-3a74-4527-841f-225101e69159"
      },
      "source": [
        "Se não usarmos o `copy()`, acontece algo bem estranho:"
      ]
    },
    {
      "cell_type": "code",
      "execution_count": null,
      "id": "03e5a559-d825-45aa-930a-dd95ae0bdf58",
      "metadata": {
        "id": "03e5a559-d825-45aa-930a-dd95ae0bdf58"
      },
      "outputs": [],
      "source": [
        "lista1 = ['a', 'b', 'c']\n",
        "lista2 = lista1"
      ]
    },
    {
      "cell_type": "code",
      "execution_count": null,
      "id": "d3035324-aed1-4706-8f1b-a416c3734f8a",
      "metadata": {
        "id": "d3035324-aed1-4706-8f1b-a416c3734f8a"
      },
      "outputs": [],
      "source": [
        "print(lista1)\n",
        "print(lista2)"
      ]
    },
    {
      "cell_type": "code",
      "execution_count": null,
      "id": "d6bab162-4c04-4d4f-8dbb-186e2f8ea818",
      "metadata": {
        "id": "d6bab162-4c04-4d4f-8dbb-186e2f8ea818"
      },
      "outputs": [],
      "source": [
        "lista2.append('d')\n",
        "lista2"
      ]
    },
    {
      "cell_type": "code",
      "execution_count": null,
      "id": "55f98ddf-8f32-46d8-9212-b6cfc759d888",
      "metadata": {
        "id": "55f98ddf-8f32-46d8-9212-b6cfc759d888"
      },
      "outputs": [],
      "source": [
        "lista1"
      ]
    },
    {
      "cell_type": "markdown",
      "id": "0ddc73a1-2f60-40c3-8296-4682d7055f8e",
      "metadata": {
        "id": "0ddc73a1-2f60-40c3-8296-4682d7055f8e"
      },
      "source": [
        "Para alterar um valor em específico de uma lista basta sabermos em que índice tal valor está."
      ]
    },
    {
      "cell_type": "code",
      "execution_count": null,
      "id": "ccf866a7-21db-4309-b64f-938a292c70c7",
      "metadata": {
        "id": "ccf866a7-21db-4309-b64f-938a292c70c7"
      },
      "outputs": [],
      "source": [
        "# Criando uma lista que contém as cinco primeiras letras do alfabelto\n",
        "alfabeto = ['A', 'B', 'C', 'Z', 'E']\n",
        "\n",
        "# Visualizando antes da mudança\n",
        "print(f\"Lista Atual: {alfabeto}\")\n",
        "\n",
        "# Verificando em qual posição está o elemneto que deve ser alterado\n",
        "id = alfabeto.index('Z')\n",
        "\n",
        "# Fazendo a alteração na lista original\n",
        "alfabeto[id] = 'D'\n",
        "\n",
        "# Visualizando lista alterada\n",
        "print(f\"Lista Alterada: {alfabeto}\")"
      ]
    },
    {
      "cell_type": "markdown",
      "id": "fa314309-f03e-457c-b3b8-2e88c682fcdd",
      "metadata": {
        "id": "fa314309-f03e-457c-b3b8-2e88c682fcdd"
      },
      "source": [
        "#### Função `range()`\n",
        "Assim com as funções `print()` e `len()`, a função `range()` é do Python básico."
      ]
    },
    {
      "cell_type": "markdown",
      "id": "7a87370d-4606-425e-9373-4a9746830f1e",
      "metadata": {
        "id": "7a87370d-4606-425e-9373-4a9746830f1e"
      },
      "source": [
        "Aprendemos a adicionar itens a uma lista mas, e se fosse necessário produzir uma lista com os números de 1 até 200?\n",
        "```\n",
        "[Input]: lista_grande = [1, 2, 3, 4, 5, 6, 7, 8, 9, 10, 11, 12, 13, ..., 200]\n",
        "```\n",
        "\n",
        "Em Python existe a função embutida `range()`, com ela é possível produzir uma lista extensa de uma maneira bem simples:"
      ]
    },
    {
      "cell_type": "code",
      "execution_count": null,
      "id": "f7f8231a-b25e-42e5-acf7-02afac6f2936",
      "metadata": {
        "id": "f7f8231a-b25e-42e5-acf7-02afac6f2936",
        "scrolled": true
      },
      "outputs": [],
      "source": [
        "list(range(1, 200))"
      ]
    },
    {
      "cell_type": "code",
      "execution_count": null,
      "id": "3c593105-80d1-4591-8626-8e3138e948d8",
      "metadata": {
        "id": "3c593105-80d1-4591-8626-8e3138e948d8"
      },
      "outputs": [],
      "source": [
        "print(list(range(1, 200)))"
      ]
    },
    {
      "cell_type": "markdown",
      "id": "e52ecfd0-1d83-4b39-b52d-9bda1619c9e4",
      "metadata": {
        "id": "e52ecfd0-1d83-4b39-b52d-9bda1619c9e4"
      },
      "source": [
        "Além disso, o `range()` também oferece algumas coisas interessantes. Por exemplo, imprimir os números espaçados de 5 em 5, entre 0 e 30:"
      ]
    },
    {
      "cell_type": "code",
      "execution_count": null,
      "id": "67a92c7a-dbbc-48d7-9d63-6c7000da1d00",
      "metadata": {
        "id": "67a92c7a-dbbc-48d7-9d63-6c7000da1d00"
      },
      "outputs": [],
      "source": [
        "list(range(0, 30, 5))"
      ]
    },
    {
      "cell_type": "markdown",
      "id": "ae6a9d08-ca76-4e0d-8be1-ba3960134719",
      "metadata": {
        "id": "ae6a9d08-ca76-4e0d-8be1-ba3960134719"
      },
      "source": [
        "Repare que os argumentos passados são da forma: `range(start, stop, step)`.\n",
        "\n",
        "Onde **start:** É o início. **stop:** É o fim ($n - 1$). **step:** É o espaço entre o valores contidos entre $[start;stop)$\n",
        "\n",
        "Mas por que precisamos transformar o `range()` em `list`? O que acontece se não fizermos isso?"
      ]
    },
    {
      "cell_type": "code",
      "execution_count": null,
      "id": "9f9c61af-e5bd-4956-99ab-d226ebd3baa6",
      "metadata": {
        "id": "9f9c61af-e5bd-4956-99ab-d226ebd3baa6"
      },
      "outputs": [],
      "source": [
        "print(range(200))\n",
        "print(type(range(200)))"
      ]
    },
    {
      "cell_type": "markdown",
      "id": "a2d2c74d-7fd2-487a-a3a4-d47e851b5c87",
      "metadata": {
        "id": "a2d2c74d-7fd2-487a-a3a4-d47e851b5c87"
      },
      "source": [
        "A função `range()` retorna algo do tipo range, por isso precisamos transformar em uma lista para vermos (imprimir) todos os números no `print()`!"
      ]
    },
    {
      "cell_type": "code",
      "execution_count": null,
      "id": "ceed2954-29e6-47c5-b9da-64b294841850",
      "metadata": {
        "id": "ceed2954-29e6-47c5-b9da-64b294841850",
        "scrolled": true
      },
      "outputs": [],
      "source": [
        "range_lista = list(range(200))\n",
        "range_lista"
      ]
    },
    {
      "cell_type": "markdown",
      "id": "f80d1d96-5e2c-4f76-a64a-7ab24af82d47",
      "metadata": {
        "id": "f80d1d96-5e2c-4f76-a64a-7ab24af82d47"
      },
      "source": [
        "#### Dicionários\n",
        "\n",
        "Dicionário é uma coleção de itens (chamados chaves) e seus respectivos significados (chamados de valores): `{chave: valor}`.\n",
        "\n",
        "Cada chave do dicionário deve ser única! Ao contrário de listas, dicionários, não podem ter chaves repetidas.\n",
        "\n",
        "> **Nota:** As chaves devem ser únicas."
      ]
    },
    {
      "cell_type": "markdown",
      "id": "4e77a4d4-b91d-4512-9e8d-58b34ca0d03f",
      "metadata": {
        "id": "4e77a4d4-b91d-4512-9e8d-58b34ca0d03f"
      },
      "source": [
        "##### Declaração\n",
        "Declaramos um dicionário colocando entre chaves `{}` cada chave e o seu respectivo valor, da seguinte forma:"
      ]
    },
    {
      "cell_type": "code",
      "execution_count": null,
      "id": "42ddd79b-1c7d-4f05-8b18-86a87a6e6285",
      "metadata": {
        "id": "42ddd79b-1c7d-4f05-8b18-86a87a6e6285"
      },
      "outputs": [],
      "source": [
        "telefones = {\"ana\": 123456, \"yudi\": 40028922, \"julia\": 4124492}\n",
        "telefones"
      ]
    },
    {
      "cell_type": "markdown",
      "id": "0fb4705f-1dbd-4aef-8e8b-caa0c21f1bc0",
      "metadata": {
        "id": "0fb4705f-1dbd-4aef-8e8b-caa0c21f1bc0"
      },
      "source": [
        "No caso acima, a chave `\"ana\"`, por exemplo, está relacionada ao valor `123456`. Cada par chave-valor é separado por uma vírgula."
      ]
    },
    {
      "cell_type": "markdown",
      "id": "aac4d12f-21bf-47a9-b303-2c72cafcee88",
      "metadata": {
        "id": "aac4d12f-21bf-47a9-b303-2c72cafcee88"
      },
      "source": [
        "##### Função `dict()`\n",
        "A função `dict()` constrói um dicionário. Existem algumas formas de usá-la:"
      ]
    },
    {
      "cell_type": "markdown",
      "id": "14557180-e7ef-4a47-848b-0e6e43756420",
      "metadata": {
        "id": "14557180-e7ef-4a47-848b-0e6e43756420"
      },
      "source": [
        "* Com uma lista de listas:"
      ]
    },
    {
      "cell_type": "code",
      "execution_count": null,
      "id": "9c1cf1fc-2d56-4651-8b00-661f2576eb5f",
      "metadata": {
        "id": "9c1cf1fc-2d56-4651-8b00-661f2576eb5f"
      },
      "outputs": [],
      "source": [
        "# Definindo três listas diferentes\n",
        "lista1 = [\"brigadeiro\", \"leite condesado, achocolatado\"]\n",
        "lista2 = [\"omelete\", \"ovos, azeite, condimentos a gosto\"]\n",
        "lista3 = [\"ovo frito\", \"ovo, óleo, condimentos a gosto\"]\n",
        "\n",
        "# Criando uma lista de listas\n",
        "lista_receitas = [lista1, lista2, lista3]\n",
        "\n",
        "# Visualizando resultado\n",
        "lista_receitas"
      ]
    },
    {
      "cell_type": "code",
      "execution_count": null,
      "id": "c99aeda9-0ec5-4af7-aa30-5970e252be2b",
      "metadata": {
        "id": "c99aeda9-0ec5-4af7-aa30-5970e252be2b"
      },
      "outputs": [],
      "source": [
        "# Transformando lista de listas em um dicionário\n",
        "receitas = dict(lista_receitas)\n",
        "\n",
        "# Visualizando o resultado\n",
        "receitas"
      ]
    },
    {
      "cell_type": "markdown",
      "id": "79c82a47-79ff-4a2a-a4f1-82f25297aba7",
      "metadata": {
        "id": "79c82a47-79ff-4a2a-a4f1-82f25297aba7"
      },
      "source": [
        "* Atribuindo os valores diretamente:"
      ]
    },
    {
      "cell_type": "code",
      "execution_count": null,
      "id": "ba41cc97-ad27-4ba1-b607-f1cf59fbb887",
      "metadata": {
        "id": "ba41cc97-ad27-4ba1-b607-f1cf59fbb887"
      },
      "outputs": [],
      "source": [
        "constantes = dict(pi=3.14, e=2.7, alpha=1/137)\n",
        "constantes"
      ]
    },
    {
      "cell_type": "markdown",
      "id": "0c5006b4-aeb1-4bff-b4c6-185aa5c0d64f",
      "metadata": {
        "id": "0c5006b4-aeb1-4bff-b4c6-185aa5c0d64f"
      },
      "source": [
        "##### Chaves\n",
        "Acessamos um determinado valor do dicionário através de sua chave:"
      ]
    },
    {
      "cell_type": "code",
      "execution_count": null,
      "id": "3d7dee88-2e73-4ca6-b8eb-d56e4894df91",
      "metadata": {
        "id": "3d7dee88-2e73-4ca6-b8eb-d56e4894df91"
      },
      "outputs": [],
      "source": [
        "# Definindo um dicionário para capitais de estados brasileiros\n",
        "capitais = {\"SP\": \"São Paulo\", \"AC\": \"Rio Branco\", \"TO\": \"Palmas\",\n",
        "            \"RJ\": \"Rio de Janeiro\", \"SE\": \"Aracaju\", \"MG\": \"Belo Horizonte\"}\n",
        "\n",
        "# Acessando o valor correspondente a chave \"MG\"\n",
        "capitais[\"MG\"]"
      ]
    },
    {
      "cell_type": "markdown",
      "id": "e86af16e-eea1-4be7-a615-e28ce1595e92",
      "metadata": {
        "id": "e86af16e-eea1-4be7-a615-e28ce1595e92"
      },
      "source": [
        "Até o momento, usamos apenas strings, mas podemos colocar todo tipo de coisa dentro dos dicionários, incluindo listas e até mesmo outros dicionários:"
      ]
    },
    {
      "cell_type": "code",
      "execution_count": null,
      "id": "2290bbc6-2668-4bd6-aeaf-8c25caee3f9d",
      "metadata": {
        "id": "2290bbc6-2668-4bd6-aeaf-8c25caee3f9d",
        "colab": {
          "base_uri": "https://localhost:8080/"
        },
        "outputId": "d4c1785d-debc-4762-993d-0fceb1f1f46d"
      },
      "outputs": [
        {
          "output_type": "execute_result",
          "data": {
            "text/plain": [
              "[1, 3, 5]"
            ]
          },
          "metadata": {},
          "execution_count": 216
        }
      ],
      "source": [
        "# Dicionários para tipos de número\n",
        "numeros = {\"primos\": [2, 3, 5], \"pares\": [0, 2, 4], \"ímpares\": [1, 3, 5]}\n",
        "\n",
        "# Acessando o valor correspondente a chave \"ímpares\"\n",
        "numeros[\"ímpares\"]"
      ]
    },
    {
      "cell_type": "markdown",
      "id": "1c1b87d9-3cf0-4082-9595-49369a148927",
      "metadata": {
        "id": "1c1b87d9-3cf0-4082-9595-49369a148927"
      },
      "source": [
        "Mesmo que os pares chave-valor estejam organizados na ordem que foram colocados, não podemos acessá-los por índices como faríamos em listas:"
      ]
    },
    {
      "cell_type": "code",
      "execution_count": null,
      "id": "d62255a1-6ffa-4e73-b69f-7bb3b1803afb",
      "metadata": {
        "id": "d62255a1-6ffa-4e73-b69f-7bb3b1803afb",
        "colab": {
          "base_uri": "https://localhost:8080/",
          "height": 141
        },
        "outputId": "4550a970-723c-452e-ebc8-0b78b4ccf48f"
      },
      "outputs": [
        {
          "output_type": "error",
          "ename": "KeyError",
          "evalue": "2",
          "traceback": [
            "\u001b[0;31m---------------------------------------------------------------------------\u001b[0m",
            "\u001b[0;31mKeyError\u001b[0m                                  Traceback (most recent call last)",
            "\u001b[0;32m<ipython-input-214-91860da3118d>\u001b[0m in \u001b[0;36m<cell line: 1>\u001b[0;34m()\u001b[0m\n\u001b[0;32m----> 1\u001b[0;31m \u001b[0mnumeros\u001b[0m\u001b[0;34m[\u001b[0m\u001b[0;36m2\u001b[0m\u001b[0;34m]\u001b[0m\u001b[0;34m\u001b[0m\u001b[0;34m\u001b[0m\u001b[0m\n\u001b[0m",
            "\u001b[0;31mKeyError\u001b[0m: 2"
          ]
        }
      ],
      "source": [
        "numeros[2]"
      ]
    },
    {
      "cell_type": "markdown",
      "id": "72fa661f-54ca-4736-b2ee-3f8cad86fecc",
      "metadata": {
        "id": "72fa661f-54ca-4736-b2ee-3f8cad86fecc"
      },
      "source": [
        "O mesmo erro ocorre se tentarmos colocar uma chave que não pertence ao dicionário:"
      ]
    },
    {
      "cell_type": "code",
      "execution_count": null,
      "id": "9cbe5eae-e44f-4a73-bbab-d03a85242489",
      "metadata": {
        "id": "9cbe5eae-e44f-4a73-bbab-d03a85242489",
        "colab": {
          "base_uri": "https://localhost:8080/",
          "height": 141
        },
        "outputId": "c36706dc-b3e6-4b9f-91b6-46730c3a6234"
      },
      "outputs": [
        {
          "output_type": "error",
          "ename": "KeyError",
          "evalue": "'negativos'",
          "traceback": [
            "\u001b[0;31m---------------------------------------------------------------------------\u001b[0m",
            "\u001b[0;31mKeyError\u001b[0m                                  Traceback (most recent call last)",
            "\u001b[0;32m<ipython-input-217-194d34c4fc4f>\u001b[0m in \u001b[0;36m<cell line: 1>\u001b[0;34m()\u001b[0m\n\u001b[0;32m----> 1\u001b[0;31m \u001b[0mnumeros\u001b[0m\u001b[0;34m[\u001b[0m\u001b[0;34m\"negativos\"\u001b[0m\u001b[0;34m]\u001b[0m\u001b[0;34m\u001b[0m\u001b[0;34m\u001b[0m\u001b[0m\n\u001b[0m",
            "\u001b[0;31mKeyError\u001b[0m: 'negativos'"
          ]
        }
      ],
      "source": [
        "numeros[\"negativos\"]"
      ]
    },
    {
      "cell_type": "markdown",
      "id": "cade9dd9-b9a4-4c34-ac3e-d992ebda0bc6",
      "metadata": {
        "id": "cade9dd9-b9a4-4c34-ac3e-d992ebda0bc6"
      },
      "source": [
        "Assim como os valores não precisam ser do tipo string, o mesmo vale para as chaves:"
      ]
    },
    {
      "cell_type": "code",
      "execution_count": null,
      "id": "a5549745-d657-4023-95ef-8d4eeb689c29",
      "metadata": {
        "id": "a5549745-d657-4023-95ef-8d4eeb689c29",
        "colab": {
          "base_uri": "https://localhost:8080/",
          "height": 35
        },
        "outputId": "f239ad61-1594-4263-81c3-2b82f42e91a2"
      },
      "outputs": [
        {
          "output_type": "execute_result",
          "data": {
            "text/plain": [
              "'zero'"
            ],
            "application/vnd.google.colaboratory.intrinsic+json": {
              "type": "string"
            }
          },
          "metadata": {},
          "execution_count": 215
        }
      ],
      "source": [
        "numeros_por_extenso = {2: \"dois\", 1: \"um\", 3: \"três\", 0: \"zero\"}\n",
        "numeros_por_extenso[0]"
      ]
    },
    {
      "cell_type": "code",
      "execution_count": null,
      "id": "27dde6ef-703d-421d-a62a-b03a52cf6781",
      "metadata": {
        "id": "27dde6ef-703d-421d-a62a-b03a52cf6781"
      },
      "outputs": [],
      "source": [
        "numeros_por_extenso[2]"
      ]
    },
    {
      "cell_type": "markdown",
      "id": "6ca2a207-d2ec-49d1-b467-311c89f2442d",
      "metadata": {
        "id": "6ca2a207-d2ec-49d1-b467-311c89f2442d"
      },
      "source": [
        "> **Nota:** Listas e outros dicionários não podem ser usados como chaves por serem de tipos mutáveis."
      ]
    },
    {
      "cell_type": "markdown",
      "id": "7bbeb99e-3823-4fb1-8e53-a9a5f69b4450",
      "metadata": {
        "id": "7bbeb99e-3823-4fb1-8e53-a9a5f69b4450"
      },
      "source": [
        "##### Adicionando e removendo elementos\n",
        "Podemos alterar o valor relacionado a uma chave da seguinte forma:"
      ]
    },
    {
      "cell_type": "code",
      "execution_count": null,
      "id": "e5ddf4dc-74ee-4ed2-b526-27a50a63ba25",
      "metadata": {
        "id": "e5ddf4dc-74ee-4ed2-b526-27a50a63ba25",
        "colab": {
          "base_uri": "https://localhost:8080/"
        },
        "outputId": "7d8449c7-349d-4994-df55-b075c3788cfe"
      },
      "outputs": [
        {
          "output_type": "execute_result",
          "data": {
            "text/plain": [
              "{'nome': 'Cleiton', 'idade': 34, 'família': {'mãe': 'Maria', 'pai': 'Enzo'}}"
            ]
          },
          "metadata": {},
          "execution_count": 218
        }
      ],
      "source": [
        "# Informações de Cleiton\n",
        "pessoa = {\"nome\": \"Cleiton\", \"idade\": 34, \"família\": {\"mãe\": \"Maria\", \"pai\": \"Enzo\"}}\n",
        "\n",
        "# Visualizando\n",
        "pessoa"
      ]
    },
    {
      "cell_type": "code",
      "execution_count": null,
      "id": "085eb2bd-2633-4884-ad7c-9c79fae953db",
      "metadata": {
        "id": "085eb2bd-2633-4884-ad7c-9c79fae953db",
        "colab": {
          "base_uri": "https://localhost:8080/"
        },
        "outputId": "a520f9de-cb34-4816-df6d-cf5f6b21623c"
      },
      "outputs": [
        {
          "output_type": "execute_result",
          "data": {
            "text/plain": [
              "34"
            ]
          },
          "metadata": {},
          "execution_count": 219
        }
      ],
      "source": [
        "pessoa[\"idade\"] # Acessando a informação \"idade\" de Cleiton"
      ]
    },
    {
      "cell_type": "code",
      "execution_count": null,
      "id": "d7b7dd6f-8774-4351-a0aa-414f5fd1728c",
      "metadata": {
        "id": "d7b7dd6f-8774-4351-a0aa-414f5fd1728c",
        "colab": {
          "base_uri": "https://localhost:8080/"
        },
        "outputId": "39c3e9f2-521b-4705-e1cd-ed4c9a261ed0"
      },
      "outputs": [
        {
          "output_type": "execute_result",
          "data": {
            "text/plain": [
              "35"
            ]
          },
          "metadata": {},
          "execution_count": 220
        }
      ],
      "source": [
        "# Alterando a informação da \"idade\" de Cleiton\n",
        "pessoa[\"idade\"] = 35\n",
        "\n",
        "# Acessando a informação nova da \"idade\" de Cleiton\n",
        "pessoa[\"idade\"]"
      ]
    },
    {
      "cell_type": "markdown",
      "id": "21807c7a-d071-4ad8-ad4a-f69a5946ce32",
      "metadata": {
        "id": "21807c7a-d071-4ad8-ad4a-f69a5946ce32"
      },
      "source": [
        "Para adicionar um elemento novo à um dicionário, podemos simplesmente fazer o seguinte:"
      ]
    },
    {
      "cell_type": "code",
      "execution_count": null,
      "id": "27e5c4d0-638b-4b94-9008-9342b2450b12",
      "metadata": {
        "id": "27e5c4d0-638b-4b94-9008-9342b2450b12",
        "colab": {
          "base_uri": "https://localhost:8080/"
        },
        "outputId": "a9b6ff9f-edd1-49ae-8d0c-564a0b8ad957"
      },
      "outputs": [
        {
          "output_type": "execute_result",
          "data": {
            "text/plain": [
              "{1: 'Janeiro', 2: 'Fevereiro', 3: 'Março', 4: 'Abril'}"
            ]
          },
          "metadata": {},
          "execution_count": 221
        }
      ],
      "source": [
        "# Dicionário de meses do ano\n",
        "meses = {1: \"Janeiro\", 2: \"Fevereiro\", 3: \"Março\"}\n",
        "\n",
        "# Adicionando o mês de \"Abril\" na chave 4\n",
        "meses[4] = \"Abril\"\n",
        "\n",
        "# Visualizando\n",
        "meses"
      ]
    },
    {
      "cell_type": "markdown",
      "id": "331bdee1-75f8-404c-a711-1c77fadcad2c",
      "metadata": {
        "id": "331bdee1-75f8-404c-a711-1c77fadcad2c"
      },
      "source": [
        "Aqui nos referimos a uma chave que não está no dicionário e associamos um valor a ela. Desta forma, adicionando esse conjunto chave-valor ao dicionário.\n",
        "Removemos um conjunto chave-elemento de um dicionário com o comando `del()`:"
      ]
    },
    {
      "cell_type": "code",
      "execution_count": null,
      "id": "5bf22854-f40e-4f4c-a60b-8b17453d86c9",
      "metadata": {
        "id": "5bf22854-f40e-4f4c-a60b-8b17453d86c9",
        "colab": {
          "base_uri": "https://localhost:8080/"
        },
        "outputId": "2b4ad4af-b1f6-4b23-d841-b0bd7f51e7b7"
      },
      "outputs": [
        {
          "output_type": "execute_result",
          "data": {
            "text/plain": [
              "{1: 'Janeiro', 2: 'Fevereiro', 3: 'Março'}"
            ]
          },
          "metadata": {},
          "execution_count": 222
        }
      ],
      "source": [
        "# Excluíndo o mês de \"Abril\"\n",
        "del(meses[4])\n",
        "\n",
        "# Visualizando\n",
        "meses"
      ]
    },
    {
      "cell_type": "markdown",
      "id": "465e7210-e490-43e7-bfe5-3c818ed25960",
      "metadata": {
        "id": "465e7210-e490-43e7-bfe5-3c818ed25960"
      },
      "source": [
        "Para alterar um valor em específico de uma lista que está dentro de um dicionário, podemos usar o seguinte código."
      ]
    },
    {
      "cell_type": "code",
      "execution_count": null,
      "id": "acaa38ce-3781-4524-b21f-ab9fda83b4ec",
      "metadata": {
        "id": "acaa38ce-3781-4524-b21f-ab9fda83b4ec"
      },
      "outputs": [],
      "source": [
        "# Novo dicionário\n",
        "lixo = {\"plástico\": [\"garrafa\", \"copinho\", \"canudo\"], \"papel\": [\"folha amassada\", \"guardanapo\"], \"orgânico\": [\"batata\", \"resto do bandeco\", \"casca de banana\"]}\n",
        "\n",
        "# Visualizando\n",
        "lixo"
      ]
    },
    {
      "cell_type": "code",
      "execution_count": null,
      "id": "0d3522ff-8553-4341-9ffd-c5b1acd81451",
      "metadata": {
        "id": "0d3522ff-8553-4341-9ffd-c5b1acd81451"
      },
      "outputs": [],
      "source": [
        "# Obtendo lista de interesse para alteração\n",
        "lista_de_interesse = lixo['plástico']\n",
        "\n",
        "# Verificando em qual posição está o elemneto que deve ser alterado\n",
        "id = lista_de_interesse.index('garrafa')\n",
        "\n",
        "# Fazendo a alteração diretamente no dicionário\n",
        "lixo['plástico'][id] = 'sacola'\n",
        "\n",
        "# Visualizando dicionário alterado\n",
        "lixo"
      ]
    },
    {
      "cell_type": "markdown",
      "id": "833286cf-9ea8-4695-aa48-144d46a0749b",
      "metadata": {
        "id": "833286cf-9ea8-4695-aa48-144d46a0749b"
      },
      "source": [
        "Para apagar todos os elementos de um dicionário, usamos o método `clear`:"
      ]
    },
    {
      "cell_type": "code",
      "execution_count": null,
      "id": "d91a33d4-924e-49d6-9e5b-1c8574a8a40c",
      "metadata": {
        "id": "d91a33d4-924e-49d6-9e5b-1c8574a8a40c"
      },
      "outputs": [],
      "source": [
        "# Apagando todos os elementos do dicionário\n",
        "lixo.clear()\n",
        "\n",
        "# Visualizando\n",
        "lixo"
      ]
    },
    {
      "cell_type": "markdown",
      "id": "2a4fffe8-bc15-472b-bcc4-a5e9a6b1dc50",
      "metadata": {
        "id": "2a4fffe8-bc15-472b-bcc4-a5e9a6b1dc50"
      },
      "source": [
        "##### Função `list()`\n",
        "A função `list()` recebe um conjunto de objetos e retorna uma lista. Ao passar um dicionário, ela retorna uma lista contendo todas as suas chaves:"
      ]
    },
    {
      "cell_type": "code",
      "execution_count": null,
      "id": "efebf121-2f93-4a77-ab29-e663ff7180dc",
      "metadata": {
        "id": "efebf121-2f93-4a77-ab29-e663ff7180dc",
        "colab": {
          "base_uri": "https://localhost:8080/"
        },
        "outputId": "2f7f59a7-551b-4aa0-eeee-1fdbdf410634"
      },
      "outputs": [
        {
          "output_type": "execute_result",
          "data": {
            "text/plain": [
              "{'IFSC': 'Instituto de Física de São Carlos',\n",
              " 'ICMC': 'Instituto de Ciências Matemáticas e de Computação',\n",
              " 'EESC': 'Escola de Engenharia de São Carlos',\n",
              " 'IAU': 'Instituto de Arquitetura e Urbanismo',\n",
              " 'IQSC': 'Instituto de Química de São Carlos'}"
            ]
          },
          "metadata": {},
          "execution_count": 223
        }
      ],
      "source": [
        "institutos_uspsc = {\"IFSC\": \"Instituto de Física de São Carlos\", \"ICMC\": \"Instituto de Ciências Matemáticas e de Computação\",\n",
        "                    \"EESC\": \"Escola de Engenharia de São Carlos\", \"IAU\": \"Instituto de Arquitetura e Urbanismo\", \"IQSC\": \"Instituto de Química de São Carlos\"}\n",
        "institutos_uspsc"
      ]
    },
    {
      "cell_type": "code",
      "execution_count": null,
      "id": "75401aa8-5e2d-4b1b-85d2-3cd7a700bbde",
      "metadata": {
        "id": "75401aa8-5e2d-4b1b-85d2-3cd7a700bbde",
        "colab": {
          "base_uri": "https://localhost:8080/"
        },
        "outputId": "27480eef-67e2-4be1-e1cd-df98490a5671"
      },
      "outputs": [
        {
          "output_type": "execute_result",
          "data": {
            "text/plain": [
              "['IFSC', 'ICMC', 'EESC', 'IAU', 'IQSC']"
            ]
          },
          "metadata": {},
          "execution_count": 224
        }
      ],
      "source": [
        "list(institutos_uspsc)"
      ]
    },
    {
      "cell_type": "markdown",
      "id": "1beb3df7-9926-4ce1-a67d-c1d8b2f46894",
      "metadata": {
        "id": "1beb3df7-9926-4ce1-a67d-c1d8b2f46894"
      },
      "source": [
        "##### Função `len()`\n",
        "A função `len()` retorna o número de elementos (tamanho) do objeto passado para ela. No caso de uma lista, fala quantos elementos há. No caso de dicionários, retorna o número de chaves contidas nele:"
      ]
    },
    {
      "cell_type": "code",
      "execution_count": null,
      "id": "95da78a1-c713-4b0c-b2f5-2672a8f79884",
      "metadata": {
        "id": "95da78a1-c713-4b0c-b2f5-2672a8f79884",
        "colab": {
          "base_uri": "https://localhost:8080/"
        },
        "outputId": "5edf4f7e-feb6-4144-95e4-12c8607bbc01"
      },
      "outputs": [
        {
          "output_type": "execute_result",
          "data": {
            "text/plain": [
              "{'IFSC': 'Instituto de Física de São Carlos',\n",
              " 'ICMC': 'Instituto de Ciências Matemáticas e de Computação',\n",
              " 'EESC': 'Escola de Engenharia de São Carlos',\n",
              " 'IAU': 'Instituto de Arquitetura e Urbanismo',\n",
              " 'IQSC': 'Instituto de Química de São Carlos'}"
            ]
          },
          "metadata": {},
          "execution_count": 225
        }
      ],
      "source": [
        "institutos_uspsc"
      ]
    },
    {
      "cell_type": "code",
      "execution_count": null,
      "id": "9dfb2ed6-510e-48c8-94f2-6f89ace300e2",
      "metadata": {
        "id": "9dfb2ed6-510e-48c8-94f2-6f89ace300e2",
        "colab": {
          "base_uri": "https://localhost:8080/"
        },
        "outputId": "129e1deb-82f5-4c33-a508-e37b50dbcddf"
      },
      "outputs": [
        {
          "output_type": "execute_result",
          "data": {
            "text/plain": [
              "5"
            ]
          },
          "metadata": {},
          "execution_count": 226
        }
      ],
      "source": [
        "len(institutos_uspsc)"
      ]
    },
    {
      "cell_type": "markdown",
      "id": "fb5bc485-bfee-400d-894c-a4bea91db8f4",
      "metadata": {
        "id": "fb5bc485-bfee-400d-894c-a4bea91db8f4"
      },
      "source": [
        "Você pode contar o número de elementos na lista gerada pela função `list()` para conferir:"
      ]
    },
    {
      "cell_type": "code",
      "execution_count": null,
      "id": "4c7fd991-467b-4d8f-a2d0-fdc7716e4287",
      "metadata": {
        "id": "4c7fd991-467b-4d8f-a2d0-fdc7716e4287",
        "colab": {
          "base_uri": "https://localhost:8080/"
        },
        "outputId": "5c1e4e5c-26c6-47ef-92c0-64dd8186f106"
      },
      "outputs": [
        {
          "output_type": "execute_result",
          "data": {
            "text/plain": [
              "5"
            ]
          },
          "metadata": {},
          "execution_count": 228
        }
      ],
      "source": [
        "len(list(institutos_uspsc))"
      ]
    },
    {
      "cell_type": "markdown",
      "id": "cf1a5674-cabf-4d06-a1e5-7f5f83fdbbd0",
      "metadata": {
        "id": "cf1a5674-cabf-4d06-a1e5-7f5f83fdbbd0"
      },
      "source": [
        "##### Método get()\n",
        "O método `get(chave, valor)` pode ser usado para retornar o valor associado à respectiva chave! O segundo parâmetro <valor> é opcional e indica o que será retornado caso a chave desejada não esteja no dicionário:"
      ]
    },
    {
      "cell_type": "code",
      "execution_count": null,
      "id": "1d35c105-b9cd-48e4-8486-cec0216c2b7d",
      "metadata": {
        "id": "1d35c105-b9cd-48e4-8486-cec0216c2b7d",
        "colab": {
          "base_uri": "https://localhost:8080/",
          "height": 35
        },
        "outputId": "39573253-44ce-4147-e521-653c72b2e760"
      },
      "outputs": [
        {
          "output_type": "execute_result",
          "data": {
            "text/plain": [
              "'Instituto de Física de São Carlos'"
            ],
            "application/vnd.google.colaboratory.intrinsic+json": {
              "type": "string"
            }
          },
          "metadata": {},
          "execution_count": 227
        }
      ],
      "source": [
        "institutos_uspsc.get(\"IFSC\")"
      ]
    },
    {
      "cell_type": "markdown",
      "id": "d19eb886-1ad1-4718-bc45-3b0f8640399a",
      "metadata": {
        "id": "d19eb886-1ad1-4718-bc45-3b0f8640399a"
      },
      "source": [
        "Dá para ver que ele é muito parecido com fazer assim:"
      ]
    },
    {
      "cell_type": "code",
      "execution_count": null,
      "id": "e542e773-3970-4060-bc4c-b2c71c7f4bf8",
      "metadata": {
        "id": "e542e773-3970-4060-bc4c-b2c71c7f4bf8",
        "colab": {
          "base_uri": "https://localhost:8080/",
          "height": 35
        },
        "outputId": "811b56c3-e1b8-45a3-b4d1-3501bc92c153"
      },
      "outputs": [
        {
          "output_type": "execute_result",
          "data": {
            "text/plain": [
              "'Instituto de Física de São Carlos'"
            ],
            "application/vnd.google.colaboratory.intrinsic+json": {
              "type": "string"
            }
          },
          "metadata": {},
          "execution_count": 229
        }
      ],
      "source": [
        "institutos_uspsc[\"IFSC\"]"
      ]
    },
    {
      "cell_type": "markdown",
      "id": "51d20deb-fa81-4ddd-88f5-f6b2a5dc0a88",
      "metadata": {
        "id": "51d20deb-fa81-4ddd-88f5-f6b2a5dc0a88"
      },
      "source": [
        "Mas ao colocarmos uma chave que não está no dicionário:"
      ]
    },
    {
      "cell_type": "code",
      "execution_count": null,
      "id": "b33c9483-1405-4f93-b46d-4cc8ded80de6",
      "metadata": {
        "id": "b33c9483-1405-4f93-b46d-4cc8ded80de6"
      },
      "outputs": [],
      "source": [
        "institutos_uspsc.get(\"Poli\")"
      ]
    },
    {
      "cell_type": "code",
      "execution_count": null,
      "id": "55c911cc-f879-4764-a167-bb89adcc57dc",
      "metadata": {
        "id": "55c911cc-f879-4764-a167-bb89adcc57dc",
        "colab": {
          "base_uri": "https://localhost:8080/",
          "height": 35
        },
        "outputId": "77743841-fd09-43bf-ebcd-9f3f684ed0ba"
      },
      "outputs": [
        {
          "output_type": "execute_result",
          "data": {
            "text/plain": [
              "'Não tem!'"
            ],
            "application/vnd.google.colaboratory.intrinsic+json": {
              "type": "string"
            }
          },
          "metadata": {},
          "execution_count": 234
        }
      ],
      "source": [
        "institutos_uspsc.get(\"Poli\", \"Não tem!\")"
      ]
    },
    {
      "cell_type": "code",
      "execution_count": null,
      "id": "b3aad2ef-fd19-4221-a518-b12640fc712a",
      "metadata": {
        "id": "b3aad2ef-fd19-4221-a518-b12640fc712a",
        "colab": {
          "base_uri": "https://localhost:8080/",
          "height": 141
        },
        "outputId": "2191a47a-7975-4d3e-ccb2-61f7955f9336"
      },
      "outputs": [
        {
          "output_type": "error",
          "ename": "KeyError",
          "evalue": "'Poli'",
          "traceback": [
            "\u001b[0;31m---------------------------------------------------------------------------\u001b[0m",
            "\u001b[0;31mKeyError\u001b[0m                                  Traceback (most recent call last)",
            "\u001b[0;32m<ipython-input-235-474ae3793502>\u001b[0m in \u001b[0;36m<cell line: 1>\u001b[0;34m()\u001b[0m\n\u001b[0;32m----> 1\u001b[0;31m \u001b[0minstitutos_uspsc\u001b[0m\u001b[0;34m[\u001b[0m\u001b[0;34m\"Poli\"\u001b[0m\u001b[0;34m]\u001b[0m\u001b[0;34m\u001b[0m\u001b[0;34m\u001b[0m\u001b[0m\n\u001b[0m",
            "\u001b[0;31mKeyError\u001b[0m: 'Poli'"
          ]
        }
      ],
      "source": [
        "institutos_uspsc[\"Poli\"]"
      ]
    },
    {
      "cell_type": "markdown",
      "id": "2de106e5-c060-4b7a-b19d-2107a5030ec3",
      "metadata": {
        "id": "2de106e5-c060-4b7a-b19d-2107a5030ec3"
      },
      "source": [
        "##### Alguns métodos"
      ]
    },
    {
      "cell_type": "code",
      "execution_count": null,
      "id": "be165ffb-6126-4965-a680-c6e5a872d000",
      "metadata": {
        "id": "be165ffb-6126-4965-a680-c6e5a872d000",
        "colab": {
          "base_uri": "https://localhost:8080/"
        },
        "outputId": "aca2868a-b899-4951-d0bf-d9839d42ed04"
      },
      "outputs": [
        {
          "output_type": "execute_result",
          "data": {
            "text/plain": [
              "dict_items([('nome', 'Enzo'), ('RA', 242334), ('curso', 'fiscomp')])"
            ]
          },
          "metadata": {},
          "execution_count": 236
        }
      ],
      "source": [
        "pessoa = {\"nome\": \"Enzo\", \"RA\": 242334, \"curso\": \"fiscomp\"}\n",
        "pessoa.items()"
      ]
    },
    {
      "cell_type": "markdown",
      "id": "e0b4814f-f30b-4e92-9409-9ca833b7521d",
      "metadata": {
        "id": "e0b4814f-f30b-4e92-9409-9ca833b7521d"
      },
      "source": [
        "Usando a função `list()` nesse resultado, obtemos:"
      ]
    },
    {
      "cell_type": "code",
      "execution_count": null,
      "id": "868dfe5e-f1c2-4d63-abad-7012a4f6d342",
      "metadata": {
        "id": "868dfe5e-f1c2-4d63-abad-7012a4f6d342",
        "colab": {
          "base_uri": "https://localhost:8080/"
        },
        "outputId": "91a9d3d2-f8b2-48f3-9d5a-c688de94f3ce"
      },
      "outputs": [
        {
          "output_type": "execute_result",
          "data": {
            "text/plain": [
              "[('nome', 'Enzo'), ('RA', 242334), ('curso', 'fiscomp')]"
            ]
          },
          "metadata": {},
          "execution_count": 237
        }
      ],
      "source": [
        "itens = list(pessoa.items())\n",
        "itens"
      ]
    },
    {
      "cell_type": "markdown",
      "id": "77773f54-0dcc-48fe-96b3-577b2ff211f7",
      "metadata": {
        "id": "77773f54-0dcc-48fe-96b3-577b2ff211f7"
      },
      "source": [
        "Experimente usar a função `dict()` na lista `itens`!"
      ]
    },
    {
      "cell_type": "code",
      "execution_count": null,
      "id": "7abe42e0-18c5-4905-abc0-c018985966de",
      "metadata": {
        "id": "7abe42e0-18c5-4905-abc0-c018985966de",
        "colab": {
          "base_uri": "https://localhost:8080/"
        },
        "outputId": "dd3b3e45-6459-4341-8e86-0a9c9100c246"
      },
      "outputs": [
        {
          "output_type": "execute_result",
          "data": {
            "text/plain": [
              "{'nome': 'Enzo', 'RA': 242334, 'curso': 'fiscomp'}"
            ]
          },
          "metadata": {},
          "execution_count": 238
        }
      ],
      "source": [
        "dict(itens)"
      ]
    },
    {
      "cell_type": "markdown",
      "id": "7388e3f0-9cb3-47bc-814f-5edee022ce73",
      "metadata": {
        "id": "7388e3f0-9cb3-47bc-814f-5edee022ce73"
      },
      "source": [
        "* O método `values()` nos retorna os valores do dicionário:"
      ]
    },
    {
      "cell_type": "code",
      "execution_count": null,
      "id": "ac16ff65-0e25-4604-8e4c-0cea49b393b3",
      "metadata": {
        "id": "ac16ff65-0e25-4604-8e4c-0cea49b393b3",
        "colab": {
          "base_uri": "https://localhost:8080/"
        },
        "outputId": "a9667c55-1c54-4d80-fdff-c5dcdd3ebd85"
      },
      "outputs": [
        {
          "output_type": "execute_result",
          "data": {
            "text/plain": [
              "dict_values(['Enzo', 242334, 'fiscomp'])"
            ]
          },
          "metadata": {},
          "execution_count": 239
        }
      ],
      "source": [
        "pessoa.values()"
      ]
    },
    {
      "cell_type": "code",
      "execution_count": null,
      "id": "497f374d-ea8f-4ff2-9948-7460f5cfedaa",
      "metadata": {
        "id": "497f374d-ea8f-4ff2-9948-7460f5cfedaa",
        "colab": {
          "base_uri": "https://localhost:8080/"
        },
        "outputId": "6d0bb9be-e38c-4657-9299-814bc107ed2b"
      },
      "outputs": [
        {
          "output_type": "execute_result",
          "data": {
            "text/plain": [
              "['Enzo', 242334, 'fiscomp']"
            ]
          },
          "metadata": {},
          "execution_count": 240
        }
      ],
      "source": [
        "valores = list(pessoa.values())\n",
        "valores"
      ]
    },
    {
      "cell_type": "markdown",
      "id": "58c35fbf-df58-4e38-9470-d56d2b521308",
      "metadata": {
        "id": "58c35fbf-df58-4e38-9470-d56d2b521308"
      },
      "source": [
        "* O método `keys()` nos retorna as chaves do dicionário:"
      ]
    },
    {
      "cell_type": "code",
      "execution_count": null,
      "id": "17111100-0479-4151-9465-4d360d3fef1f",
      "metadata": {
        "id": "17111100-0479-4151-9465-4d360d3fef1f",
        "colab": {
          "base_uri": "https://localhost:8080/"
        },
        "outputId": "e82126c1-bd84-4be5-a742-ef3e99a65517"
      },
      "outputs": [
        {
          "output_type": "execute_result",
          "data": {
            "text/plain": [
              "dict_keys(['nome', 'RA', 'curso'])"
            ]
          },
          "metadata": {},
          "execution_count": 241
        }
      ],
      "source": [
        "pessoa.keys()"
      ]
    },
    {
      "cell_type": "code",
      "execution_count": null,
      "id": "d39de80f-6375-44d8-a457-aa4973034b21",
      "metadata": {
        "id": "d39de80f-6375-44d8-a457-aa4973034b21"
      },
      "outputs": [],
      "source": [
        "chaves = list(pessoa.keys())\n",
        "chaves"
      ]
    },
    {
      "cell_type": "markdown",
      "id": "e8319304-6820-47b4-a5d0-052ca5ad1e22",
      "metadata": {
        "id": "e8319304-6820-47b4-a5d0-052ca5ad1e22"
      },
      "source": [
        "Repare que nesse último obtemos o mesmo que se tivéssemos usado a função `list()` diretamente no objeto dicionário:"
      ]
    },
    {
      "cell_type": "code",
      "execution_count": null,
      "id": "09bb9811-4ea5-4ff5-85a1-1bb732d7b580",
      "metadata": {
        "id": "09bb9811-4ea5-4ff5-85a1-1bb732d7b580",
        "colab": {
          "base_uri": "https://localhost:8080/"
        },
        "outputId": "28158394-cf43-4307-d67e-2996acfc645a"
      },
      "outputs": [
        {
          "output_type": "execute_result",
          "data": {
            "text/plain": [
              "['nome', 'RA', 'curso']"
            ]
          },
          "metadata": {},
          "execution_count": 242
        }
      ],
      "source": [
        "list(pessoa)"
      ]
    },
    {
      "cell_type": "markdown",
      "id": "638aefe3-0585-47d9-b7fb-d68c1eae5180",
      "metadata": {
        "id": "638aefe3-0585-47d9-b7fb-d68c1eae5180"
      },
      "source": [
        "##### Ordem dos elementos\n",
        "Dicionários não tem sequência dos seus elementos. As listas têm. Dicionários mapeiam um valor a uma chave. Veja este exemplo:"
      ]
    },
    {
      "cell_type": "code",
      "execution_count": null,
      "id": "a15cc429-b271-4f48-89c1-239d73b3bdef",
      "metadata": {
        "id": "a15cc429-b271-4f48-89c1-239d73b3bdef",
        "colab": {
          "base_uri": "https://localhost:8080/"
        },
        "outputId": "af866dad-85d7-46d9-a8e7-3e966a01afaf"
      },
      "outputs": [
        {
          "output_type": "execute_result",
          "data": {
            "text/plain": [
              "True"
            ]
          },
          "metadata": {},
          "execution_count": 243
        }
      ],
      "source": [
        "numerinhos = {\"um\": 1, \"dois\": 2, \"três\": 3}\n",
        "numeritos = {\"três\": 3, \"dois\": 2, \"um\": 1}\n",
        "numerinhos == numeritos"
      ]
    },
    {
      "cell_type": "code",
      "execution_count": null,
      "id": "b6f0fe82-d710-4922-9d10-35e47622b6df",
      "metadata": {
        "id": "b6f0fe82-d710-4922-9d10-35e47622b6df",
        "colab": {
          "base_uri": "https://localhost:8080/"
        },
        "outputId": "b74a1c6e-49df-4764-a5eb-4254c38b2b4a"
      },
      "outputs": [
        {
          "output_type": "execute_result",
          "data": {
            "text/plain": [
              "{'três': 3, 'dois': 2, 'um': 1}"
            ]
          },
          "metadata": {},
          "execution_count": 244
        }
      ],
      "source": [
        "numeritos"
      ]
    },
    {
      "cell_type": "code",
      "execution_count": null,
      "id": "6efe44a1-a611-44da-b079-5cc84931e733",
      "metadata": {
        "id": "6efe44a1-a611-44da-b079-5cc84931e733",
        "colab": {
          "base_uri": "https://localhost:8080/"
        },
        "outputId": "be5e64b9-6c48-46af-b3de-5067db15072a"
      },
      "outputs": [
        {
          "output_type": "execute_result",
          "data": {
            "text/plain": [
              "{'um': 1, 'dois': 2, 'três': 3}"
            ]
          },
          "metadata": {},
          "execution_count": 245
        }
      ],
      "source": [
        "numerinhos"
      ]
    },
    {
      "cell_type": "markdown",
      "id": "27b4c14d-8573-4b39-bd82-7785382b5f7c",
      "metadata": {
        "id": "27b4c14d-8573-4b39-bd82-7785382b5f7c"
      },
      "source": [
        "Vemos que `numerinhos` e `numeritos` têm as mesmas chaves com os mesmos valores e por isso são iguais. Mas quando imprimimos cada um, a ordem que aparece é a que os itens foram inseridos."
      ]
    },
    {
      "cell_type": "markdown",
      "id": "ab8d0086-3b46-4ba6-b14e-ea1ea7faebdb",
      "metadata": {
        "id": "ab8d0086-3b46-4ba6-b14e-ea1ea7faebdb"
      },
      "source": [
        "##### Está no dicionário?\n",
        "Podemos checar se uma chave está ou não em um dicionário utilizando o comando `in`. Voltando para o dicionário que contem os institutos da USP São Carlos:"
      ]
    },
    {
      "cell_type": "code",
      "execution_count": null,
      "id": "310fa95e-9705-4faa-8eae-86b9573c7bb6",
      "metadata": {
        "id": "310fa95e-9705-4faa-8eae-86b9573c7bb6",
        "colab": {
          "base_uri": "https://localhost:8080/"
        },
        "outputId": "cb82af69-5cb9-44dd-fc62-a391bcdc680e"
      },
      "outputs": [
        {
          "output_type": "execute_result",
          "data": {
            "text/plain": [
              "{'IFSC': 'Instituto de Física de São Carlos',\n",
              " 'ICMC': 'Instituto de Ciências Matemáticas e de Computação',\n",
              " 'EESC': 'Escola de Engenharia de São Carlos',\n",
              " 'IAU': 'Instituto de Arquitetura e Urbanismo',\n",
              " 'IQSC': 'Instituto de Química de São Carlos'}"
            ]
          },
          "metadata": {},
          "execution_count": 246
        }
      ],
      "source": [
        "institutos_uspsc"
      ]
    },
    {
      "cell_type": "code",
      "execution_count": null,
      "id": "fc2e4888-64af-4687-968a-74561fc845be",
      "metadata": {
        "id": "fc2e4888-64af-4687-968a-74561fc845be",
        "colab": {
          "base_uri": "https://localhost:8080/"
        },
        "outputId": "53a25979-bc9f-4502-d77d-42ee01f695a1"
      },
      "outputs": [
        {
          "output_type": "execute_result",
          "data": {
            "text/plain": [
              "True"
            ]
          },
          "metadata": {},
          "execution_count": 247
        }
      ],
      "source": [
        "\"IFSC\" in institutos_uspsc"
      ]
    },
    {
      "cell_type": "code",
      "execution_count": null,
      "id": "d742f315-31b9-4cac-94f4-7f3fb657d1cb",
      "metadata": {
        "id": "d742f315-31b9-4cac-94f4-7f3fb657d1cb",
        "colab": {
          "base_uri": "https://localhost:8080/"
        },
        "outputId": "d4106de5-1205-4a92-e7f3-92c842921eef"
      },
      "outputs": [
        {
          "output_type": "execute_result",
          "data": {
            "text/plain": [
              "False"
            ]
          },
          "metadata": {},
          "execution_count": 248
        }
      ],
      "source": [
        "\"ESALQ\" in institutos_uspsc"
      ]
    },
    {
      "cell_type": "markdown",
      "id": "e5f72029-d6fb-44fe-b203-98d583b049bb",
      "metadata": {
        "id": "e5f72029-d6fb-44fe-b203-98d583b049bb"
      },
      "source": [
        "E checamos se uma chave ***não está*** no dicionário com o comando `not in`:"
      ]
    },
    {
      "cell_type": "code",
      "execution_count": null,
      "id": "037e0fdb-067b-4515-9baf-e20604f9310d",
      "metadata": {
        "id": "037e0fdb-067b-4515-9baf-e20604f9310d"
      },
      "outputs": [],
      "source": [
        "\"IFSC\" not in institutos_uspsc"
      ]
    },
    {
      "cell_type": "code",
      "execution_count": null,
      "id": "2c348646-08a0-43df-93f6-a08f68340b44",
      "metadata": {
        "id": "2c348646-08a0-43df-93f6-a08f68340b44"
      },
      "outputs": [],
      "source": [
        "\"ESALQ\" not in institutos_uspsc"
      ]
    },
    {
      "cell_type": "markdown",
      "id": "21f57cb2-1f27-459b-85bb-83ea0d332b1b",
      "metadata": {
        "id": "21f57cb2-1f27-459b-85bb-83ea0d332b1b"
      },
      "source": [
        "## 3ª Aula: Controle de Fluxo."
      ]
    },
    {
      "cell_type": "markdown",
      "id": "46d23345-44b0-42ec-bc9b-dc8305d7efb1",
      "metadata": {
        "id": "46d23345-44b0-42ec-bc9b-dc8305d7efb1"
      },
      "source": [
        "### Estruturas de Decisão"
      ]
    },
    {
      "cell_type": "markdown",
      "id": "hLdI7KleFZvu",
      "metadata": {
        "id": "hLdI7KleFZvu"
      },
      "source": [
        "As estruturas de controle servem para decidir quais blocos de código serão executados.\n",
        "\n",
        "**Exemplo:**\n",
        "```\n",
        "Se estiver nublado:\n",
        "    Levarei guarda-chuva\n",
        "Senão:\n",
        "    Não levarei\n",
        "```\n",
        "\n",
        "> **Nota:** Na linguagem Python, a indentação (espaço dado antes de uma linha) é utilizada para demarcar os blocos de código, e são obrigatórios quando se usa estruturas de controle."
      ]
    },
    {
      "cell_type": "code",
      "execution_count": null,
      "id": "35876f3d-bc13-4923-af69-39ac865c1c5d",
      "metadata": {
        "colab": {
          "base_uri": "https://localhost:8080/"
        },
        "id": "35876f3d-bc13-4923-af69-39ac865c1c5d",
        "outputId": "7bf4d67e-070c-442b-c182-9e3346f56203"
      },
      "outputs": [
        {
          "name": "stdout",
          "output_type": "stream",
          "text": [
            "estou no if\n"
          ]
        }
      ],
      "source": [
        "# Definindo uma variável qualquer\n",
        "a = 7\n",
        "\n",
        "if a > 3: # Se a for maior que 3\n",
        "  print(\"estou no if\")\n",
        "else: # Senão\n",
        "  print(\"cai no else\")"
      ]
    },
    {
      "cell_type": "markdown",
      "id": "BIKO40pvFrRd",
      "metadata": {
        "id": "BIKO40pvFrRd"
      },
      "source": [
        "Também é possível checar mais de uma condição com o `elif`. É a abreviatura para `else`-`if`. Ou seja, se o `if` for falso, testa outra condição antes do `else`:"
      ]
    },
    {
      "cell_type": "code",
      "execution_count": null,
      "id": "LSJkuI50F4ky",
      "metadata": {
        "colab": {
          "base_uri": "https://localhost:8080/"
        },
        "id": "LSJkuI50F4ky",
        "outputId": "3a34194f-8b8c-44d4-8240-4e2f16e1b0aa"
      },
      "outputs": [
        {
          "name": "stdout",
          "output_type": "stream",
          "text": [
            "o valor de entrada não era esperado em nenhum if\n"
          ]
        }
      ],
      "source": [
        "valor_entrada = 10\n",
        "\n",
        "if valor_entrada == 1:\n",
        "  print(\"a entrada era 1\")\n",
        "elif valor_entrada == 2:\n",
        "  print(\"a entrada era 2\")\n",
        "elif valor_entrada == 3:\n",
        "  print(\"a entrada era 3\")\n",
        "elif valor_entrada == 4:\n",
        "  print(\"a entrada era 4\")\n",
        "else:\n",
        "  print(\"o valor de entrada não era esperado em nenhum if\")"
      ]
    },
    {
      "cell_type": "markdown",
      "id": "9calar1tGB1c",
      "metadata": {
        "id": "9calar1tGB1c"
      },
      "source": [
        "Note que quando uma condição for verdadeira, aquele bloco de código é executado e as demais condições (`elif` e `else`) são puladas:"
      ]
    },
    {
      "cell_type": "code",
      "execution_count": null,
      "id": "8LlZQ_E7GFX9",
      "metadata": {
        "colab": {
          "base_uri": "https://localhost:8080/"
        },
        "id": "8LlZQ_E7GFX9",
        "outputId": "9e6769d7-31e4-4a77-fe39-6bee68dc37cc"
      },
      "outputs": [
        {
          "name": "stdout",
          "output_type": "stream",
          "text": [
            "é 1\n"
          ]
        }
      ],
      "source": [
        "a = 1\n",
        "\n",
        "if a == 1:\n",
        "  print(\"é 1\")\n",
        "elif a >= 1:\n",
        "  print(\"é maior ou igual a 1\")\n",
        "else:\n",
        "  print(\"é qualquer outra coisa\")"
      ]
    },
    {
      "cell_type": "markdown",
      "id": "_L_rfVQpGb5j",
      "metadata": {
        "id": "_L_rfVQpGb5j"
      },
      "source": [
        "Desta forma, se não optarmos usar o `elif`, mas sim `if` seguido de `if`, veja o que pode acontecer:"
      ]
    },
    {
      "cell_type": "code",
      "execution_count": null,
      "id": "8XGjPZcXGIY1",
      "metadata": {
        "id": "8XGjPZcXGIY1"
      },
      "outputs": [],
      "source": [
        "a = 1\n",
        "\n",
        "if a == 1:\n",
        "  print(\"Caiu no 1º `if`\")\n",
        "\n",
        "if a >= 1:\n",
        "  print(\"Caiu no 2º `if`\")\n",
        "\n",
        "else:\n",
        "  print(\"Caiu no `else`\")"
      ]
    },
    {
      "cell_type": "markdown",
      "id": "3935f468-61ca-45a2-90be-1fb0abdc2e42",
      "metadata": {
        "id": "3935f468-61ca-45a2-90be-1fb0abdc2e42"
      },
      "source": [
        "### Loop's"
      ]
    },
    {
      "cell_type": "markdown",
      "id": "AzgoCZI2G5e3",
      "metadata": {
        "id": "AzgoCZI2G5e3"
      },
      "source": [
        "As estruturas de repetição são utilizadas quando queremos que um bloco de código seja executado várias vezes.\n",
        "\n",
        "Em Python existem duas formas de criar uma estrutura de repetição:\n",
        "* O `for` é usado quando se quer iterar sobre um bloco de código um determinado número de vezes.\n",
        "* O `while` é usando quando queremos que o bloco de código seja repetido até que uma condição seja satisfeita.\n",
        "\n",
        "Ou seja, é necessário que uma expressão boleana dada seja verdadeira. Assim que ela se tornar falsa, o `while` para.\n",
        "\n",
        "> **Nota:** Na linguagem Python a indentação é obrigatória. assim como nas estruturas de decisão, as estruturas de repetição também precisam."
      ]
    },
    {
      "cell_type": "code",
      "execution_count": null,
      "id": "bWIpEKC7HVus",
      "metadata": {
        "colab": {
          "base_uri": "https://localhost:8080/"
        },
        "id": "bWIpEKC7HVus",
        "outputId": "d0713485-1f3c-4589-def0-3d36bad6393b"
      },
      "outputs": [
        {
          "name": "stdout",
          "output_type": "stream",
          "text": [
            "0\n",
            "1\n",
            "2\n"
          ]
        }
      ],
      "source": [
        "# Interação usando `for`\n",
        "for n in range(0, 3): # `para n em [0;3) faça`\n",
        "  print(n)"
      ]
    },
    {
      "cell_type": "code",
      "execution_count": null,
      "id": "PEbEcZR6H-kY",
      "metadata": {
        "colab": {
          "base_uri": "https://localhost:8080/"
        },
        "id": "PEbEcZR6H-kY",
        "outputId": "037cc567-75f3-436f-e134-89c9f7e29aa1"
      },
      "outputs": [
        {
          "output_type": "stream",
          "name": "stdout",
          "text": [
            "0\n",
            "1\n",
            "2\n"
          ]
        }
      ],
      "source": [
        "# Iniciando em n em zero\n",
        "n = 0\n",
        "\n",
        "while n < 3: # `enquanto n menor que três faça`\n",
        "  print(n)\n",
        "  n += 1"
      ]
    },
    {
      "cell_type": "markdown",
      "id": "_xx1icgeJBgC",
      "metadata": {
        "id": "_xx1icgeJBgC"
      },
      "source": [
        "O loop `for` em Python itera sobre os itens de um conjunto, sendo assim, o `range(0, 3)` precisa ser um conjunto de elementos. E na verdade ele é:"
      ]
    },
    {
      "cell_type": "code",
      "execution_count": null,
      "id": "R58YkPwOJB4p",
      "metadata": {
        "colab": {
          "base_uri": "https://localhost:8080/"
        },
        "id": "R58YkPwOJB4p",
        "outputId": "853f8e6e-9b8c-4d80-8a7b-1d8aa8eaae8c"
      },
      "outputs": [
        {
          "data": {
            "text/plain": [
              "[0, 1, 2]"
            ]
          },
          "execution_count": 192,
          "metadata": {},
          "output_type": "execute_result"
        }
      ],
      "source": [
        "list(range(0, 3))"
      ]
    },
    {
      "cell_type": "markdown",
      "id": "obWVH81oJGAZ",
      "metadata": {
        "id": "obWVH81oJGAZ"
      },
      "source": [
        "Para iterar sobre uma lista usando `for`:"
      ]
    },
    {
      "cell_type": "code",
      "execution_count": null,
      "id": "xQoSAe3NJDcO",
      "metadata": {
        "colab": {
          "base_uri": "https://localhost:8080/"
        },
        "id": "xQoSAe3NJDcO",
        "outputId": "6043eda3-0cca-4271-d57a-9f28dc8b3bbd"
      },
      "outputs": [
        {
          "output_type": "stream",
          "name": "stdout",
          "text": [
            "1\n",
            "4\n",
            "9\n",
            "16\n",
            "100\n"
          ]
        }
      ],
      "source": [
        "lista = [1, 2, 3, 4, 10]\n",
        "for numero in lista:\n",
        "  print(numero ** 2)"
      ]
    },
    {
      "cell_type": "markdown",
      "id": "xMOs8tT1JPks",
      "metadata": {
        "id": "xMOs8tT1JPks"
      },
      "source": [
        "Isso se aplica para strings também:"
      ]
    },
    {
      "cell_type": "code",
      "execution_count": null,
      "id": "RZtPEXY-JKvh",
      "metadata": {
        "colab": {
          "base_uri": "https://localhost:8080/"
        },
        "id": "RZtPEXY-JKvh",
        "outputId": "fb1128c9-c407-4555-ab21-757f5cf84e51"
      },
      "outputs": [
        {
          "output_type": "stream",
          "name": "stdout",
          "text": [
            "c\n",
            "a\n",
            "s\n",
            "a\n"
          ]
        }
      ],
      "source": [
        "# Para cada letra na palavra, imprimir a letra\n",
        "palavra = \"casa\"\n",
        "for letra in palavra:\n",
        "  print(letra)"
      ]
    },
    {
      "cell_type": "markdown",
      "id": "twJmCv1KJUXB",
      "metadata": {
        "id": "twJmCv1KJUXB"
      },
      "source": [
        "Em dicionários podemos fazer assim:"
      ]
    },
    {
      "cell_type": "code",
      "execution_count": null,
      "id": "86-v_YUuJRzA",
      "metadata": {
        "colab": {
          "base_uri": "https://localhost:8080/"
        },
        "id": "86-v_YUuJRzA",
        "outputId": "dba424b2-a38d-458f-aa33-b9ce3e89f93f"
      },
      "outputs": [
        {
          "output_type": "stream",
          "name": "stdout",
          "text": [
            "Português -> gato\n",
            "Inglês -> cat\n",
            "Francês -> chat\n",
            "Finlandês -> Kissa\n"
          ]
        }
      ],
      "source": [
        "# Define um dicionário chamado 'gatinhos' que armazena a tradução da palavra \"gato\" em diferentes idiomas.\n",
        "# As chaves do dicionário são os idiomas e os valores são as traduções correspondentes.\n",
        "gatinhos = {\"Português\": \"gato\", \"Inglês\": \"cat\", \"Francês\": \"chat\", \"Finlandês\": \"Kissa\"}\n",
        "\n",
        "# Itera pelos pares chave-valor do dicionário 'gatinhos' usando o método .items().\n",
        "# Para cada par chave-valor, a chave é atribuída à variável 'chave' e o valor à variável 'valor'.\n",
        "for chave, valor in gatinhos.items():\n",
        "  # Imprime a chave (idioma) e o valor (tradução) separados por \"->\".\n",
        "  print(chave, \"->\", valor)"
      ]
    },
    {
      "cell_type": "markdown",
      "id": "Q205gy2cJiOZ",
      "metadata": {
        "id": "Q205gy2cJiOZ"
      },
      "source": [
        "Para auxiliar as estruturas de repetição, existem dois comandos:\n",
        "* `break`: É usado para sair de um loop, não importando o estado em que se encontra.\n",
        "* `continue`: Funciona de maneira parecida com a do break, porém no lugar de encerrar o loop, ele faz com que todo o código que esteja abaixo (porém ainda dentro do loop) seja ignorado e avança para a próxima iteração.\n",
        "\n",
        "Veja a seguir um exemplo de um código que ilustra o uso desses comandos. Note que há uma string de documentação no começo que explica a funcionalidade."
      ]
    },
    {
      "cell_type": "code",
      "execution_count": null,
      "id": "m0cAT9jPJcfw",
      "metadata": {
        "colab": {
          "base_uri": "https://localhost:8080/"
        },
        "id": "m0cAT9jPJcfw",
        "outputId": "7f925610-37da-46a2-a31b-8c4c278125c5"
      },
      "outputs": [
        {
          "output_type": "stream",
          "name": "stdout",
          "text": [
            "Digite uma palavra: Aí\n",
            "String muito pequena\n",
            "Digite uma palavra: Saída\n",
            "Mais uma vez:\n",
            "Tente digitar \"sair\"\n",
            "Digite uma palavra: Será que eu consigo digitar \"sair\"?\n",
            "Mais uma vez:\n",
            "Tente digitar \"sair\"\n",
            "Digite uma palavra: Sa\n",
            "String muito pequena\n",
            "Digite uma palavra: Agora foi quase!\n",
            "Mais uma vez:\n",
            "Tente digitar \"sair\"\n",
            "Digite uma palavra: Sair\n",
            "Fim!\n"
          ]
        }
      ],
      "source": [
        "\"\"\"\n",
        "Esse código deve rodar até que a palavra \"sair\" seja digitada.\n",
        "* Caso uma palavra com 2 ou menos caracteres seja digitada, um aviso\n",
        "deve ser exibido e o loop será executado do início (devido ao\n",
        "continue), pedindo uma nova palavra ao usuário.\n",
        "* Caso qualquer outra palavra diferente de \"sair\" seja digitada, um\n",
        "aviso deve ser exibido.\n",
        "* Por fim, caso a palavra seja \"sair\", uma mensagem deve ser exibida e o\n",
        "loop deve ser encerrado (break).\n",
        "\"\"\"\n",
        "\n",
        "# Este é um loop infinito que continuará até que o usuário digite \"sair\".\n",
        "while True:\n",
        "  # Solicita ao usuário que digite uma palavra.\n",
        "  string_digitada = input(\"Digite uma palavra: \")\n",
        "  # Verifica se a string digitada é igual a \"sair\", ignorando maiúsculas e minúsculas.\n",
        "  if string_digitada.lower() == \"sair\":\n",
        "    # Se for \"sair\", imprime \"Fim!\" e encerra o loop.\n",
        "    print(\"Fim!\")\n",
        "    break\n",
        "  # Verifica se o comprimento da string digitada é menor ou igual a 2.\n",
        "  if len(string_digitada) <= 2:\n",
        "    # Se for muito pequena, imprime \"String muito pequena\" e continua para a próxima iteração do loop.\n",
        "    print(\"String muito pequena\")\n",
        "    continue\n",
        "  # Verifica se a string digitada é diferente de \"sair\", ignorando maiúsculas e minúsculas.\n",
        "  if string_digitada.lower() != \"sair\":\n",
        "    # Se for diferente de \"sair\", imprime \"Mais uma vez:\" e continua para a próxima iteração do loop.\n",
        "    print(\"Mais uma vez:\")\n",
        "\n",
        "  # Imprime \"Tente digitar \\\"sair\\\"\" se a string digitada não for \"sair\".\n",
        "  print(\"Tente digitar \\\"sair\\\"\")"
      ]
    },
    {
      "cell_type": "code",
      "execution_count": null,
      "id": "mheMLS4yKXqb",
      "metadata": {
        "colab": {
          "base_uri": "https://localhost:8080/"
        },
        "id": "mheMLS4yKXqb",
        "outputId": "0db6bedf-87ae-4d74-a021-532cc703386e"
      },
      "outputs": [
        {
          "name": "stdout",
          "output_type": "stream",
          "text": [
            "3 é um número primo\n",
            "4 é igual a  2 * 2\n",
            "5 é um número primo\n",
            "6 é igual a  2 * 3\n",
            "7 é um número primo\n",
            "8 é igual a  2 * 4\n"
          ]
        }
      ],
      "source": [
        "# Loop externo: itera sobre os números de 2 a 8 (n).\n",
        "for n in range(2, 9):\n",
        "  # Loop interno: itera sobre os números de 2 a n-1 (x).\n",
        "  for x in range(2, n):\n",
        "    # Verifica se n é divisível por x (resto da divisão igual a 0).\n",
        "    if (n % x) == 0:\n",
        "      # Se for divisível, imprime a mensagem indicando que n não é primo e o resultado da divisão.\n",
        "      print(n, 'é igual a ', x, '*', n//x)\n",
        "      # Sai do loop interno (break).\n",
        "      break\n",
        "    else:\n",
        "      # Se não for divisível por x, imprime a mensagem indicando que n é primo.\n",
        "      print(n, 'é um número primo')\n",
        "      # Sai do loop interno (break).\n",
        "      break"
      ]
    },
    {
      "cell_type": "code",
      "execution_count": null,
      "id": "dJnOe5S1LiJX",
      "metadata": {
        "id": "dJnOe5S1LiJX"
      },
      "outputs": [],
      "source": [
        "# Itera pelos números no intervalo de 2 a 9 (inclusive).\n",
        "for num in range(2, 10):\n",
        "  # Verifica se o número atual (num) é par, ou seja, se o resto da divisão por 2 é 0.\n",
        "  if num % 2 == 0:\n",
        "    # Se o número for par, imprime a mensagem \"Número par:\" seguido do número.\n",
        "    print(\"Número par:\", num)\n",
        "    # Pula para a próxima iteração do loop, ignorando o restante do código dentro do loop para este número.\n",
        "    continue\n",
        "  # Se o número não for par (ou seja, for ímpar), imprime a mensagem \"Número ímpar:\" seguido do número.\n",
        "  print(\"Número ímpar:\", num)"
      ]
    },
    {
      "cell_type": "markdown",
      "id": "035nkqInlwjq",
      "metadata": {
        "id": "035nkqInlwjq"
      },
      "source": [
        "#### List Comprehension\n",
        "List Comprehension em Python: Criando listas de forma concisa e elegante\n",
        "List Comprehension (compreensão de listas) é uma forma concisa e poderosa de criar listas em Python. Ela permite que você construa novas listas a partir de listas existentes, aplicando expressões e condições de forma direta e intuitiva.\n",
        "```python\n",
        "[Input]: nova_lista = [expressão for item in iteravel if condicao]\n",
        "```\n",
        "\n",
        "Exemplos:\n",
        "* Dada a lista: `numeros = [1, 2, 3, 4, 5] `, crie uma nova lista que contém o quadrado desses números."
      ]
    },
    {
      "cell_type": "code",
      "execution_count": null,
      "id": "nQIogFmamvAe",
      "metadata": {
        "id": "nQIogFmamvAe"
      },
      "outputs": [],
      "source": [
        "# Lista inicial\n",
        "numeros = [1, 2, 3, 4, 5]\n",
        "\n",
        "# Lista que contém o quadrado dos num da lista inicial\n",
        "quadrados = [x**2 for x in numeros]\n",
        "quadrados"
      ]
    },
    {
      "cell_type": "markdown",
      "id": "o3Wx9KOgn_J7",
      "metadata": {
        "id": "o3Wx9KOgn_J7"
      },
      "source": [
        "* Dada uma lista de formada pelos números de 0 a 9. Capture os números pares em uma nova lista"
      ]
    },
    {
      "cell_type": "code",
      "execution_count": null,
      "id": "HwZSctCMn-SR",
      "metadata": {
        "id": "HwZSctCMn-SR"
      },
      "outputs": [],
      "source": [
        "# Números de 0 a 9\n",
        "numeros = range(10)\n",
        "\n",
        "# Lista contendo somente num pares\n",
        "pares = [x for x in numeros if x % 2 == 0]\n",
        "pares"
      ]
    },
    {
      "cell_type": "markdown",
      "id": "RQ-wqlcUpIMf",
      "metadata": {
        "id": "RQ-wqlcUpIMf"
      },
      "source": [
        "Pensando em uma resolução binária."
      ]
    },
    {
      "cell_type": "code",
      "execution_count": null,
      "id": "NWjkbAgtpOEt",
      "metadata": {
        "id": "NWjkbAgtpOEt"
      },
      "outputs": [],
      "source": [
        "binario = [1 if x % 2 == 0 else 0 for x in numeros]\n",
        "binario"
      ]
    },
    {
      "cell_type": "markdown",
      "id": "odI36EZYpocI",
      "metadata": {
        "id": "odI36EZYpocI"
      },
      "source": [
        "* Dada uma lista de palavras, crie uma nova lista que contenha o tamanho das strings."
      ]
    },
    {
      "cell_type": "code",
      "execution_count": null,
      "id": "ow58pLgTpyF9",
      "metadata": {
        "id": "ow58pLgTpyF9"
      },
      "outputs": [],
      "source": [
        "# Lista de palavras\n",
        "palavras = [\"Python\", \"é\", \"legal\", \"e\", \"poderoso\"]\n",
        "\n",
        "# Lista com o tamanho de cada palavra\n",
        "tamanhos = [len(palavra) for palavra in palavras]\n",
        "tamanhos"
      ]
    },
    {
      "cell_type": "markdown",
      "id": "eYe8wkIoqD16",
      "metadata": {
        "id": "eYe8wkIoqD16"
      },
      "source": [
        "* Dada uma lista de com os graus de celsius, crie uma lista com a conversão da medida de celsius para fahrenheit."
      ]
    },
    {
      "cell_type": "code",
      "execution_count": null,
      "id": "EHo_4tJkqUsG",
      "metadata": {
        "id": "EHo_4tJkqUsG"
      },
      "outputs": [],
      "source": [
        "celsius = [0, 10, 20, 30]\n",
        "fahrenheit = [(temp * 9/5) + 32 for temp in celsius]\n",
        "fahrenheit"
      ]
    },
    {
      "cell_type": "markdown",
      "id": "AouNnssCqhS0",
      "metadata": {
        "id": "AouNnssCqhS0"
      },
      "source": [
        "* Dada uma lista de números positivos e negativos, filtre para uma nova lista somente os números positivos."
      ]
    },
    {
      "cell_type": "code",
      "execution_count": null,
      "id": "KxCk40WUqqwQ",
      "metadata": {
        "id": "KxCk40WUqqwQ"
      },
      "outputs": [],
      "source": [
        "# Lista de positivos e negativos\n",
        "numeros = [-5, -2, 0, 3, 7, -3.5, 4.89, 1.01]\n",
        "\n",
        "# Lista de positivos\n",
        "positivos = [x for x in numeros if x > 0]\n",
        "positivos"
      ]
    },
    {
      "cell_type": "markdown",
      "id": "Ij8F_BqP1d6q",
      "metadata": {
        "id": "Ij8F_BqP1d6q"
      },
      "source": [
        "### Funções"
      ]
    },
    {
      "cell_type": "markdown",
      "id": "3p9PvCu3WbTy",
      "metadata": {
        "id": "3p9PvCu3WbTy"
      },
      "source": [
        "Uma função é uma sequência de instruções que executa uma operação específica de computação. Ao definir uma função, você especifica um nome e a sequência de instruções que serão executadas quando a função for chamada pelo nome.\n",
        "\n",
        "A ideia é semelhante às funções matemáticas, mas, em linguagens de programação, as funções não se restringem a realizar apenas cálculos. Elas podem realizar uma ampla variedade de tarefas, como manipulação de dados, operações de entrada e saída, entre outras.\n",
        "\n",
        "Em Python, funções são blocos de código reutilizáveis que ajudam a organizar e modularizar um programa. Elas recebem dados de entrada, chamados de argumentos, aplicam uma sequência de operações sobre esses dados e, opcionalmente, retornam um resultado, conhecido como valor de retorno. Essa relação é análoga à definição de função na matemática, onde cada elemento de um conjunto (domínio) é associado a um único elemento de outro conjunto (imagem).\n",
        "\n",
        "Vimos o `type()`, um exemplo de função:\n",
        "```\n",
        "[Input]  : type(23)\n",
        "[Output] : int\n",
        "```\n",
        "```\n",
        "[Input]  : type('textinho')\n",
        "[Output] : str\n",
        "```\n",
        "\n",
        "Defini-se função de forma que:\n",
        "```\n",
        "[Input]  : def NOME_DA_FUNÇÃO(parâmetro_1, parâmetro_2, ..., parâmetro_n):\n",
        "               <1º comando>\n",
        "               <2º comando>\n",
        "               ...\n",
        "               <n-ésimo comando>\n",
        "\n",
        "               print(var_1, var_2, ..., var_n) ou retun var_1, var_2, ..., var_n\n",
        "```\n",
        "\n",
        "> **Nota:** Assim como nas estruturas de decisão e loops, as funções em Python é necessário utilizar os dois pontos (:) seguidos de uma indentação para indicar que um bloco de código pertence a essas estruturas.\n",
        "\n",
        "Veja exemplos:"
      ]
    },
    {
      "cell_type": "code",
      "execution_count": null,
      "id": "2dBQLOG9YLUw",
      "metadata": {
        "id": "2dBQLOG9YLUw"
      },
      "outputs": [],
      "source": [
        "def soma():\n",
        "  print(1 + 1)"
      ]
    },
    {
      "cell_type": "code",
      "execution_count": null,
      "id": "tMGsxe7ZWh6w",
      "metadata": {
        "id": "tMGsxe7ZWh6w"
      },
      "outputs": [],
      "source": [
        "soma()"
      ]
    },
    {
      "cell_type": "code",
      "execution_count": null,
      "id": "YA59OTlSc9i1",
      "metadata": {
        "id": "YA59OTlSc9i1"
      },
      "outputs": [],
      "source": [
        "def soma():\n",
        "  return 1 + 1"
      ]
    },
    {
      "cell_type": "code",
      "execution_count": null,
      "id": "Ojb2yOxadBSN",
      "metadata": {
        "id": "Ojb2yOxadBSN"
      },
      "outputs": [],
      "source": [
        "soma()"
      ]
    },
    {
      "cell_type": "markdown",
      "id": "hbcd2QM7dMq8",
      "metadata": {
        "id": "hbcd2QM7dMq8"
      },
      "source": [
        "Qual a diferença entre utilizar `print()` e `return` aqui em cima?!?"
      ]
    },
    {
      "cell_type": "code",
      "execution_count": null,
      "id": "JbBTLxyidTKe",
      "metadata": {
        "id": "JbBTLxyidTKe",
        "colab": {
          "base_uri": "https://localhost:8080/"
        },
        "outputId": "ded14469-3b2b-4774-9ddc-bca8181e59ee"
      },
      "outputs": [
        {
          "output_type": "stream",
          "name": "stdout",
          "text": [
            "2\n"
          ]
        }
      ],
      "source": [
        "# Definindo a função `soma`\n",
        "def soma():\n",
        "  print(1 + 1)\n",
        "\n",
        "# Executando a função\n",
        "soma()"
      ]
    },
    {
      "cell_type": "code",
      "execution_count": null,
      "id": "xJo8WgaMdB_V",
      "metadata": {
        "id": "xJo8WgaMdB_V",
        "colab": {
          "base_uri": "https://localhost:8080/"
        },
        "outputId": "82648c19-0d8b-4bbd-a6dd-e70b53edbcc5"
      },
      "outputs": [
        {
          "output_type": "stream",
          "name": "stdout",
          "text": [
            "2\n"
          ]
        }
      ],
      "source": [
        "# Atribuindo o resultado de `soma` a uma variável `a`\n",
        "a = soma()"
      ]
    },
    {
      "cell_type": "code",
      "execution_count": null,
      "id": "K0f5AbTRdUhe",
      "metadata": {
        "id": "K0f5AbTRdUhe"
      },
      "outputs": [],
      "source": [
        "# Chamando o valor de `a`\n",
        "a # Note que a = 2, porém"
      ]
    },
    {
      "cell_type": "code",
      "execution_count": null,
      "id": "8Znq1wf_eM1a",
      "metadata": {
        "id": "8Znq1wf_eM1a",
        "colab": {
          "base_uri": "https://localhost:8080/"
        },
        "outputId": "ed698f58-1229-48b5-fc47-8980781db2d7"
      },
      "outputs": [
        {
          "output_type": "execute_result",
          "data": {
            "text/plain": [
              "2"
            ]
          },
          "metadata": {},
          "execution_count": 255
        }
      ],
      "source": [
        "# Definindo a função `soma`\n",
        "def soma():\n",
        "  return 1 + 1\n",
        "\n",
        "# Executando a função\n",
        "soma()"
      ]
    },
    {
      "cell_type": "code",
      "execution_count": null,
      "id": "zP3wmeLPeUKJ",
      "metadata": {
        "id": "zP3wmeLPeUKJ"
      },
      "outputs": [],
      "source": [
        "# Atribuindo o resultado de `soma` a uma variável `b`\n",
        "b = soma()"
      ]
    },
    {
      "cell_type": "code",
      "execution_count": null,
      "id": "rJVPI0QveZKh",
      "metadata": {
        "id": "rJVPI0QveZKh",
        "colab": {
          "base_uri": "https://localhost:8080/"
        },
        "outputId": "a57c4d53-cf8c-414e-fc6f-8fc42b41cc94"
      },
      "outputs": [
        {
          "output_type": "execute_result",
          "data": {
            "text/plain": [
              "2"
            ]
          },
          "metadata": {},
          "execution_count": 257
        }
      ],
      "source": [
        "# Chamando o valor de `b`\n",
        "b"
      ]
    },
    {
      "cell_type": "markdown",
      "id": "9r9guWdUeitq",
      "metadata": {
        "id": "9r9guWdUeitq"
      },
      "source": [
        "Tal diferênça surge porque a função `print()` é usado somente para imprimir as informações/resultados na tela. Com isso, não é possível atribuir uma impressão à uma variável.\n",
        "\n",
        "Por isso, quando desejarmos guardar (atribuir) os valores resultantes de uma função devemos usar `return`."
      ]
    },
    {
      "cell_type": "markdown",
      "id": "p3Z6JoZEf7OE",
      "metadata": {
        "id": "p3Z6JoZEf7OE"
      },
      "source": [
        "#### Funções com Argumentos"
      ]
    },
    {
      "cell_type": "markdown",
      "id": "h_4B5OblgHic",
      "metadata": {
        "id": "h_4B5OblgHic"
      },
      "source": [
        "Queremos multiplicar um número qualquer, $x$, por $2$ e somar com $3$, assim, a função em Python pode ser escrita dessa forma:"
      ]
    },
    {
      "cell_type": "code",
      "execution_count": null,
      "id": "MBSbLPC1gBRK",
      "metadata": {
        "id": "MBSbLPC1gBRK"
      },
      "outputs": [],
      "source": [
        "def linear(x):\n",
        "  return 2 * x + 3"
      ]
    },
    {
      "cell_type": "code",
      "execution_count": null,
      "id": "VJopsszOgoVH",
      "metadata": {
        "id": "VJopsszOgoVH"
      },
      "outputs": [],
      "source": [
        "linear(1)"
      ]
    },
    {
      "cell_type": "code",
      "execution_count": null,
      "id": "4jssW258gqW6",
      "metadata": {
        "id": "4jssW258gqW6"
      },
      "outputs": [],
      "source": [
        "linear(2)"
      ]
    },
    {
      "cell_type": "markdown",
      "id": "wi2WWGLQg0nm",
      "metadata": {
        "id": "wi2WWGLQg0nm"
      },
      "source": [
        "Como posso calcular a tabuada de um número onde tal número é o dado de entrada? Veja:"
      ]
    },
    {
      "cell_type": "code",
      "execution_count": null,
      "id": "TleJvFmVgrlC",
      "metadata": {
        "id": "TleJvFmVgrlC"
      },
      "outputs": [],
      "source": [
        "def tabuada_num(num):\n",
        "  for n in range(1, 11):\n",
        "    print(f'{num} x {n} = {num * n}')"
      ]
    },
    {
      "cell_type": "code",
      "execution_count": null,
      "id": "QuA3S-XHhado",
      "metadata": {
        "id": "QuA3S-XHhado"
      },
      "outputs": [],
      "source": [
        "tabuada_num(7)"
      ]
    },
    {
      "cell_type": "code",
      "execution_count": null,
      "id": "OXe2ooXYhcfL",
      "metadata": {
        "id": "OXe2ooXYhcfL"
      },
      "outputs": [],
      "source": [
        "tabuada_num(13)"
      ]
    },
    {
      "cell_type": "code",
      "execution_count": null,
      "id": "J5_5dzauhnuL",
      "metadata": {
        "id": "J5_5dzauhnuL"
      },
      "outputs": [],
      "source": [
        "tabuada_num(1.5)"
      ]
    }
  ],
  "metadata": {
    "colab": {
      "collapsed_sections": [
        "73b9a5e9-5f6e-4efd-85cd-2b9b9a5046fd",
        "1866f7bf-71ef-4103-8f7e-ba58530b3423",
        "44c010d1-bab6-47ba-86e1-28841ea9f804",
        "0a4b953c-63b8-415f-835b-45800c2da387",
        "35f4ec4b-0bf5-4ae4-9399-ac3292502955",
        "7568db13-73d4-47f5-b761-5749c8072af7",
        "21f57cb2-1f27-459b-85bb-83ea0d332b1b",
        "Qlu0Zl66LVte",
        "63CRIB2uWAHg",
        "A3FIyk7nXhNf",
        "tM7k-_rflN6K",
        "gGYFsf-AufRo",
        "Wq4YGbAyvey_",
        "n8EVK0BL6Dm5",
        "ihDofvFr6134",
        "rithDLMl69Dz",
        "3NBDdwDKVXpR",
        "7U8G-ES-byGw",
        "kKsjIAsfknFl",
        "K_q4wD3AmMD2",
        "-2WWqVAQoC_5",
        "E0w7zyhR3sQe",
        "ftXnndi66ili",
        "5DaLH2okk_Zx",
        "oUF3Y-qhowOZ",
        "qBDx7NU5vXta",
        "luEnB6QfWKle",
        "4zv5WKI8DVI2",
        "YboWZPQRkXw0",
        "xQ1iAqo-yI6r",
        "O7-b81u2ZJMT",
        "TuLzyZ9weL7M"
      ],
      "provenance": [],
      "include_colab_link": true
    },
    "kernelspec": {
      "display_name": "Python 3 (ipykernel)",
      "language": "python",
      "name": "python3"
    },
    "language_info": {
      "codemirror_mode": {
        "name": "ipython",
        "version": 3
      },
      "file_extension": ".py",
      "mimetype": "text/x-python",
      "name": "python",
      "nbconvert_exporter": "python",
      "pygments_lexer": "ipython3",
      "version": "3.12.4"
    }
  },
  "nbformat": 4,
  "nbformat_minor": 5
}